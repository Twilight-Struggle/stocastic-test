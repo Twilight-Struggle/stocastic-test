{
  "nbformat": 4,
  "nbformat_minor": 0,
  "metadata": {
    "celltoolbar": "Raw Cell Format",
    "kernelspec": {
      "display_name": "Python 3",
      "language": "python",
      "name": "python3"
    },
    "language_info": {
      "codemirror_mode": {
        "name": "ipython",
        "version": 3
      },
      "file_extension": ".py",
      "mimetype": "text/x-python",
      "name": "python",
      "nbconvert_exporter": "python",
      "pygments_lexer": "ipython3",
      "version": "3.7.9"
    },
    "colab": {
      "name": "ch08_Classification.ipynb",
      "provenance": [],
      "collapsed_sections": [],
      "toc_visible": true,
      "include_colab_link": true
    }
  },
  "cells": [
    {
      "cell_type": "markdown",
      "metadata": {
        "id": "view-in-github",
        "colab_type": "text"
      },
      "source": [
        "<a href=\"https://colab.research.google.com/github/dsk-yshkw/DataDrivenFinance/blob/main/ch08_Classification.ipynb\" target=\"_parent\"><img src=\"https://colab.research.google.com/assets/colab-badge.svg\" alt=\"Open In Colab\"/></a>"
      ]
    },
    {
      "cell_type": "markdown",
      "metadata": {
        "id": "0lXe3enS1SyX"
      },
      "source": [
        "# ロジスティック回帰"
      ]
    },
    {
      "cell_type": "code",
      "metadata": {
        "id": "d1YigYm_1SyY"
      },
      "source": [
        "import numpy as np\n",
        "import matplotlib.pyplot as plt\n",
        "import pandas as pd"
      ],
      "execution_count": null,
      "outputs": []
    },
    {
      "cell_type": "markdown",
      "source": [
        "## yfinanceからデータを取得する場合"
      ],
      "metadata": {
        "id": "LZ_BOKESr6ty"
      }
    },
    {
      "cell_type": "code",
      "metadata": {
        "colab": {
          "base_uri": "https://localhost:8080/"
        },
        "id": "BWWBntiU1SyZ",
        "outputId": "3f7fb90a-a4e3-4859-aed3-d0b090b3c4ca"
      },
      "source": [
        "!pip install yfinance"
      ],
      "execution_count": null,
      "outputs": [
        {
          "output_type": "stream",
          "name": "stdout",
          "text": [
            "Looking in indexes: https://pypi.org/simple, https://us-python.pkg.dev/colab-wheels/public/simple/\n",
            "Collecting yfinance\n",
            "  Downloading yfinance-0.1.70-py2.py3-none-any.whl (26 kB)\n",
            "Requirement already satisfied: multitasking>=0.0.7 in /usr/local/lib/python3.7/dist-packages (from yfinance) (0.0.10)\n",
            "Requirement already satisfied: numpy>=1.15 in /usr/local/lib/python3.7/dist-packages (from yfinance) (1.21.6)\n",
            "Collecting requests>=2.26\n",
            "  Downloading requests-2.28.0-py3-none-any.whl (62 kB)\n",
            "\u001b[K     |████████████████████████████████| 62 kB 557 kB/s \n",
            "\u001b[?25hRequirement already satisfied: pandas>=0.24.0 in /usr/local/lib/python3.7/dist-packages (from yfinance) (1.3.5)\n",
            "Collecting lxml>=4.5.1\n",
            "  Downloading lxml-4.9.0-cp37-cp37m-manylinux_2_17_x86_64.manylinux2014_x86_64.manylinux_2_24_x86_64.whl (6.4 MB)\n",
            "\u001b[K     |████████████████████████████████| 6.4 MB 8.2 MB/s \n",
            "\u001b[?25hRequirement already satisfied: python-dateutil>=2.7.3 in /usr/local/lib/python3.7/dist-packages (from pandas>=0.24.0->yfinance) (2.8.2)\n",
            "Requirement already satisfied: pytz>=2017.3 in /usr/local/lib/python3.7/dist-packages (from pandas>=0.24.0->yfinance) (2022.1)\n",
            "Requirement already satisfied: six>=1.5 in /usr/local/lib/python3.7/dist-packages (from python-dateutil>=2.7.3->pandas>=0.24.0->yfinance) (1.15.0)\n",
            "Requirement already satisfied: certifi>=2017.4.17 in /usr/local/lib/python3.7/dist-packages (from requests>=2.26->yfinance) (2022.5.18.1)\n",
            "Requirement already satisfied: charset-normalizer~=2.0.0 in /usr/local/lib/python3.7/dist-packages (from requests>=2.26->yfinance) (2.0.12)\n",
            "Requirement already satisfied: urllib3<1.27,>=1.21.1 in /usr/local/lib/python3.7/dist-packages (from requests>=2.26->yfinance) (1.24.3)\n",
            "Requirement already satisfied: idna<4,>=2.5 in /usr/local/lib/python3.7/dist-packages (from requests>=2.26->yfinance) (2.10)\n",
            "Installing collected packages: requests, lxml, yfinance\n",
            "  Attempting uninstall: requests\n",
            "    Found existing installation: requests 2.23.0\n",
            "    Uninstalling requests-2.23.0:\n",
            "      Successfully uninstalled requests-2.23.0\n",
            "  Attempting uninstall: lxml\n",
            "    Found existing installation: lxml 4.2.6\n",
            "    Uninstalling lxml-4.2.6:\n",
            "      Successfully uninstalled lxml-4.2.6\n",
            "\u001b[31mERROR: pip's dependency resolver does not currently take into account all the packages that are installed. This behaviour is the source of the following dependency conflicts.\n",
            "google-colab 1.0.0 requires requests~=2.23.0, but you have requests 2.28.0 which is incompatible.\n",
            "datascience 0.10.6 requires folium==0.2.1, but you have folium 0.8.3 which is incompatible.\u001b[0m\n",
            "Successfully installed lxml-4.9.0 requests-2.28.0 yfinance-0.1.70\n"
          ]
        }
      ]
    },
    {
      "cell_type": "code",
      "metadata": {
        "id": "grrIwZd41SyZ"
      },
      "source": [
        "from pandas_datareader import data as pdr\n",
        "\n",
        "import yfinance as yf\n",
        "yf.pdr_override() "
      ],
      "execution_count": null,
      "outputs": []
    },
    {
      "cell_type": "code",
      "metadata": {
        "id": "ijDRYUZ41Syb",
        "colab": {
          "base_uri": "https://localhost:8080/"
        },
        "outputId": "8d7a9024-4a72-437c-8b78-cdb2e420a86e"
      },
      "source": [
        "target = '9983.T'\n",
        "symbols = ('^N225',target)\n",
        "df = pd.DataFrame()\n",
        "for symbol in symbols:\n",
        "    data = pdr.get_data_yahoo(symbol, \n",
        "                              start=\"2016-03-30\", \n",
        "                              end=\"2021-03-30\")['Adj Close']\n",
        "    data.name = symbol\n",
        "    df = pd.concat([df,data],axis = 1)\n",
        "\n",
        "for i in np.arange(len(df.index)):\n",
        "    df.index.values[i] = str(df.index[i].date())\n",
        "\n",
        "df.index = df.index.rename('Date')"
      ],
      "execution_count": null,
      "outputs": [
        {
          "output_type": "stream",
          "name": "stdout",
          "text": [
            "[*********************100%***********************]  1 of 1 completed\n",
            "[*********************100%***********************]  1 of 1 completed\n"
          ]
        }
      ]
    },
    {
      "cell_type": "markdown",
      "metadata": {
        "id": "ZN-6FOeIm728"
      },
      "source": [
        "## CSVからのデータ取得"
      ]
    },
    {
      "cell_type": "code",
      "metadata": {
        "id": "ZwoCyV571Syc"
      },
      "source": [
        "# GitHubからダウンロードしたzipファイルを展開し，そのままローカルで使う場合\n",
        "df = pd.read_csv(\"ch08_stock_price.csv\",index_col = 'Date')\n",
        "\n",
        "# Google Colabを使用し，sample_dataフォルダにcsvファイルを置いた場合\n",
        "#df = pd.read_csv(\"sample_data/ch08_stock_price.csv\",index_col = 'Date')\n",
        "\n",
        "# Google ColabとGoogle Driveを併用し，MyDrive下に作った以下のようなサブフォルダにcsvファイルを置いた場合\n",
        "#df = pd.read_csv(\"drive/MyDrive/Colab Notebooks/Kyoritsu/ch08_stock_price.csv\",index_col = 'Date')\n",
        "\n"
      ],
      "execution_count": null,
      "outputs": []
    },
    {
      "cell_type": "markdown",
      "source": [
        "## データの整理"
      ],
      "metadata": {
        "id": "hsONhinfsHKV"
      }
    },
    {
      "cell_type": "raw",
      "metadata": {
        "raw_mimetype": "text/latex",
        "id": "vXfGcgXy1Syd"
      },
      "source": [
        "欠損値の処理もしておこう．"
      ]
    },
    {
      "cell_type": "code",
      "metadata": {
        "id": "7PNF4k5c1Syd",
        "colab": {
          "base_uri": "https://localhost:8080/",
          "height": 450
        },
        "outputId": "333b1178-a78f-4f61-e994-da8c803c32e9"
      },
      "source": [
        "df = df.dropna()\n",
        "df"
      ],
      "execution_count": null,
      "outputs": [
        {
          "output_type": "execute_result",
          "data": {
            "text/html": [
              "<div>\n",
              "<style scoped>\n",
              "    .dataframe tbody tr th:only-of-type {\n",
              "        vertical-align: middle;\n",
              "    }\n",
              "\n",
              "    .dataframe tbody tr th {\n",
              "        vertical-align: top;\n",
              "    }\n",
              "\n",
              "    .dataframe thead th {\n",
              "        text-align: right;\n",
              "    }\n",
              "</style>\n",
              "<table border=\"1\" class=\"dataframe\">\n",
              "  <thead>\n",
              "    <tr style=\"text-align: right;\">\n",
              "      <th></th>\n",
              "      <th>^N225</th>\n",
              "      <th>9983.T</th>\n",
              "    </tr>\n",
              "    <tr>\n",
              "      <th>Date</th>\n",
              "      <th></th>\n",
              "      <th></th>\n",
              "    </tr>\n",
              "  </thead>\n",
              "  <tbody>\n",
              "    <tr>\n",
              "      <th>2016-03-30</th>\n",
              "      <td>16878.960938</td>\n",
              "      <td>34949.539062</td>\n",
              "    </tr>\n",
              "    <tr>\n",
              "      <th>2016-03-31</th>\n",
              "      <td>16758.669922</td>\n",
              "      <td>34489.929688</td>\n",
              "    </tr>\n",
              "    <tr>\n",
              "      <th>2016-04-01</th>\n",
              "      <td>16164.160156</td>\n",
              "      <td>32622.761719</td>\n",
              "    </tr>\n",
              "    <tr>\n",
              "      <th>2016-04-04</th>\n",
              "      <td>16123.269531</td>\n",
              "      <td>31990.794922</td>\n",
              "    </tr>\n",
              "    <tr>\n",
              "      <th>2016-04-05</th>\n",
              "      <td>15732.820312</td>\n",
              "      <td>30659.839844</td>\n",
              "    </tr>\n",
              "    <tr>\n",
              "      <th>...</th>\n",
              "      <td>...</td>\n",
              "      <td>...</td>\n",
              "    </tr>\n",
              "    <tr>\n",
              "      <th>2021-03-24</th>\n",
              "      <td>28405.519531</td>\n",
              "      <td>83740.000000</td>\n",
              "    </tr>\n",
              "    <tr>\n",
              "      <th>2021-03-25</th>\n",
              "      <td>28729.880859</td>\n",
              "      <td>84900.000000</td>\n",
              "    </tr>\n",
              "    <tr>\n",
              "      <th>2021-03-26</th>\n",
              "      <td>29176.699219</td>\n",
              "      <td>85650.000000</td>\n",
              "    </tr>\n",
              "    <tr>\n",
              "      <th>2021-03-29</th>\n",
              "      <td>29384.519531</td>\n",
              "      <td>86390.000000</td>\n",
              "    </tr>\n",
              "    <tr>\n",
              "      <th>2021-03-30</th>\n",
              "      <td>29432.699219</td>\n",
              "      <td>89130.000000</td>\n",
              "    </tr>\n",
              "  </tbody>\n",
              "</table>\n",
              "<p>1223 rows × 2 columns</p>\n",
              "</div>"
            ],
            "text/plain": [
              "                   ^N225        9983.T\n",
              "Date                                  \n",
              "2016-03-30  16878.960938  34949.539062\n",
              "2016-03-31  16758.669922  34489.929688\n",
              "2016-04-01  16164.160156  32622.761719\n",
              "2016-04-04  16123.269531  31990.794922\n",
              "2016-04-05  15732.820312  30659.839844\n",
              "...                  ...           ...\n",
              "2021-03-24  28405.519531  83740.000000\n",
              "2021-03-25  28729.880859  84900.000000\n",
              "2021-03-26  29176.699219  85650.000000\n",
              "2021-03-29  29384.519531  86390.000000\n",
              "2021-03-30  29432.699219  89130.000000\n",
              "\n",
              "[1223 rows x 2 columns]"
            ]
          },
          "metadata": {},
          "execution_count": 7
        }
      ]
    },
    {
      "cell_type": "code",
      "metadata": {
        "id": "8Vm76Os11Sye"
      },
      "source": [
        "df_rate = pd.DataFrame()\n",
        "df_rate['^N225 1 day return'] = df['^N225'].pct_change()\n",
        "df_rate['9983 1 day return'] = df['9983.T'].pct_change()\n",
        "df_rate = df_rate.dropna()"
      ],
      "execution_count": null,
      "outputs": []
    },
    {
      "cell_type": "code",
      "metadata": {
        "id": "TLUYs9q_1Sye",
        "colab": {
          "base_uri": "https://localhost:8080/",
          "height": 450
        },
        "outputId": "9856f10d-77bd-4632-fab4-f35972cfaaa6"
      },
      "source": [
        "df_rate['diff'] =  df_rate['9983 1 day return'].shift(-1)\\\n",
        "                - df_rate['^N225 1 day return'].shift(-1)\n",
        "df_rate['target'] = (df_rate['diff'] > 0).astype(int)\n",
        "df_rate = df_rate.dropna()\n",
        "df_rate"
      ],
      "execution_count": null,
      "outputs": [
        {
          "output_type": "execute_result",
          "data": {
            "text/html": [
              "<div>\n",
              "<style scoped>\n",
              "    .dataframe tbody tr th:only-of-type {\n",
              "        vertical-align: middle;\n",
              "    }\n",
              "\n",
              "    .dataframe tbody tr th {\n",
              "        vertical-align: top;\n",
              "    }\n",
              "\n",
              "    .dataframe thead th {\n",
              "        text-align: right;\n",
              "    }\n",
              "</style>\n",
              "<table border=\"1\" class=\"dataframe\">\n",
              "  <thead>\n",
              "    <tr style=\"text-align: right;\">\n",
              "      <th></th>\n",
              "      <th>^N225 1 day return</th>\n",
              "      <th>9983 1 day return</th>\n",
              "      <th>diff</th>\n",
              "      <th>target</th>\n",
              "    </tr>\n",
              "    <tr>\n",
              "      <th>Date</th>\n",
              "      <th></th>\n",
              "      <th></th>\n",
              "      <th></th>\n",
              "      <th></th>\n",
              "    </tr>\n",
              "  </thead>\n",
              "  <tbody>\n",
              "    <tr>\n",
              "      <th>2016-03-31</th>\n",
              "      <td>-0.007127</td>\n",
              "      <td>-0.013151</td>\n",
              "      <td>-0.018662</td>\n",
              "      <td>0</td>\n",
              "    </tr>\n",
              "    <tr>\n",
              "      <th>2016-04-01</th>\n",
              "      <td>-0.035475</td>\n",
              "      <td>-0.054137</td>\n",
              "      <td>-0.016842</td>\n",
              "      <td>0</td>\n",
              "    </tr>\n",
              "    <tr>\n",
              "      <th>2016-04-04</th>\n",
              "      <td>-0.002530</td>\n",
              "      <td>-0.019372</td>\n",
              "      <td>-0.017388</td>\n",
              "      <td>0</td>\n",
              "    </tr>\n",
              "    <tr>\n",
              "      <th>2016-04-05</th>\n",
              "      <td>-0.024217</td>\n",
              "      <td>-0.041604</td>\n",
              "      <td>-0.010758</td>\n",
              "      <td>0</td>\n",
              "    </tr>\n",
              "    <tr>\n",
              "      <th>2016-04-06</th>\n",
              "      <td>-0.001110</td>\n",
              "      <td>-0.011867</td>\n",
              "      <td>-0.038540</td>\n",
              "      <td>0</td>\n",
              "    </tr>\n",
              "    <tr>\n",
              "      <th>...</th>\n",
              "      <td>...</td>\n",
              "      <td>...</td>\n",
              "      <td>...</td>\n",
              "      <td>...</td>\n",
              "    </tr>\n",
              "    <tr>\n",
              "      <th>2021-03-23</th>\n",
              "      <td>-0.006109</td>\n",
              "      <td>-0.001036</td>\n",
              "      <td>-0.014892</td>\n",
              "      <td>0</td>\n",
              "    </tr>\n",
              "    <tr>\n",
              "      <th>2021-03-24</th>\n",
              "      <td>-0.020361</td>\n",
              "      <td>-0.035253</td>\n",
              "      <td>0.002433</td>\n",
              "      <td>1</td>\n",
              "    </tr>\n",
              "    <tr>\n",
              "      <th>2021-03-25</th>\n",
              "      <td>0.011419</td>\n",
              "      <td>0.013852</td>\n",
              "      <td>-0.006718</td>\n",
              "      <td>0</td>\n",
              "    </tr>\n",
              "    <tr>\n",
              "      <th>2021-03-26</th>\n",
              "      <td>0.015552</td>\n",
              "      <td>0.008834</td>\n",
              "      <td>0.001517</td>\n",
              "      <td>1</td>\n",
              "    </tr>\n",
              "    <tr>\n",
              "      <th>2021-03-29</th>\n",
              "      <td>0.007123</td>\n",
              "      <td>0.008640</td>\n",
              "      <td>0.030077</td>\n",
              "      <td>1</td>\n",
              "    </tr>\n",
              "  </tbody>\n",
              "</table>\n",
              "<p>1221 rows × 4 columns</p>\n",
              "</div>"
            ],
            "text/plain": [
              "            ^N225 1 day return  9983 1 day return      diff  target\n",
              "Date                                                               \n",
              "2016-03-31           -0.007127          -0.013151 -0.018662       0\n",
              "2016-04-01           -0.035475          -0.054137 -0.016842       0\n",
              "2016-04-04           -0.002530          -0.019372 -0.017388       0\n",
              "2016-04-05           -0.024217          -0.041604 -0.010758       0\n",
              "2016-04-06           -0.001110          -0.011867 -0.038540       0\n",
              "...                        ...                ...       ...     ...\n",
              "2021-03-23           -0.006109          -0.001036 -0.014892       0\n",
              "2021-03-24           -0.020361          -0.035253  0.002433       1\n",
              "2021-03-25            0.011419           0.013852 -0.006718       0\n",
              "2021-03-26            0.015552           0.008834  0.001517       1\n",
              "2021-03-29            0.007123           0.008640  0.030077       1\n",
              "\n",
              "[1221 rows x 4 columns]"
            ]
          },
          "metadata": {},
          "execution_count": 9
        }
      ]
    },
    {
      "cell_type": "code",
      "metadata": {
        "id": "M-zqfk2Y1Sye"
      },
      "source": [
        "X = df_rate['9983 1 day return']\n",
        "y = df_rate['target']"
      ],
      "execution_count": null,
      "outputs": []
    },
    {
      "cell_type": "code",
      "metadata": {
        "id": "UuLktW-S1Syf"
      },
      "source": [
        "from sklearn.model_selection import train_test_split"
      ],
      "execution_count": null,
      "outputs": []
    },
    {
      "cell_type": "code",
      "metadata": {
        "id": "gIvfqtWv1Syf"
      },
      "source": [
        "val_size = 0.2\n",
        "\n",
        "X_train,X_val,y_train,y_val = train_test_split(\n",
        "    X,y,test_size = val_size,shuffle = False)"
      ],
      "execution_count": null,
      "outputs": []
    },
    {
      "cell_type": "code",
      "metadata": {
        "id": "RAfzgvQF1Syg",
        "colab": {
          "base_uri": "https://localhost:8080/"
        },
        "outputId": "4ddad5e9-3d98-41ec-95d9-8aaaa28327d5"
      },
      "source": [
        "#import numpy as np\n",
        "\n",
        "print(np.sum(y_train[y_train>0])/len(y_train))"
      ],
      "execution_count": null,
      "outputs": [
        {
          "output_type": "stream",
          "name": "stdout",
          "text": [
            "0.4948770491803279\n"
          ]
        }
      ]
    },
    {
      "cell_type": "markdown",
      "source": [
        "## ロジスティック回帰の実装\n"
      ],
      "metadata": {
        "id": "wYCuEN9-sQBq"
      }
    },
    {
      "cell_type": "code",
      "metadata": {
        "id": "G6UXXci91Syg"
      },
      "source": [
        "from sklearn import linear_model"
      ],
      "execution_count": null,
      "outputs": []
    },
    {
      "cell_type": "code",
      "metadata": {
        "id": "StvgHVrp1Syg",
        "colab": {
          "base_uri": "https://localhost:8080/"
        },
        "outputId": "c3b9fca2-b6e6-4ced-852b-2ea78d27c8c0"
      },
      "source": [
        "log_reg = linear_model.LogisticRegression(penalty = 'none')\n",
        "log_reg.fit(X_train.values.reshape(-1,1),y_train.values)"
      ],
      "execution_count": null,
      "outputs": [
        {
          "output_type": "execute_result",
          "data": {
            "text/plain": [
              "LogisticRegression(penalty='none')"
            ]
          },
          "metadata": {},
          "execution_count": 15
        }
      ]
    },
    {
      "cell_type": "code",
      "metadata": {
        "id": "q9r8UpIJ1Syh",
        "colab": {
          "base_uri": "https://localhost:8080/"
        },
        "outputId": "7b028516-40da-47ec-e8be-4371899dfa6b"
      },
      "source": [
        "print(log_reg.coef_)\n",
        "print(log_reg.intercept_)"
      ],
      "execution_count": null,
      "outputs": [
        {
          "output_type": "stream",
          "name": "stdout",
          "text": [
            "[[-4.21447895]]\n",
            "[-0.01861724]\n"
          ]
        }
      ]
    },
    {
      "cell_type": "code",
      "metadata": {
        "id": "K8AJLbcm1Syh",
        "colab": {
          "base_uri": "https://localhost:8080/"
        },
        "outputId": "c0c70d01-1092-416b-c3e8-0a18b4a8ac16"
      },
      "source": [
        "log_reg.predict_proba([[0.3]])"
      ],
      "execution_count": null,
      "outputs": [
        {
          "output_type": "execute_result",
          "data": {
            "text/plain": [
              "array([[0.78295337, 0.21704663]])"
            ]
          },
          "metadata": {},
          "execution_count": 17
        }
      ]
    },
    {
      "cell_type": "code",
      "metadata": {
        "id": "-s9tk3NJ1Syi",
        "colab": {
          "base_uri": "https://localhost:8080/"
        },
        "outputId": "85b0b973-3b0b-4d42-9230-1f67b8f4783b"
      },
      "source": [
        "log_reg.predict([[0.3]])"
      ],
      "execution_count": null,
      "outputs": [
        {
          "output_type": "execute_result",
          "data": {
            "text/plain": [
              "array([0])"
            ]
          },
          "metadata": {},
          "execution_count": 18
        }
      ]
    },
    {
      "cell_type": "code",
      "metadata": {
        "id": "T3u_EMQF1Syi",
        "colab": {
          "base_uri": "https://localhost:8080/"
        },
        "outputId": "91f22a88-468f-48f5-9a08-5fb81ca39db2"
      },
      "source": [
        "print(log_reg.predict([[-0.5]]))\n"
      ],
      "execution_count": null,
      "outputs": [
        {
          "output_type": "stream",
          "name": "stdout",
          "text": [
            "[1]\n"
          ]
        }
      ]
    },
    {
      "cell_type": "code",
      "metadata": {
        "id": "pibe0KxG1Syk"
      },
      "source": [
        "y_train_pred = log_reg.predict(X_train.values.reshape(-1,1))"
      ],
      "execution_count": null,
      "outputs": []
    },
    {
      "cell_type": "code",
      "metadata": {
        "id": "G-iZlRTV1Syk",
        "colab": {
          "base_uri": "https://localhost:8080/"
        },
        "outputId": "15c31ac5-32d4-4178-ea65-0773d51b727b"
      },
      "source": [
        "from sklearn.metrics import accuracy_score\n",
        "\n",
        "print('accuracy score for train data', accuracy_score(y_train,y_train_pred))"
      ],
      "execution_count": null,
      "outputs": [
        {
          "output_type": "stream",
          "name": "stdout",
          "text": [
            "accuracy score for train data 0.5266393442622951\n"
          ]
        }
      ]
    },
    {
      "cell_type": "markdown",
      "source": [
        "## 日経平均のリターンも特徴量に加える"
      ],
      "metadata": {
        "id": "4uYugTwRq5iJ"
      }
    },
    {
      "cell_type": "code",
      "metadata": {
        "id": "xOsda9F01Sym"
      },
      "source": [
        "X = df_rate[df_rate.columns[(df_rate.columns != 'diff')\n",
        "                            & (df_rate.columns != 'target')]]\n",
        "y = df_rate['target']"
      ],
      "execution_count": null,
      "outputs": []
    },
    {
      "cell_type": "code",
      "metadata": {
        "id": "1kUg091v1Sym",
        "colab": {
          "base_uri": "https://localhost:8080/"
        },
        "outputId": "1678b2ad-71ae-4ad2-a693-89ecb2e63c02"
      },
      "source": [
        "val_size = 0.2\n",
        "\n",
        "X_train,X_val,y_train,y_val\\\n",
        "    =train_test_split(X,y,test_size = val_size,shuffle = False)\n",
        "\n",
        "\n",
        "\n",
        "log_reg = linear_model.LogisticRegression(\n",
        "    penalty = 'none')\n",
        "log_reg.fit(X_train,y_train)\n",
        "y_train_pred = log_reg.predict(X_train)\n",
        "\n",
        "print('accuracy score for train data', accuracy_score(y_train,y_train_pred))\n"
      ],
      "execution_count": null,
      "outputs": [
        {
          "output_type": "stream",
          "name": "stdout",
          "text": [
            "accuracy score for train data 0.5204918032786885\n"
          ]
        }
      ]
    },
    {
      "cell_type": "markdown",
      "source": [
        "## さまざまなインターバルのリターンを特徴量に加える"
      ],
      "metadata": {
        "id": "JHA-JbY4rAdN"
      }
    },
    {
      "cell_type": "code",
      "metadata": {
        "id": "UcbCumuR1Sym"
      },
      "source": [
        "diffs = [2,3,4,5,6,7,8,9,10,11,12,13,14,15,16,17,18,19,20,40,60,80,100,120,\n",
        "         140,160,180,200,220,240]\n",
        "\n",
        "for diff in diffs:\n",
        "    df_rate['^N225 ' + str(diff) + ' days return']\\\n",
        "        = df['^N225'].pct_change(diff)\n",
        "    df_rate['9983 ' + str(diff) + ' days return']\\\n",
        "        = df['9983.T'].pct_change(diff)\n",
        "\n",
        "df_rate = df_rate.dropna(how = 'any')\n",
        "\n",
        "X = df_rate[df_rate.columns[(df_rate.columns != 'diff')\n",
        "                            & (df_rate.columns != 'target')]]\n",
        "y = df_rate['target']\n",
        "X\n",
        "\n",
        "val_size = 0.2\n",
        "\n",
        "X_train,X_val,y_train,y_val \\\n",
        "    = train_test_split(X,y,test_size = val_size,shuffle = False)\n"
      ],
      "execution_count": null,
      "outputs": []
    },
    {
      "cell_type": "code",
      "metadata": {
        "id": "Xfp4aJGA1Sym",
        "colab": {
          "base_uri": "https://localhost:8080/"
        },
        "outputId": "cbb3cec8-ff12-4df8-fea0-8d6224171b5a"
      },
      "source": [
        "log_reg = linear_model.LogisticRegression(penalty = 'none', max_iter = 493)\n",
        "log_reg.fit(X_train,y_train)\n",
        "\n",
        "print('coef',log_reg.coef_) \n",
        "print('intercept',log_reg.intercept_) "
      ],
      "execution_count": null,
      "outputs": [
        {
          "output_type": "stream",
          "name": "stdout",
          "text": [
            "coef [[-1.38155769e+01 -7.14146047e-01  1.25677128e+01 -7.09906635e+00\n",
            "  -7.66096092e+00 -2.33352677e+00 -8.15548901e+00  1.38430843e+01\n",
            "   1.46356334e+01 -7.53817030e+00  1.07559583e+00 -5.93126077e+00\n",
            "   2.31084088e+00  1.14426900e+00 -2.85659104e+01  1.54084896e+01\n",
            "   3.72422776e+01 -1.69491174e+01 -1.64740148e+01  9.03074025e+00\n",
            "  -1.53535937e+00 -6.94649031e+00  2.61846917e+00 -1.72945696e-01\n",
            "  -1.32240401e+01  6.26940286e+00 -2.20619315e+00  2.40437704e+00\n",
            "   3.43559775e+01 -1.41055687e+01 -2.52240523e+01  2.85409760e+00\n",
            "   8.18978441e+00  5.69867107e+00  3.07578829e+00 -4.85676394e+00\n",
            "  -6.58171114e+00  6.46336012e-01  1.87691751e+00  1.38787150e+00\n",
            "   2.36149995e+00  9.79487801e-02 -3.32353054e+00  2.71585776e+00\n",
            "   2.17267330e+00 -1.94978164e-01 -2.86066113e-01 -3.90450347e+00\n",
            "   2.49958044e+00  3.20689864e+00 -5.51518616e+00 -9.97589902e-02\n",
            "   1.66230062e+00  6.21450961e-01 -1.89137543e-01 -2.51930970e-01\n",
            "   7.13134565e-01 -1.05850352e+00 -7.57579145e+00 -3.17307930e-02\n",
            "   6.50200831e+00 -9.33965138e-02]]\n",
            "intercept [0.17594185]\n"
          ]
        },
        {
          "output_type": "stream",
          "name": "stderr",
          "text": [
            "/usr/local/lib/python3.7/dist-packages/sklearn/linear_model/_logistic.py:818: ConvergenceWarning: lbfgs failed to converge (status=1):\n",
            "STOP: TOTAL NO. of ITERATIONS REACHED LIMIT.\n",
            "\n",
            "Increase the number of iterations (max_iter) or scale the data as shown in:\n",
            "    https://scikit-learn.org/stable/modules/preprocessing.html\n",
            "Please also refer to the documentation for alternative solver options:\n",
            "    https://scikit-learn.org/stable/modules/linear_model.html#logistic-regression\n",
            "  extra_warning_msg=_LOGISTIC_SOLVER_CONVERGENCE_MSG,\n"
          ]
        }
      ]
    },
    {
      "cell_type": "code",
      "metadata": {
        "id": "J0xLXR7l1Syn",
        "colab": {
          "base_uri": "https://localhost:8080/"
        },
        "outputId": "6380ebc3-85eb-41d5-aa2a-b81c806ec247"
      },
      "source": [
        "y_train_pred = log_reg.predict(X_train)\n",
        "print('Accuracy score:', accuracy_score(y_train,y_train_pred))"
      ],
      "execution_count": null,
      "outputs": [
        {
          "output_type": "stream",
          "name": "stdout",
          "text": [
            "Accuracy score: 0.6050955414012739\n"
          ]
        }
      ]
    },
    {
      "cell_type": "markdown",
      "metadata": {
        "id": "gespzNWO1Syn"
      },
      "source": [
        "## スケーリング"
      ]
    },
    {
      "cell_type": "code",
      "metadata": {
        "id": "F_IZ_Thh1Syn"
      },
      "source": [
        "from sklearn import preprocessing\n",
        "\n",
        "scaler_ss = preprocessing.StandardScaler()\n",
        "scaler_mm = preprocessing.MinMaxScaler(feature_range=(-1,1))\n",
        "X_train_scaled_ss = scaler_ss.fit_transform(X_train)\n",
        "X_train_scaled_mm = scaler_mm.fit_transform(X_train)"
      ],
      "execution_count": null,
      "outputs": []
    },
    {
      "cell_type": "code",
      "metadata": {
        "id": "PCKe_Hku1Syn",
        "colab": {
          "base_uri": "https://localhost:8080/"
        },
        "outputId": "8a34c74c-ea61-4ba4-d3e7-f5188eecee33"
      },
      "source": [
        "log_reg_ss = linear_model.LogisticRegression(penalty = 'none',max_iter = 493)\n",
        "log_reg_ss.fit(X_train_scaled_ss,y_train)\n",
        "y_train_pred_ss = log_reg_ss.predict(X_train_scaled_ss)\n",
        "print('Accuracy score:', accuracy_score(y_train,y_train_pred_ss))\n",
        "\n",
        "log_reg_mm = linear_model.LogisticRegression(penalty = 'none',max_iter = 493)\n",
        "log_reg_mm.fit(X_train_scaled_mm,y_train)\n",
        "y_train_pred_mm = log_reg_ss.predict(X_train_scaled_mm)\n",
        "print('Accuracy score:', accuracy_score(y_train,y_train_pred_mm))\n"
      ],
      "execution_count": null,
      "outputs": [
        {
          "output_type": "stream",
          "name": "stdout",
          "text": [
            "Accuracy score: 0.6050955414012739\n",
            "Accuracy score: 0.6114649681528662\n"
          ]
        }
      ]
    },
    {
      "cell_type": "markdown",
      "metadata": {
        "id": "n_UZsTxX1Syn"
      },
      "source": [
        "## 正則化"
      ]
    },
    {
      "cell_type": "code",
      "metadata": {
        "id": "jW_I3yP71Syo",
        "colab": {
          "base_uri": "https://localhost:8080/"
        },
        "outputId": "c41d8bd1-010e-44ea-f633-dc166aae8f94"
      },
      "source": [
        "y_val_pred = log_reg.predict(X_val)\n",
        "print('Accuracy score for validation data:', accuracy_score(y_val,y_val_pred))"
      ],
      "execution_count": null,
      "outputs": [
        {
          "output_type": "stream",
          "name": "stdout",
          "text": [
            "Accuracy score for validation data: 0.4720812182741117\n"
          ]
        }
      ]
    },
    {
      "cell_type": "code",
      "metadata": {
        "id": "e1Aisz641Syo",
        "colab": {
          "base_uri": "https://localhost:8080/"
        },
        "outputId": "3a8c9855-67c2-4aa1-a382-5b8d489f461f"
      },
      "source": [
        "X_val_scaled_ss = scaler_ss.fit_transform(X_val)\n",
        "y_val_pred_ss = log_reg_ss.predict(X_val_scaled_ss)\n",
        "\n",
        "X_val_scaled_mm = scaler_mm.fit_transform(X_val)\n",
        "y_val_pred_mm = log_reg_mm.predict(X_val_scaled_ss)\n",
        "\n",
        "print('Accuracy score for validation data, standard scaler:', \n",
        "      accuracy_score(y_val,y_val_pred_ss))\n",
        "print('Accuracy score for validation data, min-max scaler:', \n",
        "      accuracy_score(y_val,y_val_pred_mm))"
      ],
      "execution_count": null,
      "outputs": [
        {
          "output_type": "stream",
          "name": "stdout",
          "text": [
            "Accuracy score for validation data, standard scaler: 0.45685279187817257\n",
            "Accuracy score for validation data, min-max scaler: 0.4720812182741117\n"
          ]
        }
      ]
    },
    {
      "cell_type": "code",
      "metadata": {
        "id": "zzigJQUu1Syo",
        "colab": {
          "base_uri": "https://localhost:8080/"
        },
        "outputId": "bf021d4f-9bc5-46c9-bda9-dad4d8437ffd"
      },
      "source": [
        "log_reg_l2 = linear_model.LogisticRegression()\n",
        "log_reg_l2.fit(X_train_scaled_mm,y_train)\n",
        "\n",
        "y_train_pred_l2 = log_reg_l2.predict(X_train_scaled_mm)\n",
        "y_val_pred_l2 = log_reg_l2.predict(X_val_scaled_mm)\n",
        "\n",
        "print('Accuracy score:', accuracy_score(y_train,y_train_pred_l2))\n",
        "print('Accuracy score:', accuracy_score(y_val,y_val_pred_l2))"
      ],
      "execution_count": null,
      "outputs": [
        {
          "output_type": "stream",
          "name": "stdout",
          "text": [
            "Accuracy score: 0.6012738853503184\n",
            "Accuracy score: 0.4467005076142132\n"
          ]
        }
      ]
    },
    {
      "cell_type": "code",
      "metadata": {
        "id": "WldpoKcQ1Syp"
      },
      "source": [
        "log_reg_l1 = linear_model.LogisticRegression(penalty = 'l1',\n",
        "                                             solver='saga', \n",
        "                                             C = 1)\n",
        "log_reg_l1.fit(X_train,y_train)\n",
        "\n",
        "y_train_pred_l1 = log_reg_l1.predict(X_train)\n",
        "y_val_pred_l1 = log_reg_l1.predict(X_val)"
      ],
      "execution_count": null,
      "outputs": []
    },
    {
      "cell_type": "code",
      "metadata": {
        "id": "rQRWRCiB1Syp",
        "colab": {
          "base_uri": "https://localhost:8080/"
        },
        "outputId": "d2461512-7fbb-411a-ccd2-4aa96d02e5c8"
      },
      "source": [
        "print('coef',log_reg_l1.coef_) \n",
        "print('intercept',log_reg_l1.intercept_) "
      ],
      "execution_count": null,
      "outputs": [
        {
          "output_type": "stream",
          "name": "stdout",
          "text": [
            "coef [[ 0.          0.          0.          0.          0.          0.\n",
            "   0.          0.          0.          0.          0.          0.\n",
            "   0.          0.          0.          0.          0.          0.\n",
            "   0.          0.          0.          0.          0.          0.\n",
            "   0.          0.          0.          0.          0.          0.\n",
            "   0.          0.          0.          0.          0.          0.\n",
            "   0.          0.          0.          0.          0.          0.43537699\n",
            "   0.          0.21361245  0.          0.          0.         -0.39369759\n",
            "   0.          0.48929773  0.          0.          0.          0.\n",
            "   0.          0.          0.         -0.13483496 -0.37003464 -0.98209043\n",
            "   0.          0.46773833]]\n",
            "intercept [0.13993056]\n"
          ]
        }
      ]
    },
    {
      "cell_type": "code",
      "metadata": {
        "id": "3A8V2_N01Syp",
        "colab": {
          "base_uri": "https://localhost:8080/"
        },
        "outputId": "d0ce42be-b684-44da-ef27-b3e6dd4b7014"
      },
      "source": [
        "print('Accuracy score:', accuracy_score(y_train,y_train_pred_l1))\n",
        "print('Accuracy score:', accuracy_score(y_val,y_val_pred_l1))"
      ],
      "execution_count": null,
      "outputs": [
        {
          "output_type": "stream",
          "name": "stdout",
          "text": [
            "Accuracy score: 0.5732484076433121\n",
            "Accuracy score: 0.5177664974619289\n"
          ]
        }
      ]
    },
    {
      "cell_type": "markdown",
      "metadata": {
        "id": "LPS01TaL1Syq"
      },
      "source": [
        "# 多クラス分類 "
      ]
    },
    {
      "cell_type": "markdown",
      "source": [
        "## データの整理"
      ],
      "metadata": {
        "id": "MHeLLjtgsua-"
      }
    },
    {
      "cell_type": "code",
      "metadata": {
        "id": "RE-cQO7o1Syq"
      },
      "source": [
        "df_rate = pd.DataFrame()\n",
        "df_rate['^N225 1 day return'] = df['^N225'].pct_change()\n",
        "df_rate['9983 1 day return'] = df['9983.T'].pct_change()\n",
        "df_rate = df_rate.dropna()\n",
        "\n",
        "df_vol = df_rate['^N225 1 day return'].std()"
      ],
      "execution_count": null,
      "outputs": []
    },
    {
      "cell_type": "code",
      "metadata": {
        "id": "zymZfsuz1Syq",
        "colab": {
          "base_uri": "https://localhost:8080/",
          "height": 572
        },
        "outputId": "d7728187-17e6-4825-cff7-e4950b40264d"
      },
      "source": [
        "df_rate.loc[df_rate['9983 1 day return'].shift(-1) \n",
        "            > df_rate['^N225 1 day return'].shift(-1) + df_vol,\n",
        "            'target'] = 0\n",
        "\n",
        "df_rate.loc[(df_rate['9983 1 day return'].shift(-1) \n",
        "             < df_rate['^N225 1 day return'].shift(-1) + df_vol) \n",
        "            & (df_rate['9983 1 day return'].shift(-1) \n",
        "               > df_rate['^N225 1 day return'].shift(-1) - df_vol),\n",
        "            'target'] = 1\n",
        "\n",
        "df_rate.loc[df_rate['9983 1 day return'].shift(-1) \n",
        "            < df_rate['^N225 1 day return'].shift(-1) - df_vol,\n",
        "            'target'] = 2\n",
        "\n",
        "df_rate = df_rate.dropna()\n",
        "df_rate['target'] = df_rate['target'].astype(int)\n",
        "df_rate"
      ],
      "execution_count": null,
      "outputs": [
        {
          "output_type": "stream",
          "name": "stderr",
          "text": [
            "/usr/local/lib/python3.7/dist-packages/ipykernel_launcher.py:16: SettingWithCopyWarning: \n",
            "A value is trying to be set on a copy of a slice from a DataFrame.\n",
            "Try using .loc[row_indexer,col_indexer] = value instead\n",
            "\n",
            "See the caveats in the documentation: https://pandas.pydata.org/pandas-docs/stable/user_guide/indexing.html#returning-a-view-versus-a-copy\n",
            "  app.launch_new_instance()\n"
          ]
        },
        {
          "output_type": "execute_result",
          "data": {
            "text/html": [
              "<div>\n",
              "<style scoped>\n",
              "    .dataframe tbody tr th:only-of-type {\n",
              "        vertical-align: middle;\n",
              "    }\n",
              "\n",
              "    .dataframe tbody tr th {\n",
              "        vertical-align: top;\n",
              "    }\n",
              "\n",
              "    .dataframe thead th {\n",
              "        text-align: right;\n",
              "    }\n",
              "</style>\n",
              "<table border=\"1\" class=\"dataframe\">\n",
              "  <thead>\n",
              "    <tr style=\"text-align: right;\">\n",
              "      <th></th>\n",
              "      <th>^N225 1 day return</th>\n",
              "      <th>9983 1 day return</th>\n",
              "      <th>target</th>\n",
              "    </tr>\n",
              "    <tr>\n",
              "      <th>Date</th>\n",
              "      <th></th>\n",
              "      <th></th>\n",
              "      <th></th>\n",
              "    </tr>\n",
              "  </thead>\n",
              "  <tbody>\n",
              "    <tr>\n",
              "      <th>2016-03-31</th>\n",
              "      <td>-0.007127</td>\n",
              "      <td>-0.013151</td>\n",
              "      <td>2</td>\n",
              "    </tr>\n",
              "    <tr>\n",
              "      <th>2016-04-01</th>\n",
              "      <td>-0.035475</td>\n",
              "      <td>-0.054137</td>\n",
              "      <td>2</td>\n",
              "    </tr>\n",
              "    <tr>\n",
              "      <th>2016-04-04</th>\n",
              "      <td>-0.002530</td>\n",
              "      <td>-0.019372</td>\n",
              "      <td>2</td>\n",
              "    </tr>\n",
              "    <tr>\n",
              "      <th>2016-04-05</th>\n",
              "      <td>-0.024217</td>\n",
              "      <td>-0.041604</td>\n",
              "      <td>1</td>\n",
              "    </tr>\n",
              "    <tr>\n",
              "      <th>2016-04-06</th>\n",
              "      <td>-0.001110</td>\n",
              "      <td>-0.011867</td>\n",
              "      <td>2</td>\n",
              "    </tr>\n",
              "    <tr>\n",
              "      <th>...</th>\n",
              "      <td>...</td>\n",
              "      <td>...</td>\n",
              "      <td>...</td>\n",
              "    </tr>\n",
              "    <tr>\n",
              "      <th>2021-03-23</th>\n",
              "      <td>-0.006109</td>\n",
              "      <td>-0.001036</td>\n",
              "      <td>2</td>\n",
              "    </tr>\n",
              "    <tr>\n",
              "      <th>2021-03-24</th>\n",
              "      <td>-0.020361</td>\n",
              "      <td>-0.035253</td>\n",
              "      <td>1</td>\n",
              "    </tr>\n",
              "    <tr>\n",
              "      <th>2021-03-25</th>\n",
              "      <td>0.011419</td>\n",
              "      <td>0.013852</td>\n",
              "      <td>1</td>\n",
              "    </tr>\n",
              "    <tr>\n",
              "      <th>2021-03-26</th>\n",
              "      <td>0.015552</td>\n",
              "      <td>0.008834</td>\n",
              "      <td>1</td>\n",
              "    </tr>\n",
              "    <tr>\n",
              "      <th>2021-03-29</th>\n",
              "      <td>0.007123</td>\n",
              "      <td>0.008640</td>\n",
              "      <td>0</td>\n",
              "    </tr>\n",
              "  </tbody>\n",
              "</table>\n",
              "<p>1221 rows × 3 columns</p>\n",
              "</div>"
            ],
            "text/plain": [
              "            ^N225 1 day return  9983 1 day return  target\n",
              "Date                                                     \n",
              "2016-03-31           -0.007127          -0.013151       2\n",
              "2016-04-01           -0.035475          -0.054137       2\n",
              "2016-04-04           -0.002530          -0.019372       2\n",
              "2016-04-05           -0.024217          -0.041604       1\n",
              "2016-04-06           -0.001110          -0.011867       2\n",
              "...                        ...                ...     ...\n",
              "2021-03-23           -0.006109          -0.001036       2\n",
              "2021-03-24           -0.020361          -0.035253       1\n",
              "2021-03-25            0.011419           0.013852       1\n",
              "2021-03-26            0.015552           0.008834       1\n",
              "2021-03-29            0.007123           0.008640       0\n",
              "\n",
              "[1221 rows x 3 columns]"
            ]
          },
          "metadata": {},
          "execution_count": 36
        }
      ]
    },
    {
      "cell_type": "code",
      "metadata": {
        "id": "74MREide1Syq"
      },
      "source": [
        "diffs = [2,3,4,5,6,7,8,9,10,11,12,13,14,15,16,17,18,19,20,40,60,80,100,120,\n",
        "         140,160,180,200,220,240]\n",
        "    \n",
        "for diff in diffs:\n",
        "    df_rate['^N225 ' + str(diff) + ' days return']\\\n",
        "        = df['^N225'].pct_change(diff)\n",
        "    df_rate['9983 ' + str(diff) + ' days return']\\\n",
        "        = df['9983.T'].pct_change(diff)\n",
        "\n",
        "df_rate = df_rate.dropna(how = 'any')\n",
        "\n",
        "X = df_rate[df_rate.columns[(df_rate.columns != 'target')]]\n",
        "y = df_rate['target']\n",
        "\n",
        "val_size = 0.2\n",
        "\n",
        "X_train,X_val,y_train,y_val\\\n",
        "    = train_test_split(X,y,test_size = val_size,shuffle = False)"
      ],
      "execution_count": null,
      "outputs": []
    },
    {
      "cell_type": "markdown",
      "source": [
        "## ソフトマックス回帰の実装"
      ],
      "metadata": {
        "id": "YrcNEMpts1Cv"
      }
    },
    {
      "cell_type": "code",
      "metadata": {
        "id": "bjmgqPVR1Syr",
        "colab": {
          "base_uri": "https://localhost:8080/"
        },
        "outputId": "06bd6e57-55f2-41dd-f874-c2555a57562f"
      },
      "source": [
        "log_reg_trino = linear_model.LogisticRegression(\n",
        "    multi_class = 'multinomial',\n",
        "    penalty = 'none'\n",
        ")\n",
        "log_reg_trino.fit(X_train,y_train)\n",
        "y_train_pred = log_reg_trino.predict(X_train)\n",
        "y_val_pred = log_reg_trino.predict(X_val)\n",
        "\n",
        "print('Accuracy score:', accuracy_score(y_train,y_train_pred))\n",
        "print('Accuracy score:', accuracy_score(y_val,y_val_pred))"
      ],
      "execution_count": null,
      "outputs": [
        {
          "output_type": "stream",
          "name": "stdout",
          "text": [
            "Accuracy score: 0.7044585987261146\n",
            "Accuracy score: 0.6192893401015228\n"
          ]
        },
        {
          "output_type": "stream",
          "name": "stderr",
          "text": [
            "/usr/local/lib/python3.7/dist-packages/sklearn/linear_model/_logistic.py:818: ConvergenceWarning: lbfgs failed to converge (status=1):\n",
            "STOP: TOTAL NO. of ITERATIONS REACHED LIMIT.\n",
            "\n",
            "Increase the number of iterations (max_iter) or scale the data as shown in:\n",
            "    https://scikit-learn.org/stable/modules/preprocessing.html\n",
            "Please also refer to the documentation for alternative solver options:\n",
            "    https://scikit-learn.org/stable/modules/linear_model.html#logistic-regression\n",
            "  extra_warning_msg=_LOGISTIC_SOLVER_CONVERGENCE_MSG,\n"
          ]
        }
      ]
    },
    {
      "cell_type": "markdown",
      "source": [
        "## 正則化"
      ],
      "metadata": {
        "id": "RXRZTMLHs5EF"
      }
    },
    {
      "cell_type": "code",
      "metadata": {
        "id": "sIzaQnjQ1Syr",
        "colab": {
          "base_uri": "https://localhost:8080/"
        },
        "outputId": "ed184e09-1dc5-411c-e606-c40112a6ae93"
      },
      "source": [
        "log_reg_trino =  linear_model.LogisticRegression(\n",
        "    multi_class = 'multinomial',\n",
        "    penalty = 'l1',C=0.01,solver = 'saga'\n",
        ")\n",
        "log_reg_trino.fit(X_train,y_train)\n",
        "\n",
        "y_train_pred_multi = log_reg_trino.predict(X_train)\n",
        "y_val_pred_multi = log_reg_trino.predict(X_val)\n",
        "\n",
        "print('Accuracy score:', accuracy_score(y_train,y_train_pred_multi))\n",
        "print('Accuracy score:', accuracy_score(y_val,y_val_pred_multi))"
      ],
      "execution_count": null,
      "outputs": [
        {
          "output_type": "stream",
          "name": "stdout",
          "text": [
            "Accuracy score: 0.6840764331210191\n",
            "Accuracy score: 0.6700507614213198\n"
          ]
        }
      ]
    },
    {
      "cell_type": "code",
      "metadata": {
        "id": "HJvB1-k9Wwsl"
      },
      "source": [
        ""
      ],
      "execution_count": null,
      "outputs": []
    }
  ]
}