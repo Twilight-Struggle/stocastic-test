{
  "cells": [
    {
      "cell_type": "markdown",
      "metadata": {
        "colab_type": "text",
        "id": "view-in-github"
      },
      "source": [
        "<a href=\"https://colab.research.google.com/github/dsk-yshkw/DataDrivenFinance/blob/main/ch10_RNN.ipynb\" target=\"_parent\"><img src=\"https://colab.research.google.com/assets/colab-badge.svg\" alt=\"Open In Colab\"/></a>"
      ]
    },
    {
      "cell_type": "markdown",
      "metadata": {
        "id": "X1zFcGqTmxBa"
      },
      "source": [
        "# データの整理"
      ]
    },
    {
      "cell_type": "code",
      "execution_count": null,
      "metadata": {
        "id": "Soqbp_-ImxBa"
      },
      "outputs": [],
      "source": [
        "import numpy as np\n",
        "import matplotlib.pyplot as plt\n",
        "import pandas as pd"
      ]
    },
    {
      "cell_type": "markdown",
      "metadata": {
        "id": "4vhJ4VpRo_Nc"
      },
      "source": [
        "## CSVからのデータ取得"
      ]
    },
    {
      "cell_type": "code",
      "execution_count": null,
      "metadata": {
        "colab": {
          "base_uri": "https://localhost:8080/",
          "height": 684
        },
        "id": "fPxfvZtVmxBe",
        "outputId": "e974eea9-51aa-460a-fcab-87de502352d2"
      },
      "outputs": [
        {
          "data": {
            "text/html": [
              "\n",
              "  <div id=\"df-1796458e-e962-4177-bccd-7eccc6376f2f\">\n",
              "    <div class=\"colab-df-container\">\n",
              "      <div>\n",
              "<style scoped>\n",
              "    .dataframe tbody tr th:only-of-type {\n",
              "        vertical-align: middle;\n",
              "    }\n",
              "\n",
              "    .dataframe tbody tr th {\n",
              "        vertical-align: top;\n",
              "    }\n",
              "\n",
              "    .dataframe thead th {\n",
              "        text-align: right;\n",
              "    }\n",
              "</style>\n",
              "<table border=\"1\" class=\"dataframe\">\n",
              "  <thead>\n",
              "    <tr style=\"text-align: right;\">\n",
              "      <th></th>\n",
              "      <th>AFL</th>\n",
              "      <th>ALL</th>\n",
              "      <th>AXP</th>\n",
              "      <th>AIG</th>\n",
              "      <th>AMP</th>\n",
              "      <th>AON</th>\n",
              "      <th>AJG</th>\n",
              "      <th>AIZ</th>\n",
              "      <th>BAC</th>\n",
              "      <th>BK</th>\n",
              "      <th>...</th>\n",
              "      <th>SYF</th>\n",
              "      <th>TROW</th>\n",
              "      <th>TRV</th>\n",
              "      <th>TFC</th>\n",
              "      <th>USB</th>\n",
              "      <th>UNM</th>\n",
              "      <th>WRB</th>\n",
              "      <th>WFC</th>\n",
              "      <th>WTW</th>\n",
              "      <th>ZION</th>\n",
              "    </tr>\n",
              "    <tr>\n",
              "      <th>Date</th>\n",
              "      <th></th>\n",
              "      <th></th>\n",
              "      <th></th>\n",
              "      <th></th>\n",
              "      <th></th>\n",
              "      <th></th>\n",
              "      <th></th>\n",
              "      <th></th>\n",
              "      <th></th>\n",
              "      <th></th>\n",
              "      <th></th>\n",
              "      <th></th>\n",
              "      <th></th>\n",
              "      <th></th>\n",
              "      <th></th>\n",
              "      <th></th>\n",
              "      <th></th>\n",
              "      <th></th>\n",
              "      <th></th>\n",
              "      <th></th>\n",
              "      <th></th>\n",
              "    </tr>\n",
              "  </thead>\n",
              "  <tbody>\n",
              "    <tr>\n",
              "      <th>2016-02-23</th>\n",
              "      <td>25.754879</td>\n",
              "      <td>55.935684</td>\n",
              "      <td>50.141430</td>\n",
              "      <td>43.226501</td>\n",
              "      <td>71.627159</td>\n",
              "      <td>88.234459</td>\n",
              "      <td>34.546665</td>\n",
              "      <td>61.336395</td>\n",
              "      <td>10.759828</td>\n",
              "      <td>30.484337</td>\n",
              "      <td>...</td>\n",
              "      <td>23.857573</td>\n",
              "      <td>56.849514</td>\n",
              "      <td>93.222633</td>\n",
              "      <td>26.359570</td>\n",
              "      <td>32.254322</td>\n",
              "      <td>22.367193</td>\n",
              "      <td>20.019516</td>\n",
              "      <td>40.058964</td>\n",
              "      <td>102.187904</td>\n",
              "      <td>18.589001</td>\n",
              "    </tr>\n",
              "    <tr>\n",
              "      <th>2016-02-24</th>\n",
              "      <td>25.867672</td>\n",
              "      <td>56.128784</td>\n",
              "      <td>49.713795</td>\n",
              "      <td>43.107983</td>\n",
              "      <td>71.627159</td>\n",
              "      <td>88.787880</td>\n",
              "      <td>34.634018</td>\n",
              "      <td>61.720989</td>\n",
              "      <td>10.733282</td>\n",
              "      <td>30.232172</td>\n",
              "      <td>...</td>\n",
              "      <td>24.048367</td>\n",
              "      <td>57.147861</td>\n",
              "      <td>93.715050</td>\n",
              "      <td>26.277458</td>\n",
              "      <td>31.897509</td>\n",
              "      <td>22.302938</td>\n",
              "      <td>20.015646</td>\n",
              "      <td>39.650887</td>\n",
              "      <td>101.886528</td>\n",
              "      <td>18.124493</td>\n",
              "    </tr>\n",
              "    <tr>\n",
              "      <th>2016-02-25</th>\n",
              "      <td>26.171329</td>\n",
              "      <td>56.825756</td>\n",
              "      <td>50.396183</td>\n",
              "      <td>43.488926</td>\n",
              "      <td>72.434174</td>\n",
              "      <td>89.397530</td>\n",
              "      <td>34.948483</td>\n",
              "      <td>63.798588</td>\n",
              "      <td>10.901402</td>\n",
              "      <td>30.719093</td>\n",
              "      <td>...</td>\n",
              "      <td>24.091732</td>\n",
              "      <td>57.711391</td>\n",
              "      <td>94.397522</td>\n",
              "      <td>26.679834</td>\n",
              "      <td>32.478371</td>\n",
              "      <td>22.752695</td>\n",
              "      <td>20.166780</td>\n",
              "      <td>39.767487</td>\n",
              "      <td>103.092072</td>\n",
              "      <td>18.606525</td>\n",
              "    </tr>\n",
              "    <tr>\n",
              "      <th>2016-02-26</th>\n",
              "      <td>26.101921</td>\n",
              "      <td>56.746346</td>\n",
              "      <td>50.387077</td>\n",
              "      <td>43.251888</td>\n",
              "      <td>74.254265</td>\n",
              "      <td>89.819611</td>\n",
              "      <td>34.992149</td>\n",
              "      <td>64.036301</td>\n",
              "      <td>11.237645</td>\n",
              "      <td>31.405979</td>\n",
              "      <td>...</td>\n",
              "      <td>24.221819</td>\n",
              "      <td>57.777699</td>\n",
              "      <td>93.697739</td>\n",
              "      <td>27.344975</td>\n",
              "      <td>32.602825</td>\n",
              "      <td>23.226540</td>\n",
              "      <td>20.228783</td>\n",
              "      <td>40.033993</td>\n",
              "      <td>102.973351</td>\n",
              "      <td>19.079794</td>\n",
              "    </tr>\n",
              "    <tr>\n",
              "      <th>2016-02-29</th>\n",
              "      <td>25.819952</td>\n",
              "      <td>55.987614</td>\n",
              "      <td>50.569050</td>\n",
              "      <td>42.498432</td>\n",
              "      <td>72.073593</td>\n",
              "      <td>89.378799</td>\n",
              "      <td>34.808720</td>\n",
              "      <td>62.592522</td>\n",
              "      <td>11.078372</td>\n",
              "      <td>30.771261</td>\n",
              "      <td>...</td>\n",
              "      <td>23.371925</td>\n",
              "      <td>57.272167</td>\n",
              "      <td>92.885704</td>\n",
              "      <td>26.408854</td>\n",
              "      <td>31.963888</td>\n",
              "      <td>22.913322</td>\n",
              "      <td>19.957512</td>\n",
              "      <td>39.076233</td>\n",
              "      <td>103.493919</td>\n",
              "      <td>18.685402</td>\n",
              "    </tr>\n",
              "    <tr>\n",
              "      <th>...</th>\n",
              "      <td>...</td>\n",
              "      <td>...</td>\n",
              "      <td>...</td>\n",
              "      <td>...</td>\n",
              "      <td>...</td>\n",
              "      <td>...</td>\n",
              "      <td>...</td>\n",
              "      <td>...</td>\n",
              "      <td>...</td>\n",
              "      <td>...</td>\n",
              "      <td>...</td>\n",
              "      <td>...</td>\n",
              "      <td>...</td>\n",
              "      <td>...</td>\n",
              "      <td>...</td>\n",
              "      <td>...</td>\n",
              "      <td>...</td>\n",
              "      <td>...</td>\n",
              "      <td>...</td>\n",
              "      <td>...</td>\n",
              "      <td>...</td>\n",
              "    </tr>\n",
              "    <tr>\n",
              "      <th>2021-02-12</th>\n",
              "      <td>45.502598</td>\n",
              "      <td>101.012993</td>\n",
              "      <td>127.890694</td>\n",
              "      <td>40.174561</td>\n",
              "      <td>213.657028</td>\n",
              "      <td>225.926620</td>\n",
              "      <td>114.744431</td>\n",
              "      <td>125.364311</td>\n",
              "      <td>32.580418</td>\n",
              "      <td>40.900051</td>\n",
              "      <td>...</td>\n",
              "      <td>36.231262</td>\n",
              "      <td>155.738220</td>\n",
              "      <td>141.984695</td>\n",
              "      <td>52.384251</td>\n",
              "      <td>45.825451</td>\n",
              "      <td>23.462132</td>\n",
              "      <td>43.999149</td>\n",
              "      <td>32.855949</td>\n",
              "      <td>223.806793</td>\n",
              "      <td>48.099041</td>\n",
              "    </tr>\n",
              "    <tr>\n",
              "      <th>2021-02-16</th>\n",
              "      <td>45.268196</td>\n",
              "      <td>99.832909</td>\n",
              "      <td>128.936539</td>\n",
              "      <td>40.902359</td>\n",
              "      <td>215.724258</td>\n",
              "      <td>224.995361</td>\n",
              "      <td>115.718010</td>\n",
              "      <td>123.231361</td>\n",
              "      <td>33.459129</td>\n",
              "      <td>41.699905</td>\n",
              "      <td>...</td>\n",
              "      <td>36.962715</td>\n",
              "      <td>155.766846</td>\n",
              "      <td>143.404907</td>\n",
              "      <td>53.974884</td>\n",
              "      <td>46.796986</td>\n",
              "      <td>24.239779</td>\n",
              "      <td>44.083412</td>\n",
              "      <td>34.090622</td>\n",
              "      <td>224.485855</td>\n",
              "      <td>49.767666</td>\n",
              "    </tr>\n",
              "    <tr>\n",
              "      <th>2021-02-17</th>\n",
              "      <td>45.942097</td>\n",
              "      <td>101.428925</td>\n",
              "      <td>126.844818</td>\n",
              "      <td>41.989212</td>\n",
              "      <td>213.960739</td>\n",
              "      <td>227.075867</td>\n",
              "      <td>115.708168</td>\n",
              "      <td>123.006325</td>\n",
              "      <td>33.595814</td>\n",
              "      <td>41.846226</td>\n",
              "      <td>...</td>\n",
              "      <td>36.543346</td>\n",
              "      <td>155.785904</td>\n",
              "      <td>144.406845</td>\n",
              "      <td>53.974884</td>\n",
              "      <td>47.422226</td>\n",
              "      <td>24.457897</td>\n",
              "      <td>43.999149</td>\n",
              "      <td>35.854435</td>\n",
              "      <td>226.237564</td>\n",
              "      <td>49.455151</td>\n",
              "    </tr>\n",
              "    <tr>\n",
              "      <th>2021-02-18</th>\n",
              "      <td>46.186260</td>\n",
              "      <td>101.641724</td>\n",
              "      <td>126.775764</td>\n",
              "      <td>40.863541</td>\n",
              "      <td>209.855713</td>\n",
              "      <td>225.153839</td>\n",
              "      <td>116.652252</td>\n",
              "      <td>120.120003</td>\n",
              "      <td>33.381020</td>\n",
              "      <td>41.143909</td>\n",
              "      <td>...</td>\n",
              "      <td>35.743629</td>\n",
              "      <td>152.693878</td>\n",
              "      <td>143.667572</td>\n",
              "      <td>54.149471</td>\n",
              "      <td>47.191368</td>\n",
              "      <td>23.756121</td>\n",
              "      <td>43.506527</td>\n",
              "      <td>36.216995</td>\n",
              "      <td>219.447189</td>\n",
              "      <td>48.859425</td>\n",
              "    </tr>\n",
              "    <tr>\n",
              "      <th>2021-02-19</th>\n",
              "      <td>46.957825</td>\n",
              "      <td>100.065056</td>\n",
              "      <td>129.952805</td>\n",
              "      <td>41.319637</td>\n",
              "      <td>219.937027</td>\n",
              "      <td>226.223862</td>\n",
              "      <td>118.186371</td>\n",
              "      <td>121.300446</td>\n",
              "      <td>33.722736</td>\n",
              "      <td>41.280476</td>\n",
              "      <td>...</td>\n",
              "      <td>37.138264</td>\n",
              "      <td>155.337387</td>\n",
              "      <td>141.936050</td>\n",
              "      <td>55.846794</td>\n",
              "      <td>48.114799</td>\n",
              "      <td>24.287197</td>\n",
              "      <td>43.999149</td>\n",
              "      <td>37.069511</td>\n",
              "      <td>221.405563</td>\n",
              "      <td>50.490349</td>\n",
              "    </tr>\n",
              "  </tbody>\n",
              "</table>\n",
              "<p>1258 rows × 65 columns</p>\n",
              "</div>\n",
              "      <button class=\"colab-df-convert\" onclick=\"convertToInteractive('df-1796458e-e962-4177-bccd-7eccc6376f2f')\"\n",
              "              title=\"Convert this dataframe to an interactive table.\"\n",
              "              style=\"display:none;\">\n",
              "        \n",
              "  <svg xmlns=\"http://www.w3.org/2000/svg\" height=\"24px\"viewBox=\"0 0 24 24\"\n",
              "       width=\"24px\">\n",
              "    <path d=\"M0 0h24v24H0V0z\" fill=\"none\"/>\n",
              "    <path d=\"M18.56 5.44l.94 2.06.94-2.06 2.06-.94-2.06-.94-.94-2.06-.94 2.06-2.06.94zm-11 1L8.5 8.5l.94-2.06 2.06-.94-2.06-.94L8.5 2.5l-.94 2.06-2.06.94zm10 10l.94 2.06.94-2.06 2.06-.94-2.06-.94-.94-2.06-.94 2.06-2.06.94z\"/><path d=\"M17.41 7.96l-1.37-1.37c-.4-.4-.92-.59-1.43-.59-.52 0-1.04.2-1.43.59L10.3 9.45l-7.72 7.72c-.78.78-.78 2.05 0 2.83L4 21.41c.39.39.9.59 1.41.59.51 0 1.02-.2 1.41-.59l7.78-7.78 2.81-2.81c.8-.78.8-2.07 0-2.86zM5.41 20L4 18.59l7.72-7.72 1.47 1.35L5.41 20z\"/>\n",
              "  </svg>\n",
              "      </button>\n",
              "      \n",
              "  <style>\n",
              "    .colab-df-container {\n",
              "      display:flex;\n",
              "      flex-wrap:wrap;\n",
              "      gap: 12px;\n",
              "    }\n",
              "\n",
              "    .colab-df-convert {\n",
              "      background-color: #E8F0FE;\n",
              "      border: none;\n",
              "      border-radius: 50%;\n",
              "      cursor: pointer;\n",
              "      display: none;\n",
              "      fill: #1967D2;\n",
              "      height: 32px;\n",
              "      padding: 0 0 0 0;\n",
              "      width: 32px;\n",
              "    }\n",
              "\n",
              "    .colab-df-convert:hover {\n",
              "      background-color: #E2EBFA;\n",
              "      box-shadow: 0px 1px 2px rgba(60, 64, 67, 0.3), 0px 1px 3px 1px rgba(60, 64, 67, 0.15);\n",
              "      fill: #174EA6;\n",
              "    }\n",
              "\n",
              "    [theme=dark] .colab-df-convert {\n",
              "      background-color: #3B4455;\n",
              "      fill: #D2E3FC;\n",
              "    }\n",
              "\n",
              "    [theme=dark] .colab-df-convert:hover {\n",
              "      background-color: #434B5C;\n",
              "      box-shadow: 0px 1px 3px 1px rgba(0, 0, 0, 0.15);\n",
              "      filter: drop-shadow(0px 1px 2px rgba(0, 0, 0, 0.3));\n",
              "      fill: #FFFFFF;\n",
              "    }\n",
              "  </style>\n",
              "\n",
              "      <script>\n",
              "        const buttonEl =\n",
              "          document.querySelector('#df-1796458e-e962-4177-bccd-7eccc6376f2f button.colab-df-convert');\n",
              "        buttonEl.style.display =\n",
              "          google.colab.kernel.accessAllowed ? 'block' : 'none';\n",
              "\n",
              "        async function convertToInteractive(key) {\n",
              "          const element = document.querySelector('#df-1796458e-e962-4177-bccd-7eccc6376f2f');\n",
              "          const dataTable =\n",
              "            await google.colab.kernel.invokeFunction('convertToInteractive',\n",
              "                                                     [key], {});\n",
              "          if (!dataTable) return;\n",
              "\n",
              "          const docLinkHtml = 'Like what you see? Visit the ' +\n",
              "            '<a target=\"_blank\" href=https://colab.research.google.com/notebooks/data_table.ipynb>data table notebook</a>'\n",
              "            + ' to learn more about interactive tables.';\n",
              "          element.innerHTML = '';\n",
              "          dataTable['output_type'] = 'display_data';\n",
              "          await google.colab.output.renderOutput(dataTable, element);\n",
              "          const docLink = document.createElement('div');\n",
              "          docLink.innerHTML = docLinkHtml;\n",
              "          element.appendChild(docLink);\n",
              "        }\n",
              "      </script>\n",
              "    </div>\n",
              "  </div>\n",
              "  "
            ],
            "text/plain": [
              "                  AFL         ALL         AXP        AIG         AMP  \\\n",
              "Date                                                                   \n",
              "2016-02-23  25.754879   55.935684   50.141430  43.226501   71.627159   \n",
              "2016-02-24  25.867672   56.128784   49.713795  43.107983   71.627159   \n",
              "2016-02-25  26.171329   56.825756   50.396183  43.488926   72.434174   \n",
              "2016-02-26  26.101921   56.746346   50.387077  43.251888   74.254265   \n",
              "2016-02-29  25.819952   55.987614   50.569050  42.498432   72.073593   \n",
              "...               ...         ...         ...        ...         ...   \n",
              "2021-02-12  45.502598  101.012993  127.890694  40.174561  213.657028   \n",
              "2021-02-16  45.268196   99.832909  128.936539  40.902359  215.724258   \n",
              "2021-02-17  45.942097  101.428925  126.844818  41.989212  213.960739   \n",
              "2021-02-18  46.186260  101.641724  126.775764  40.863541  209.855713   \n",
              "2021-02-19  46.957825  100.065056  129.952805  41.319637  219.937027   \n",
              "\n",
              "                   AON         AJG         AIZ        BAC         BK  ...  \\\n",
              "Date                                                                  ...   \n",
              "2016-02-23   88.234459   34.546665   61.336395  10.759828  30.484337  ...   \n",
              "2016-02-24   88.787880   34.634018   61.720989  10.733282  30.232172  ...   \n",
              "2016-02-25   89.397530   34.948483   63.798588  10.901402  30.719093  ...   \n",
              "2016-02-26   89.819611   34.992149   64.036301  11.237645  31.405979  ...   \n",
              "2016-02-29   89.378799   34.808720   62.592522  11.078372  30.771261  ...   \n",
              "...                ...         ...         ...        ...        ...  ...   \n",
              "2021-02-12  225.926620  114.744431  125.364311  32.580418  40.900051  ...   \n",
              "2021-02-16  224.995361  115.718010  123.231361  33.459129  41.699905  ...   \n",
              "2021-02-17  227.075867  115.708168  123.006325  33.595814  41.846226  ...   \n",
              "2021-02-18  225.153839  116.652252  120.120003  33.381020  41.143909  ...   \n",
              "2021-02-19  226.223862  118.186371  121.300446  33.722736  41.280476  ...   \n",
              "\n",
              "                  SYF        TROW         TRV        TFC        USB  \\\n",
              "Date                                                                  \n",
              "2016-02-23  23.857573   56.849514   93.222633  26.359570  32.254322   \n",
              "2016-02-24  24.048367   57.147861   93.715050  26.277458  31.897509   \n",
              "2016-02-25  24.091732   57.711391   94.397522  26.679834  32.478371   \n",
              "2016-02-26  24.221819   57.777699   93.697739  27.344975  32.602825   \n",
              "2016-02-29  23.371925   57.272167   92.885704  26.408854  31.963888   \n",
              "...               ...         ...         ...        ...        ...   \n",
              "2021-02-12  36.231262  155.738220  141.984695  52.384251  45.825451   \n",
              "2021-02-16  36.962715  155.766846  143.404907  53.974884  46.796986   \n",
              "2021-02-17  36.543346  155.785904  144.406845  53.974884  47.422226   \n",
              "2021-02-18  35.743629  152.693878  143.667572  54.149471  47.191368   \n",
              "2021-02-19  37.138264  155.337387  141.936050  55.846794  48.114799   \n",
              "\n",
              "                  UNM        WRB        WFC         WTW       ZION  \n",
              "Date                                                                \n",
              "2016-02-23  22.367193  20.019516  40.058964  102.187904  18.589001  \n",
              "2016-02-24  22.302938  20.015646  39.650887  101.886528  18.124493  \n",
              "2016-02-25  22.752695  20.166780  39.767487  103.092072  18.606525  \n",
              "2016-02-26  23.226540  20.228783  40.033993  102.973351  19.079794  \n",
              "2016-02-29  22.913322  19.957512  39.076233  103.493919  18.685402  \n",
              "...               ...        ...        ...         ...        ...  \n",
              "2021-02-12  23.462132  43.999149  32.855949  223.806793  48.099041  \n",
              "2021-02-16  24.239779  44.083412  34.090622  224.485855  49.767666  \n",
              "2021-02-17  24.457897  43.999149  35.854435  226.237564  49.455151  \n",
              "2021-02-18  23.756121  43.506527  36.216995  219.447189  48.859425  \n",
              "2021-02-19  24.287197  43.999149  37.069511  221.405563  50.490349  \n",
              "\n",
              "[1258 rows x 65 columns]"
            ]
          },
          "execution_count": 5,
          "metadata": {},
          "output_type": "execute_result"
        }
      ],
      "source": [
        "# GitHubからダウンロードしたzipファイルを展開し，そのままローカルで使う場合\n",
        "df = pd.read_csv(\"/workspace/ch10_stock_price.csv\",index_col = 'Date')\n",
        "df\n"
      ]
    },
    {
      "cell_type": "markdown",
      "metadata": {
        "id": "V-cMpik2y1bU"
      },
      "source": [
        "## データの整理"
      ]
    },
    {
      "cell_type": "code",
      "execution_count": null,
      "metadata": {
        "id": "oeVabSxpmxBe"
      },
      "outputs": [],
      "source": [
        "from sklearn.model_selection import train_test_split\n",
        "\n",
        "test_size = 0.2\n",
        "df_train,df_test = train_test_split(df,test_size = test_size,shuffle = False)\n",
        "\n",
        "test_num = len(df_test)"
      ]
    },
    {
      "cell_type": "markdown",
      "metadata": {
        "id": "_gmt4tuSeNsE"
      },
      "source": [
        "# 共和分検定"
      ]
    },
    {
      "cell_type": "code",
      "execution_count": null,
      "metadata": {
        "colab": {
          "base_uri": "https://localhost:8080/"
        },
        "id": "oqf9X6KnmxBe",
        "outputId": "07fa7a2f-57b6-4b9c-eda5-e64929543f6b"
      },
      "outputs": [
        {
          "name": "stderr",
          "output_type": "stream",
          "text": [
            "/usr/local/lib/python3.7/dist-packages/statsmodels/tools/_testing.py:19: FutureWarning: pandas.util.testing is deprecated. Use the functions in the public API at pandas.testing instead.\n",
            "  import pandas.util.testing as tm\n"
          ]
        }
      ],
      "source": [
        "import itertools\n",
        "from statsmodels.tsa.vector_ar.vecm import coint_johansen"
      ]
    },
    {
      "cell_type": "code",
      "execution_count": null,
      "metadata": {
        "colab": {
          "base_uri": "https://localhost:8080/"
        },
        "id": "HVM887Gmt0YR",
        "outputId": "4f8e906d-491d-449d-9211-aeb46a55eb60"
      },
      "outputs": [
        {
          "name": "stdout",
          "output_type": "stream",
          "text": [
            "[('ALL', 'AJG'), ('ALL', 'CBOE'), ('ALL', 'MCO'), ('ALL', 'MSCI'), ('AIG', 'AON'), ('AIG', 'AJG'), ('AIG', 'MCO'), ('AIG', 'MSCI'), ('AIG', 'WRB'), ('AMP', 'AJG'), ('AMP', 'CBOE'), ('AMP', 'MCO'), ('AMP', 'MSCI'), ('AON', 'BK'), ('AON', 'CBOE'), ('AON', 'CMA'), ('AON', 'FITB'), ('AON', 'BEN'), ('AON', 'HIG'), ('AON', 'HBAN'), ('AON', 'IVZ'), ('AON', 'LNC'), ('AON', 'L'), ('AON', 'MTB'), ('AON', 'MSCI'), ('AON', 'NTRS'), ('AON', 'PBCT'), ('AON', 'PNC'), ('AON', 'PFG'), ('AON', 'PRU'), ('AON', 'SPGI'), ('AON', 'SYF'), ('AON', 'TRV'), ('AON', 'TFC'), ('AON', 'USB'), ('AON', 'UNM'), ('AON', 'WFC'), ('AON', 'ZION'), ('AJG', 'BK'), ('AJG', 'BLK'), ('AJG', 'COF'), ('AJG', 'SCHW'), ('AJG', 'CB'), ('AJG', 'CINF'), ('AJG', 'CFG'), ('AJG', 'RE'), ('AJG', 'FRC'), ('AJG', 'BEN'), ('AJG', 'GL'), ('AJG', 'GS'), ('AJG', 'HIG'), ('AJG', 'IVZ'), ('AJG', 'KEY'), ('AJG', 'LNC'), ('AJG', 'L'), ('AJG', 'MET'), ('AJG', 'MS'), ('AJG', 'NTRS'), ('AJG', 'PBCT'), ('AJG', 'PNC'), ('AJG', 'PFG'), ('AJG', 'PRU'), ('AJG', 'RJF'), ('AJG', 'RF'), ('AJG', 'STT'), ('AJG', 'SIVB'), ('AJG', 'SYF'), ('AJG', 'TRV'), ('AJG', 'USB'), ('AJG', 'UNM'), ('AJG', 'WFC'), ('AIZ', 'MCO'), ('AIZ', 'MSCI'), ('AIZ', 'USB'), ('AIZ', 'WRB'), ('BAC', 'CMA'), ('BK', 'GL'), ('BK', 'MCO'), ('BK', 'MSCI'), ('BK', 'SPGI'), ('BK', 'WRB'), ('BRK-B', 'GL'), ('BRK-B', 'MCO'), ('BRK-B', 'MSCI'), ('BLK', 'MCO'), ('BLK', 'MSCI'), ('COF', 'MCO'), ('COF', 'MSCI'), ('CBOE', 'MSCI'), ('SCHW', 'MCO'), ('SCHW', 'MSCI'), ('CB', 'MCO'), ('CB', 'MSCI'), ('CB', 'WRB'), ('CINF', 'MCO'), ('CINF', 'MSCI'), ('C', 'MCO'), ('C', 'MSCI'), ('CFG', 'MCO'), ('CFG', 'MS'), ('CFG', 'MSCI'), ('CFG', 'RJF'), ('CMA', 'GL'), ('CMA', 'JPM'), ('CMA', 'MCO'), ('CMA', 'RJF'), ('CMA', 'SIVB'), ('CMA', 'WRB'), ('DFS', 'MSCI'), ('RE', 'MCO'), ('RE', 'MSCI'), ('FITB', 'MSCI'), ('FITB', 'RJF'), ('FRC', 'MSCI'), ('BEN', 'MMC'), ('BEN', 'MCO'), ('BEN', 'MSCI'), ('BEN', 'SPGI'), ('BEN', 'TROW'), ('BEN', 'WRB'), ('GL', 'HBAN'), ('GL', 'LNC'), ('GL', 'MTB'), ('GL', 'MCO'), ('GL', 'MSCI'), ('GL', 'NTRS'), ('GL', 'PRU'), ('GL', 'TFC'), ('GL', 'USB'), ('GL', 'UNM'), ('GL', 'ZION'), ('GS', 'MCO'), ('GS', 'MSCI'), ('HIG', 'MCO'), ('HIG', 'MSCI'), ('HIG', 'WRB'), ('HBAN', 'MCO'), ('HBAN', 'MSCI'), ('HBAN', 'NTRS'), ('HBAN', 'RJF'), ('HBAN', 'SPGI'), ('HBAN', 'WRB'), ('IVZ', 'MCO'), ('IVZ', 'MSCI'), ('IVZ', 'SPGI'), ('IVZ', 'WRB'), ('KEY', 'MCO'), ('KEY', 'MSCI'), ('LNC', 'MCO'), ('LNC', 'MSCI'), ('L', 'MCO'), ('L', 'MSCI'), ('L', 'WRB'), ('MTB', 'MSCI'), ('MMC', 'MSCI'), ('MMC', 'TRV'), ('MET', 'MCO'), ('MET', 'MSCI'), ('MET', 'USB'), ('MCO', 'MS'), ('MCO', 'MSCI'), ('MCO', 'NDAQ'), ('MCO', 'NTRS'), ('MCO', 'PBCT'), ('MCO', 'PFG'), ('MCO', 'PRU'), ('MCO', 'RJF'), ('MCO', 'RF'), ('MCO', 'STT'), ('MCO', 'SIVB'), ('MCO', 'SYF'), ('MCO', 'TROW'), ('MCO', 'TRV'), ('MCO', 'USB'), ('MCO', 'UNM'), ('MCO', 'WFC'), ('MS', 'MSCI'), ('MS', 'ZION'), ('MSCI', 'NDAQ'), ('MSCI', 'NTRS'), ('MSCI', 'PBCT'), ('MSCI', 'PNC'), ('MSCI', 'PFG'), ('MSCI', 'PRU'), ('MSCI', 'RJF'), ('MSCI', 'RF'), ('MSCI', 'STT'), ('MSCI', 'SIVB'), ('MSCI', 'SYF'), ('MSCI', 'TROW'), ('MSCI', 'TRV'), ('MSCI', 'TFC'), ('MSCI', 'USB'), ('MSCI', 'UNM'), ('MSCI', 'WRB'), ('MSCI', 'WFC'), ('MSCI', 'WTW'), ('PBCT', 'WRB'), ('PFG', 'WRB'), ('RJF', 'ZION'), ('RF', 'SPGI'), ('SPGI', 'SIVB'), ('SPGI', 'UNM'), ('SPGI', 'WRB'), ('TRV', 'WRB'), ('USB', 'WRB'), ('UNM', 'WRB'), ('WRB', 'WFC')]\n",
            "208\n"
          ]
        }
      ],
      "source": [
        "pairs = []\n",
        "i = 1\n",
        "for comb in itertools.combinations(df_train.columns,2):\n",
        "    prices = df_train.loc[:,comb]\n",
        "    prices = prices.dropna()\n",
        "    try:\n",
        "        # JohansenTestResult\n",
        "        jrt = coint_johansen(prices,k_ar_diff=0,det_order=-1)\n",
        "        if jrt.lr1[0] > jrt.cvt[0,2] and jrt.lr1[1] < jrt.cvt[1,0]\\\n",
        "        and jrt.lr2[0] > jrt.cvm[0,2] and jrt.lr2[1] < jrt.cvm[1,0]:\n",
        "            pairs.append(comb)\n",
        "    except ValueError as error:\n",
        "        print(i,comb)\n",
        "    i += 1\n",
        "        \n",
        "print(pairs)\n",
        "print(len(pairs))\n"
      ]
    },
    {
      "cell_type": "markdown",
      "metadata": {
        "id": "3OEW5g60zKTU"
      },
      "source": [
        "# ポートフォリオ価値の構成"
      ]
    },
    {
      "cell_type": "code",
      "execution_count": null,
      "metadata": {
        "colab": {
          "base_uri": "https://localhost:8080/"
        },
        "id": "zFjvLynmoWig",
        "outputId": "8410dae8-b1cd-4b26-a8ce-062fe39afad2"
      },
      "outputs": [
        {
          "name": "stderr",
          "output_type": "stream",
          "text": [
            "/usr/local/lib/python3.7/dist-packages/statsmodels/tsa/base/tsa_model.py:219: ValueWarning: A date index has been provided, but it has no associated frequency information and so will be ignored when e.g. forecasting.\n",
            "  ' ignored when e.g. forecasting.', ValueWarning)\n"
          ]
        }
      ],
      "source": [
        "# 共和分検定をパスした共和分ペアを使ってモデルを構成する\n",
        "from statsmodels.tsa.vector_ar.vecm import VECM\n",
        "pair = ['RJF','ZION']\n",
        "\n",
        "modelCoint = VECM(df_train[pair],k_ar_diff=0,deterministic='na',coint_rank = 1) # coint_rank = 1 は省略可\n",
        "res = modelCoint.fit()\n",
        "\n",
        "# 得られた係数をもとにペアー価値の時系列を構成する\n",
        "pairs_value = res.beta[0]*df[pair[0]] + res.beta[1]*df[pair[1]]"
      ]
    },
    {
      "cell_type": "markdown",
      "metadata": {
        "id": "utBCWYYtzVIN"
      },
      "source": [
        "# RNNのためのデータ整理"
      ]
    },
    {
      "cell_type": "code",
      "execution_count": null,
      "metadata": {
        "id": "IHHpMtFMmxBf"
      },
      "outputs": [],
      "source": [
        "serlen = 70 \n",
        "\n",
        "df_ser = pd.DataFrame()\n",
        "columns = []\n",
        "for i in range(serlen + 1):\n",
        "    df_ser = pd.concat([df_ser,pairs_value.shift(i)],axis = 1) \n",
        "    columns.append('{} day shift'.format(i))\n",
        "df_ser.columns = columns\n",
        "df_ser = df_ser.dropna()"
      ]
    },
    {
      "cell_type": "code",
      "execution_count": null,
      "metadata": {
        "colab": {
          "base_uri": "https://localhost:8080/",
          "height": 670
        },
        "id": "h_Qz4cl84Oah",
        "outputId": "a4d634f5-bb18-4d49-d617-04cf0b93c9d7"
      },
      "outputs": [
        {
          "data": {
            "text/html": [
              "\n",
              "  <div id=\"df-8c44d6c9-2399-48dd-b892-2ee41af04837\">\n",
              "    <div class=\"colab-df-container\">\n",
              "      <div>\n",
              "<style scoped>\n",
              "    .dataframe tbody tr th:only-of-type {\n",
              "        vertical-align: middle;\n",
              "    }\n",
              "\n",
              "    .dataframe tbody tr th {\n",
              "        vertical-align: top;\n",
              "    }\n",
              "\n",
              "    .dataframe thead th {\n",
              "        text-align: right;\n",
              "    }\n",
              "</style>\n",
              "<table border=\"1\" class=\"dataframe\">\n",
              "  <thead>\n",
              "    <tr style=\"text-align: right;\">\n",
              "      <th></th>\n",
              "      <th>0 day shift</th>\n",
              "      <th>1 day shift</th>\n",
              "      <th>2 day shift</th>\n",
              "      <th>3 day shift</th>\n",
              "      <th>4 day shift</th>\n",
              "      <th>5 day shift</th>\n",
              "      <th>6 day shift</th>\n",
              "      <th>7 day shift</th>\n",
              "      <th>8 day shift</th>\n",
              "      <th>9 day shift</th>\n",
              "      <th>...</th>\n",
              "      <th>61 day shift</th>\n",
              "      <th>62 day shift</th>\n",
              "      <th>63 day shift</th>\n",
              "      <th>64 day shift</th>\n",
              "      <th>65 day shift</th>\n",
              "      <th>66 day shift</th>\n",
              "      <th>67 day shift</th>\n",
              "      <th>68 day shift</th>\n",
              "      <th>69 day shift</th>\n",
              "      <th>70 day shift</th>\n",
              "    </tr>\n",
              "  </thead>\n",
              "  <tbody>\n",
              "    <tr>\n",
              "      <th>2016-06-02</th>\n",
              "      <td>3.088647</td>\n",
              "      <td>3.169893</td>\n",
              "      <td>3.490219</td>\n",
              "      <td>2.921695</td>\n",
              "      <td>2.717261</td>\n",
              "      <td>2.245508</td>\n",
              "      <td>2.451901</td>\n",
              "      <td>2.166715</td>\n",
              "      <td>2.176523</td>\n",
              "      <td>1.928327</td>\n",
              "      <td>...</td>\n",
              "      <td>1.487829</td>\n",
              "      <td>1.481764</td>\n",
              "      <td>2.371686</td>\n",
              "      <td>3.048883</td>\n",
              "      <td>3.405139</td>\n",
              "      <td>3.315441</td>\n",
              "      <td>3.503724</td>\n",
              "      <td>3.571919</td>\n",
              "      <td>3.456579</td>\n",
              "      <td>3.192697</td>\n",
              "    </tr>\n",
              "    <tr>\n",
              "      <th>2016-06-03</th>\n",
              "      <td>2.693774</td>\n",
              "      <td>3.088647</td>\n",
              "      <td>3.169893</td>\n",
              "      <td>3.490219</td>\n",
              "      <td>2.921695</td>\n",
              "      <td>2.717261</td>\n",
              "      <td>2.245508</td>\n",
              "      <td>2.451901</td>\n",
              "      <td>2.166715</td>\n",
              "      <td>2.176523</td>\n",
              "      <td>...</td>\n",
              "      <td>1.681266</td>\n",
              "      <td>1.487829</td>\n",
              "      <td>1.481764</td>\n",
              "      <td>2.371686</td>\n",
              "      <td>3.048883</td>\n",
              "      <td>3.405139</td>\n",
              "      <td>3.315441</td>\n",
              "      <td>3.503724</td>\n",
              "      <td>3.571919</td>\n",
              "      <td>3.456579</td>\n",
              "    </tr>\n",
              "    <tr>\n",
              "      <th>2016-06-06</th>\n",
              "      <td>2.346155</td>\n",
              "      <td>2.693774</td>\n",
              "      <td>3.088647</td>\n",
              "      <td>3.169893</td>\n",
              "      <td>3.490219</td>\n",
              "      <td>2.921695</td>\n",
              "      <td>2.717261</td>\n",
              "      <td>2.245508</td>\n",
              "      <td>2.451901</td>\n",
              "      <td>2.166715</td>\n",
              "      <td>...</td>\n",
              "      <td>1.845379</td>\n",
              "      <td>1.681266</td>\n",
              "      <td>1.487829</td>\n",
              "      <td>1.481764</td>\n",
              "      <td>2.371686</td>\n",
              "      <td>3.048883</td>\n",
              "      <td>3.405139</td>\n",
              "      <td>3.315441</td>\n",
              "      <td>3.503724</td>\n",
              "      <td>3.571919</td>\n",
              "    </tr>\n",
              "    <tr>\n",
              "      <th>2016-06-07</th>\n",
              "      <td>1.924873</td>\n",
              "      <td>2.346155</td>\n",
              "      <td>2.693774</td>\n",
              "      <td>3.088647</td>\n",
              "      <td>3.169893</td>\n",
              "      <td>3.490219</td>\n",
              "      <td>2.921695</td>\n",
              "      <td>2.717261</td>\n",
              "      <td>2.245508</td>\n",
              "      <td>2.451901</td>\n",
              "      <td>...</td>\n",
              "      <td>1.238730</td>\n",
              "      <td>1.845379</td>\n",
              "      <td>1.681266</td>\n",
              "      <td>1.487829</td>\n",
              "      <td>1.481764</td>\n",
              "      <td>2.371686</td>\n",
              "      <td>3.048883</td>\n",
              "      <td>3.405139</td>\n",
              "      <td>3.315441</td>\n",
              "      <td>3.503724</td>\n",
              "    </tr>\n",
              "    <tr>\n",
              "      <th>2016-06-08</th>\n",
              "      <td>1.751690</td>\n",
              "      <td>1.924873</td>\n",
              "      <td>2.346155</td>\n",
              "      <td>2.693774</td>\n",
              "      <td>3.088647</td>\n",
              "      <td>3.169893</td>\n",
              "      <td>3.490219</td>\n",
              "      <td>2.921695</td>\n",
              "      <td>2.717261</td>\n",
              "      <td>2.245508</td>\n",
              "      <td>...</td>\n",
              "      <td>1.559414</td>\n",
              "      <td>1.238730</td>\n",
              "      <td>1.845379</td>\n",
              "      <td>1.681266</td>\n",
              "      <td>1.487829</td>\n",
              "      <td>1.481764</td>\n",
              "      <td>2.371686</td>\n",
              "      <td>3.048883</td>\n",
              "      <td>3.405139</td>\n",
              "      <td>3.315441</td>\n",
              "    </tr>\n",
              "    <tr>\n",
              "      <th>...</th>\n",
              "      <td>...</td>\n",
              "      <td>...</td>\n",
              "      <td>...</td>\n",
              "      <td>...</td>\n",
              "      <td>...</td>\n",
              "      <td>...</td>\n",
              "      <td>...</td>\n",
              "      <td>...</td>\n",
              "      <td>...</td>\n",
              "      <td>...</td>\n",
              "      <td>...</td>\n",
              "      <td>...</td>\n",
              "      <td>...</td>\n",
              "      <td>...</td>\n",
              "      <td>...</td>\n",
              "      <td>...</td>\n",
              "      <td>...</td>\n",
              "      <td>...</td>\n",
              "      <td>...</td>\n",
              "      <td>...</td>\n",
              "      <td>...</td>\n",
              "    </tr>\n",
              "    <tr>\n",
              "      <th>2021-02-12</th>\n",
              "      <td>14.871183</td>\n",
              "      <td>15.236260</td>\n",
              "      <td>13.932462</td>\n",
              "      <td>12.699361</td>\n",
              "      <td>13.430854</td>\n",
              "      <td>14.013397</td>\n",
              "      <td>12.422128</td>\n",
              "      <td>13.518779</td>\n",
              "      <td>13.350958</td>\n",
              "      <td>13.094628</td>\n",
              "      <td>...</td>\n",
              "      <td>10.339842</td>\n",
              "      <td>10.124395</td>\n",
              "      <td>10.316718</td>\n",
              "      <td>8.889237</td>\n",
              "      <td>8.430504</td>\n",
              "      <td>12.309750</td>\n",
              "      <td>12.945810</td>\n",
              "      <td>13.247928</td>\n",
              "      <td>10.910690</td>\n",
              "      <td>11.405886</td>\n",
              "    </tr>\n",
              "    <tr>\n",
              "      <th>2021-02-16</th>\n",
              "      <td>14.987089</td>\n",
              "      <td>14.871183</td>\n",
              "      <td>15.236260</td>\n",
              "      <td>13.932462</td>\n",
              "      <td>12.699361</td>\n",
              "      <td>13.430854</td>\n",
              "      <td>14.013397</td>\n",
              "      <td>12.422128</td>\n",
              "      <td>13.518779</td>\n",
              "      <td>13.350958</td>\n",
              "      <td>...</td>\n",
              "      <td>9.205349</td>\n",
              "      <td>10.339842</td>\n",
              "      <td>10.124395</td>\n",
              "      <td>10.316718</td>\n",
              "      <td>8.889237</td>\n",
              "      <td>8.430504</td>\n",
              "      <td>12.309750</td>\n",
              "      <td>12.945810</td>\n",
              "      <td>13.247928</td>\n",
              "      <td>10.910690</td>\n",
              "    </tr>\n",
              "    <tr>\n",
              "      <th>2021-02-17</th>\n",
              "      <td>14.996510</td>\n",
              "      <td>14.987089</td>\n",
              "      <td>14.871183</td>\n",
              "      <td>15.236260</td>\n",
              "      <td>13.932462</td>\n",
              "      <td>12.699361</td>\n",
              "      <td>13.430854</td>\n",
              "      <td>14.013397</td>\n",
              "      <td>12.422128</td>\n",
              "      <td>13.518779</td>\n",
              "      <td>...</td>\n",
              "      <td>10.504956</td>\n",
              "      <td>9.205349</td>\n",
              "      <td>10.339842</td>\n",
              "      <td>10.124395</td>\n",
              "      <td>10.316718</td>\n",
              "      <td>8.889237</td>\n",
              "      <td>8.430504</td>\n",
              "      <td>12.309750</td>\n",
              "      <td>12.945810</td>\n",
              "      <td>13.247928</td>\n",
              "    </tr>\n",
              "    <tr>\n",
              "      <th>2021-02-18</th>\n",
              "      <td>15.293859</td>\n",
              "      <td>14.996510</td>\n",
              "      <td>14.987089</td>\n",
              "      <td>14.871183</td>\n",
              "      <td>15.236260</td>\n",
              "      <td>13.932462</td>\n",
              "      <td>12.699361</td>\n",
              "      <td>13.430854</td>\n",
              "      <td>14.013397</td>\n",
              "      <td>12.422128</td>\n",
              "      <td>...</td>\n",
              "      <td>11.075503</td>\n",
              "      <td>10.504956</td>\n",
              "      <td>9.205349</td>\n",
              "      <td>10.339842</td>\n",
              "      <td>10.124395</td>\n",
              "      <td>10.316718</td>\n",
              "      <td>8.889237</td>\n",
              "      <td>8.430504</td>\n",
              "      <td>12.309750</td>\n",
              "      <td>12.945810</td>\n",
              "    </tr>\n",
              "    <tr>\n",
              "      <th>2021-02-19</th>\n",
              "      <td>14.590332</td>\n",
              "      <td>15.293859</td>\n",
              "      <td>14.996510</td>\n",
              "      <td>14.987089</td>\n",
              "      <td>14.871183</td>\n",
              "      <td>15.236260</td>\n",
              "      <td>13.932462</td>\n",
              "      <td>12.699361</td>\n",
              "      <td>13.430854</td>\n",
              "      <td>14.013397</td>\n",
              "      <td>...</td>\n",
              "      <td>11.820091</td>\n",
              "      <td>11.075503</td>\n",
              "      <td>10.504956</td>\n",
              "      <td>9.205349</td>\n",
              "      <td>10.339842</td>\n",
              "      <td>10.124395</td>\n",
              "      <td>10.316718</td>\n",
              "      <td>8.889237</td>\n",
              "      <td>8.430504</td>\n",
              "      <td>12.309750</td>\n",
              "    </tr>\n",
              "  </tbody>\n",
              "</table>\n",
              "<p>1188 rows × 71 columns</p>\n",
              "</div>\n",
              "      <button class=\"colab-df-convert\" onclick=\"convertToInteractive('df-8c44d6c9-2399-48dd-b892-2ee41af04837')\"\n",
              "              title=\"Convert this dataframe to an interactive table.\"\n",
              "              style=\"display:none;\">\n",
              "        \n",
              "  <svg xmlns=\"http://www.w3.org/2000/svg\" height=\"24px\"viewBox=\"0 0 24 24\"\n",
              "       width=\"24px\">\n",
              "    <path d=\"M0 0h24v24H0V0z\" fill=\"none\"/>\n",
              "    <path d=\"M18.56 5.44l.94 2.06.94-2.06 2.06-.94-2.06-.94-.94-2.06-.94 2.06-2.06.94zm-11 1L8.5 8.5l.94-2.06 2.06-.94-2.06-.94L8.5 2.5l-.94 2.06-2.06.94zm10 10l.94 2.06.94-2.06 2.06-.94-2.06-.94-.94-2.06-.94 2.06-2.06.94z\"/><path d=\"M17.41 7.96l-1.37-1.37c-.4-.4-.92-.59-1.43-.59-.52 0-1.04.2-1.43.59L10.3 9.45l-7.72 7.72c-.78.78-.78 2.05 0 2.83L4 21.41c.39.39.9.59 1.41.59.51 0 1.02-.2 1.41-.59l7.78-7.78 2.81-2.81c.8-.78.8-2.07 0-2.86zM5.41 20L4 18.59l7.72-7.72 1.47 1.35L5.41 20z\"/>\n",
              "  </svg>\n",
              "      </button>\n",
              "      \n",
              "  <style>\n",
              "    .colab-df-container {\n",
              "      display:flex;\n",
              "      flex-wrap:wrap;\n",
              "      gap: 12px;\n",
              "    }\n",
              "\n",
              "    .colab-df-convert {\n",
              "      background-color: #E8F0FE;\n",
              "      border: none;\n",
              "      border-radius: 50%;\n",
              "      cursor: pointer;\n",
              "      display: none;\n",
              "      fill: #1967D2;\n",
              "      height: 32px;\n",
              "      padding: 0 0 0 0;\n",
              "      width: 32px;\n",
              "    }\n",
              "\n",
              "    .colab-df-convert:hover {\n",
              "      background-color: #E2EBFA;\n",
              "      box-shadow: 0px 1px 2px rgba(60, 64, 67, 0.3), 0px 1px 3px 1px rgba(60, 64, 67, 0.15);\n",
              "      fill: #174EA6;\n",
              "    }\n",
              "\n",
              "    [theme=dark] .colab-df-convert {\n",
              "      background-color: #3B4455;\n",
              "      fill: #D2E3FC;\n",
              "    }\n",
              "\n",
              "    [theme=dark] .colab-df-convert:hover {\n",
              "      background-color: #434B5C;\n",
              "      box-shadow: 0px 1px 3px 1px rgba(0, 0, 0, 0.15);\n",
              "      filter: drop-shadow(0px 1px 2px rgba(0, 0, 0, 0.3));\n",
              "      fill: #FFFFFF;\n",
              "    }\n",
              "  </style>\n",
              "\n",
              "      <script>\n",
              "        const buttonEl =\n",
              "          document.querySelector('#df-8c44d6c9-2399-48dd-b892-2ee41af04837 button.colab-df-convert');\n",
              "        buttonEl.style.display =\n",
              "          google.colab.kernel.accessAllowed ? 'block' : 'none';\n",
              "\n",
              "        async function convertToInteractive(key) {\n",
              "          const element = document.querySelector('#df-8c44d6c9-2399-48dd-b892-2ee41af04837');\n",
              "          const dataTable =\n",
              "            await google.colab.kernel.invokeFunction('convertToInteractive',\n",
              "                                                     [key], {});\n",
              "          if (!dataTable) return;\n",
              "\n",
              "          const docLinkHtml = 'Like what you see? Visit the ' +\n",
              "            '<a target=\"_blank\" href=https://colab.research.google.com/notebooks/data_table.ipynb>data table notebook</a>'\n",
              "            + ' to learn more about interactive tables.';\n",
              "          element.innerHTML = '';\n",
              "          dataTable['output_type'] = 'display_data';\n",
              "          await google.colab.output.renderOutput(dataTable, element);\n",
              "          const docLink = document.createElement('div');\n",
              "          docLink.innerHTML = docLinkHtml;\n",
              "          element.appendChild(docLink);\n",
              "        }\n",
              "      </script>\n",
              "    </div>\n",
              "  </div>\n",
              "  "
            ],
            "text/plain": [
              "            0 day shift  1 day shift  2 day shift  3 day shift  4 day shift  \\\n",
              "2016-06-02     3.088647     3.169893     3.490219     2.921695     2.717261   \n",
              "2016-06-03     2.693774     3.088647     3.169893     3.490219     2.921695   \n",
              "2016-06-06     2.346155     2.693774     3.088647     3.169893     3.490219   \n",
              "2016-06-07     1.924873     2.346155     2.693774     3.088647     3.169893   \n",
              "2016-06-08     1.751690     1.924873     2.346155     2.693774     3.088647   \n",
              "...                 ...          ...          ...          ...          ...   \n",
              "2021-02-12    14.871183    15.236260    13.932462    12.699361    13.430854   \n",
              "2021-02-16    14.987089    14.871183    15.236260    13.932462    12.699361   \n",
              "2021-02-17    14.996510    14.987089    14.871183    15.236260    13.932462   \n",
              "2021-02-18    15.293859    14.996510    14.987089    14.871183    15.236260   \n",
              "2021-02-19    14.590332    15.293859    14.996510    14.987089    14.871183   \n",
              "\n",
              "            5 day shift  6 day shift  7 day shift  8 day shift  9 day shift  \\\n",
              "2016-06-02     2.245508     2.451901     2.166715     2.176523     1.928327   \n",
              "2016-06-03     2.717261     2.245508     2.451901     2.166715     2.176523   \n",
              "2016-06-06     2.921695     2.717261     2.245508     2.451901     2.166715   \n",
              "2016-06-07     3.490219     2.921695     2.717261     2.245508     2.451901   \n",
              "2016-06-08     3.169893     3.490219     2.921695     2.717261     2.245508   \n",
              "...                 ...          ...          ...          ...          ...   \n",
              "2021-02-12    14.013397    12.422128    13.518779    13.350958    13.094628   \n",
              "2021-02-16    13.430854    14.013397    12.422128    13.518779    13.350958   \n",
              "2021-02-17    12.699361    13.430854    14.013397    12.422128    13.518779   \n",
              "2021-02-18    13.932462    12.699361    13.430854    14.013397    12.422128   \n",
              "2021-02-19    15.236260    13.932462    12.699361    13.430854    14.013397   \n",
              "\n",
              "            ...  61 day shift  62 day shift  63 day shift  64 day shift  \\\n",
              "2016-06-02  ...      1.487829      1.481764      2.371686      3.048883   \n",
              "2016-06-03  ...      1.681266      1.487829      1.481764      2.371686   \n",
              "2016-06-06  ...      1.845379      1.681266      1.487829      1.481764   \n",
              "2016-06-07  ...      1.238730      1.845379      1.681266      1.487829   \n",
              "2016-06-08  ...      1.559414      1.238730      1.845379      1.681266   \n",
              "...         ...           ...           ...           ...           ...   \n",
              "2021-02-12  ...     10.339842     10.124395     10.316718      8.889237   \n",
              "2021-02-16  ...      9.205349     10.339842     10.124395     10.316718   \n",
              "2021-02-17  ...     10.504956      9.205349     10.339842     10.124395   \n",
              "2021-02-18  ...     11.075503     10.504956      9.205349     10.339842   \n",
              "2021-02-19  ...     11.820091     11.075503     10.504956      9.205349   \n",
              "\n",
              "            65 day shift  66 day shift  67 day shift  68 day shift  \\\n",
              "2016-06-02      3.405139      3.315441      3.503724      3.571919   \n",
              "2016-06-03      3.048883      3.405139      3.315441      3.503724   \n",
              "2016-06-06      2.371686      3.048883      3.405139      3.315441   \n",
              "2016-06-07      1.481764      2.371686      3.048883      3.405139   \n",
              "2016-06-08      1.487829      1.481764      2.371686      3.048883   \n",
              "...                  ...           ...           ...           ...   \n",
              "2021-02-12      8.430504     12.309750     12.945810     13.247928   \n",
              "2021-02-16      8.889237      8.430504     12.309750     12.945810   \n",
              "2021-02-17     10.316718      8.889237      8.430504     12.309750   \n",
              "2021-02-18     10.124395     10.316718      8.889237      8.430504   \n",
              "2021-02-19     10.339842     10.124395     10.316718      8.889237   \n",
              "\n",
              "            69 day shift  70 day shift  \n",
              "2016-06-02      3.456579      3.192697  \n",
              "2016-06-03      3.571919      3.456579  \n",
              "2016-06-06      3.503724      3.571919  \n",
              "2016-06-07      3.315441      3.503724  \n",
              "2016-06-08      3.405139      3.315441  \n",
              "...                  ...           ...  \n",
              "2021-02-12     10.910690     11.405886  \n",
              "2021-02-16     13.247928     10.910690  \n",
              "2021-02-17     12.945810     13.247928  \n",
              "2021-02-18     12.309750     12.945810  \n",
              "2021-02-19      8.430504     12.309750  \n",
              "\n",
              "[1188 rows x 71 columns]"
            ]
          },
          "execution_count": 23,
          "metadata": {},
          "output_type": "execute_result"
        }
      ],
      "source": [
        "df_ser"
      ]
    },
    {
      "cell_type": "code",
      "execution_count": null,
      "metadata": {
        "id": "K5xOmRNmmxBg"
      },
      "outputs": [],
      "source": [
        "X = df_ser.loc[:,'1 day shift':]\n",
        "y = df_ser['0 day shift']"
      ]
    },
    {
      "cell_type": "code",
      "execution_count": null,
      "metadata": {
        "id": "cE8b3Io1mxBg"
      },
      "outputs": [],
      "source": [
        "train_size = 0.8\n",
        "\n",
        "X_train,X_test,y_train,y_test= train_test_split(X,y,\n",
        "                                                test_size = test_num,\n",
        "                                                shuffle = False)\n",
        "X_train,X_val,y_train,y_val = train_test_split(X_train,y_train,\n",
        "                                               train_size = train_size,\n",
        "                                               shuffle = False)"
      ]
    },
    {
      "cell_type": "code",
      "execution_count": null,
      "metadata": {
        "id": "H-G-PU4TmxBg"
      },
      "outputs": [],
      "source": [
        "val_num = y_val.shape[0]"
      ]
    },
    {
      "cell_type": "markdown",
      "metadata": {
        "id": "oxqh1dzjYG43"
      },
      "source": [
        "# RNN"
      ]
    },
    {
      "cell_type": "code",
      "execution_count": null,
      "metadata": {
        "id": "z7Weob1vmxBh"
      },
      "outputs": [],
      "source": [
        "X_train_values = X_train.values.reshape(-1,serlen,1)\n",
        "X_val_values = X_val.values.reshape(-1,serlen,1)\n",
        "X_test_values = X_test.values.reshape(-1,serlen,1)\n",
        "y_train_values = y_train.values.reshape(-1,1)\n",
        "y_val_values = y_val.values.reshape(-1,1)\n",
        "y_test_values = y_test.values.reshape(-1,1)"
      ]
    },
    {
      "cell_type": "code",
      "execution_count": null,
      "metadata": {
        "id": "zhQQmxnEmxBi"
      },
      "outputs": [],
      "source": [
        "import tensorflow as tf\n",
        "from tensorflow.keras.models import Sequential\n",
        "from tensorflow.keras.layers import Dense, SimpleRNN\n",
        "from tensorflow.keras import optimizers\n",
        "from tensorflow.keras.callbacks import EarlyStopping"
      ]
    },
    {
      "cell_type": "code",
      "execution_count": null,
      "metadata": {
        "colab": {
          "base_uri": "https://localhost:8080/"
        },
        "id": "uQUTcI6ymxBi",
        "outputId": "b17d3336-12c0-40af-812a-b30edf272c24"
      },
      "outputs": [
        {
          "name": "stdout",
          "output_type": "stream",
          "text": [
            "Epoch 1/10000\n",
            "75/75 [==============================] - 3s 19ms/step - loss: 3.7868 - val_loss: 5.2147\n",
            "Epoch 2/10000\n",
            "75/75 [==============================] - 1s 16ms/step - loss: 2.6290 - val_loss: 5.2096\n",
            "Epoch 3/10000\n",
            "75/75 [==============================] - 1s 16ms/step - loss: 2.7119 - val_loss: 5.4290\n",
            "Epoch 4/10000\n",
            "75/75 [==============================] - 1s 16ms/step - loss: 2.6934 - val_loss: 5.3151\n",
            "Epoch 5/10000\n",
            "75/75 [==============================] - 1s 16ms/step - loss: 2.6291 - val_loss: 5.5911\n",
            "Epoch 6/10000\n",
            "75/75 [==============================] - 1s 16ms/step - loss: 2.6815 - val_loss: 5.7399\n",
            "Epoch 7/10000\n",
            "75/75 [==============================] - 1s 16ms/step - loss: 2.9574 - val_loss: 5.4343\n",
            "Epoch 7: early stopping\n"
          ]
        },
        {
          "data": {
            "text/plain": [
              "<keras.callbacks.History at 0x7f3516e0cd90>"
            ]
          },
          "execution_count": 29,
          "metadata": {},
          "output_type": "execute_result"
        }
      ],
      "source": [
        "tf.random.set_seed(321)\n",
        "\n",
        "modelRNN = Sequential()\n",
        "modelRNN.add(SimpleRNN(70, activation = 'tanh'))\n",
        "modelRNN.add(Dense(1,activation = 'linear'))\n",
        "optimizer = optimizers.RMSprop(learning_rate = 0.001,rho=0.99)\n",
        "modelRNN.compile(optimizer = optimizer, loss = 'mean_squared_error')\n",
        "es = EarlyStopping(monitor = 'loss',\n",
        "                  patience = 5,\n",
        "                  verbose = 1)\n",
        "modelRNN.fit(X_train_values,y_train_values,\n",
        "             epochs = 10000, batch_size = 10,verbose = 1,\n",
        "             callbacks = [es],\n",
        "             validation_data = (X_val_values,y_val_values))"
      ]
    },
    {
      "cell_type": "code",
      "execution_count": null,
      "metadata": {
        "colab": {
          "base_uri": "https://localhost:8080/",
          "height": 530
        },
        "id": "5GZtMj-dmxBi",
        "outputId": "5390d9d1-685a-4c67-f7a3-ab7c8acce1f3"
      },
      "outputs": [
        {
          "data": {
            "text/plain": [
              "<matplotlib.legend.Legend at 0x7f3512a2bc50>"
            ]
          },
          "execution_count": 37,
          "metadata": {},
          "output_type": "execute_result"
        },
        {
          "data": {
            "image/png": "[encoded data removed]",
            "text/plain": [
              "<Figure size 432x288 with 1 Axes>"
            ]
          },
          "metadata": {
            "needs_background": "light"
          },
          "output_type": "display_data"
        },
        {
          "data": {
            "image/png": "[encoded data removed]",
            "text/plain": [
              "<Figure size 432x288 with 1 Axes>"
            ]
          },
          "metadata": {
            "needs_background": "light"
          },
          "output_type": "display_data"
        }
      ],
      "source": [
        "y_train_pred = modelRNN.predict(X_train_values).reshape(-1,)\n",
        "y_val_pred = modelRNN.predict(X_val_values).reshape(-1,)\n",
        "\n",
        "fig1 = plt.figure()\n",
        "plt.plot(y_train.index, y_train,\n",
        "         label = 'train',\n",
        "         color = 'black',\n",
        "         linestyle = 'solid')\n",
        "plt.plot(y_train.index, y_train_pred, \n",
        "         label= 'train pred',\n",
        "         color = 'black',\n",
        "         linestyle = 'dotted')\n",
        "plt.xticks(y_train.index[np.arange(0,len(y_train.index)+1,186)])\n",
        "plt.legend()\n",
        "\n",
        "fig2 = plt.figure()\n",
        "plt.plot(y_val.index, y_val, \n",
        "         label = 'val',\n",
        "         color = 'black',\n",
        "         linestyle = 'solid')\n",
        "plt.plot(y_val.index, y_val_pred, \n",
        "         label = 'val pred',\n",
        "         color = 'black',\n",
        "         linestyle = 'dotted')\n",
        "plt.xticks(y_val.index[np.arange(0,len(y_val.index)+1,46)])\n",
        "plt.legend()"
      ]
    },
    {
      "cell_type": "code",
      "execution_count": null,
      "metadata": {
        "colab": {
          "base_uri": "https://localhost:8080/"
        },
        "id": "m5x6EwIV8xjI",
        "outputId": "f8d995de-0761-4904-c4e8-2c22a12337cf"
      },
      "outputs": [
        {
          "name": "stdout",
          "output_type": "stream",
          "text": [
            "R score, RNN 0.2714510665900325\n"
          ]
        }
      ],
      "source": [
        "from sklearn.metrics import r2_score\n",
        "\n",
        "print('R score, RNN',r2_score(y_val,y_val_pred))"
      ]
    },
    {
      "cell_type": "markdown",
      "metadata": {
        "id": "Wca07rL8mxBi"
      },
      "source": [
        "# LSTM"
      ]
    },
    {
      "cell_type": "code",
      "execution_count": null,
      "metadata": {
        "id": "dcH3uwGMmxBj"
      },
      "outputs": [],
      "source": [
        "from tensorflow.keras.layers import LSTM"
      ]
    },
    {
      "cell_type": "code",
      "execution_count": null,
      "metadata": {
        "colab": {
          "base_uri": "https://localhost:8080/"
        },
        "id": "qoY0nc3emxBj",
        "outputId": "43f6393d-7b15-4cab-ec4a-0bc7cc503cce"
      },
      "outputs": [
        {
          "name": "stdout",
          "output_type": "stream",
          "text": [
            "Epoch 1/100\n",
            "75/75 [==============================] - 6s 43ms/step - loss: 3.3943 - val_loss: 5.4948\n",
            "Epoch 2/100\n",
            "75/75 [==============================] - 2s 33ms/step - loss: 3.4877 - val_loss: 5.3601\n",
            "Epoch 3/100\n",
            "75/75 [==============================] - 3s 35ms/step - loss: 3.2526 - val_loss: 4.9980\n",
            "Epoch 4/100\n",
            "75/75 [==============================] - 3s 38ms/step - loss: 3.1474 - val_loss: 6.2513\n",
            "Epoch 5/100\n",
            "75/75 [==============================] - 3s 36ms/step - loss: 3.1180 - val_loss: 4.9377\n",
            "Epoch 6/100\n",
            "75/75 [==============================] - 2s 32ms/step - loss: 3.0499 - val_loss: 5.8314\n",
            "Epoch 7/100\n",
            "75/75 [==============================] - 3s 33ms/step - loss: 3.0727 - val_loss: 5.5695\n",
            "Epoch 8/100\n",
            "75/75 [==============================] - 3s 35ms/step - loss: 2.8929 - val_loss: 5.9718\n",
            "Epoch 9/100\n",
            "75/75 [==============================] - 3s 34ms/step - loss: 2.6207 - val_loss: 5.8268\n",
            "Epoch 10/100\n",
            "75/75 [==============================] - 3s 36ms/step - loss: 2.3910 - val_loss: 5.4324\n",
            "Epoch 11/100\n",
            "75/75 [==============================] - 3s 34ms/step - loss: 2.2915 - val_loss: 5.2870\n",
            "Epoch 12/100\n",
            "75/75 [==============================] - 3s 36ms/step - loss: 2.2843 - val_loss: 5.5705\n",
            "Epoch 13/100\n",
            "75/75 [==============================] - 2s 33ms/step - loss: 2.1563 - val_loss: 5.7782\n",
            "Epoch 14/100\n",
            "75/75 [==============================] - 3s 35ms/step - loss: 1.8978 - val_loss: 6.5551\n",
            "Epoch 15/100\n",
            "75/75 [==============================] - 3s 35ms/step - loss: 1.5670 - val_loss: 4.5368\n",
            "Epoch 16/100\n",
            "75/75 [==============================] - 2s 33ms/step - loss: 1.7907 - val_loss: 3.2339\n",
            "Epoch 17/100\n",
            "75/75 [==============================] - 3s 34ms/step - loss: 2.0047 - val_loss: 2.7550\n",
            "Epoch 18/100\n",
            "75/75 [==============================] - 3s 44ms/step - loss: 2.0605 - val_loss: 2.8598\n",
            "Epoch 19/100\n",
            "75/75 [==============================] - 5s 71ms/step - loss: 2.0537 - val_loss: 2.7739\n",
            "Epoch 20/100\n",
            "75/75 [==============================] - 5s 64ms/step - loss: 1.2539 - val_loss: 3.0797\n",
            "Epoch 21/100\n",
            "75/75 [==============================] - 4s 57ms/step - loss: 0.4712 - val_loss: 2.4662\n",
            "Epoch 22/100\n",
            "75/75 [==============================] - 5s 72ms/step - loss: 0.4190 - val_loss: 3.2655\n",
            "Epoch 23/100\n",
            "75/75 [==============================] - 5s 62ms/step - loss: 0.4264 - val_loss: 2.6464\n",
            "Epoch 24/100\n",
            "75/75 [==============================] - 3s 42ms/step - loss: 0.3827 - val_loss: 2.7122\n",
            "Epoch 25/100\n",
            "75/75 [==============================] - 3s 39ms/step - loss: 0.3706 - val_loss: 2.7825\n",
            "Epoch 26/100\n",
            "75/75 [==============================] - 3s 38ms/step - loss: 0.3610 - val_loss: 2.4225\n",
            "Epoch 27/100\n",
            "75/75 [==============================] - 3s 38ms/step - loss: 0.3680 - val_loss: 2.4760\n",
            "Epoch 28/100\n",
            "75/75 [==============================] - 3s 36ms/step - loss: 0.3482 - val_loss: 2.4979\n",
            "Epoch 29/100\n",
            "75/75 [==============================] - 3s 36ms/step - loss: 0.3947 - val_loss: 2.4155\n",
            "Epoch 30/100\n",
            "75/75 [==============================] - 3s 35ms/step - loss: 0.3553 - val_loss: 2.4928\n",
            "Epoch 31/100\n",
            "75/75 [==============================] - 3s 38ms/step - loss: 0.3490 - val_loss: 2.5546\n",
            "Epoch 32/100\n",
            "75/75 [==============================] - 3s 36ms/step - loss: 0.3908 - val_loss: 2.2450\n",
            "Epoch 33/100\n",
            "75/75 [==============================] - 3s 39ms/step - loss: 0.3857 - val_loss: 2.4536\n",
            "Epoch 33: early stopping\n"
          ]
        },
        {
          "data": {
            "text/plain": [
              "<keras.callbacks.History at 0x7f35166f7750>"
            ]
          },
          "execution_count": 33,
          "metadata": {},
          "output_type": "execute_result"
        }
      ],
      "source": [
        "tf.random.set_seed(123)\n",
        "tf.random.set_seed(321)\n",
        "\n",
        "modelLSTM = Sequential()\n",
        "modelLSTM.add(LSTM(70, activation = 'tanh')) \n",
        "modelLSTM.add(Dense(1,activation = 'linear'))\n",
        "optimizer = optimizers.Adam(learning_rate = 0.01, \n",
        "                            beta_1 = 0.9, \n",
        "                            beta_2 = 0.999, \n",
        "                            amsgrad = True)\n",
        "modelLSTM.compile(optimizer = optimizer, loss = 'mean_squared_error')\n",
        "es = EarlyStopping(monitor = 'loss',\n",
        "                  patience = 5,\n",
        "                  verbose = 1)\n",
        "modelLSTM.fit(X_train_values,y_train_values,\n",
        "         epochs = 100, batch_size = 10,verbose = 1,\n",
        "         callbacks = [es],\n",
        "         validation_data = (X_val_values,y_val_values))"
      ]
    },
    {
      "cell_type": "code",
      "execution_count": null,
      "metadata": {
        "colab": {
          "base_uri": "https://localhost:8080/",
          "height": 534
        },
        "id": "rLuTiSfhmxBj",
        "outputId": "4ef1a1ad-b4eb-4dff-993e-9952d7079718"
      },
      "outputs": [
        {
          "data": {
            "text/plain": [
              "<matplotlib.legend.Legend at 0x7f3512927fd0>"
            ]
          },
          "execution_count": 39,
          "metadata": {},
          "output_type": "execute_result"
        },
        {
          "data": {
            "image/png": "[encoded data removed]",
            "text/plain": [
              "<Figure size 432x288 with 1 Axes>"
            ]
          },
          "metadata": {
            "needs_background": "light"
          },
          "output_type": "display_data"
        },
        {
          "data": {
            "image/png": "[encoded data removed]",
            "text/plain": [
              "<Figure size 432x288 with 1 Axes>"
            ]
          },
          "metadata": {
            "needs_background": "light"
          },
          "output_type": "display_data"
        }
      ],
      "source": [
        "y_train_pred = modelLSTM.predict(X_train_values).reshape(-1,)\n",
        "y_val_pred = modelLSTM.predict(X_val_values).reshape(-1,)\n",
        "\n",
        "fig3 = plt.figure()\n",
        "plt.plot(y_train.index,y_train,label = 'train',\n",
        "         color = 'black',\n",
        "         linestyle = 'solid')\n",
        "plt.plot(y_train.index, y_train_pred, \n",
        "         label= 'train pred',\n",
        "         color = 'black',\n",
        "         linestyle = 'dotted')\n",
        "plt.xticks(y_train.index[np.arange(0,len(y_train.index)+1,186)])\n",
        "plt.legend()\n",
        "\n",
        "\n",
        "fig4 = plt.figure()\n",
        "plt.plot(y_val.index,y_val, \n",
        "         label = 'val',\n",
        "         color = 'black',\n",
        "         linestyle = 'solid')\n",
        "plt.plot(y_val.index, y_val_pred, \n",
        "         label = 'val pred', \n",
        "         color = 'black',\n",
        "         linestyle = 'dotted')\n",
        "plt.xticks(y_val.index[np.arange(0,len(y_val.index)+1,46)])\n",
        "plt.legend()"
      ]
    },
    {
      "cell_type": "code",
      "execution_count": null,
      "metadata": {
        "colab": {
          "base_uri": "https://localhost:8080/"
        },
        "id": "6yvUmSje9Ode",
        "outputId": "726c7c7a-1743-433b-a637-fabf9224ebcf"
      },
      "outputs": [
        {
          "name": "stdout",
          "output_type": "stream",
          "text": [
            "R score, LSTM 0.6710590700581502\n"
          ]
        }
      ],
      "source": [
        "print('R score, LSTM',r2_score(y_val,y_val_pred))"
      ]
    },
    {
      "cell_type": "markdown",
      "metadata": {
        "id": "bxnx0bTCmxBj"
      },
      "source": [
        "# GRU"
      ]
    },
    {
      "cell_type": "code",
      "execution_count": null,
      "metadata": {
        "colab": {
          "base_uri": "https://localhost:8080/"
        },
        "id": "eeN7QEdvmxBl",
        "outputId": "82e60dc0-b8dc-4a59-b6a0-805384270eb1"
      },
      "outputs": [
        {
          "name": "stdout",
          "output_type": "stream",
          "text": [
            "Epoch 1/100\n",
            "75/75 [==============================] - 7s 47ms/step - loss: 4.9888 - val_loss: 7.4588\n",
            "Epoch 2/100\n",
            "75/75 [==============================] - 3s 40ms/step - loss: 0.9455 - val_loss: 3.0265\n",
            "Epoch 3/100\n",
            "75/75 [==============================] - 4s 55ms/step - loss: 0.3762 - val_loss: 2.2336\n",
            "Epoch 4/100\n",
            "75/75 [==============================] - 6s 79ms/step - loss: 0.3641 - val_loss: 2.1109\n",
            "Epoch 5/100\n",
            "75/75 [==============================] - 5s 62ms/step - loss: 0.3553 - val_loss: 2.1329\n",
            "Epoch 6/100\n",
            "75/75 [==============================] - 5s 62ms/step - loss: 0.3793 - val_loss: 1.8353\n",
            "Epoch 7/100\n",
            "75/75 [==============================] - 5s 62ms/step - loss: 0.3616 - val_loss: 1.9936\n",
            "Epoch 8/100\n",
            "75/75 [==============================] - 4s 59ms/step - loss: 0.3445 - val_loss: 2.1102\n",
            "Epoch 9/100\n",
            "75/75 [==============================] - 5s 65ms/step - loss: 0.3576 - val_loss: 2.0374\n",
            "Epoch 10/100\n",
            "75/75 [==============================] - 3s 39ms/step - loss: 0.3813 - val_loss: 2.6416\n",
            "Epoch 11/100\n",
            "75/75 [==============================] - 3s 44ms/step - loss: 0.3458 - val_loss: 2.5720\n",
            "Epoch 12/100\n",
            "75/75 [==============================] - 4s 51ms/step - loss: 0.3434 - val_loss: 2.7358\n",
            "Epoch 13/100\n",
            "75/75 [==============================] - 3s 34ms/step - loss: 0.3446 - val_loss: 3.1965\n",
            "Epoch 14/100\n",
            "75/75 [==============================] - 3s 35ms/step - loss: 0.3600 - val_loss: 2.9975\n",
            "Epoch 15/100\n",
            "75/75 [==============================] - 3s 34ms/step - loss: 0.3400 - val_loss: 3.0013\n",
            "Epoch 16/100\n",
            "75/75 [==============================] - 3s 34ms/step - loss: 0.3885 - val_loss: 3.6481\n",
            "Epoch 17/100\n",
            "75/75 [==============================] - 3s 36ms/step - loss: 0.3300 - val_loss: 3.4524\n",
            "Epoch 18/100\n",
            "75/75 [==============================] - 3s 38ms/step - loss: 0.3276 - val_loss: 3.3330\n",
            "Epoch 19/100\n",
            "75/75 [==============================] - 3s 43ms/step - loss: 0.3667 - val_loss: 2.9990\n",
            "Epoch 20/100\n",
            "75/75 [==============================] - 3s 35ms/step - loss: 0.3435 - val_loss: 4.0468\n",
            "Epoch 21/100\n",
            "75/75 [==============================] - 3s 36ms/step - loss: 0.3507 - val_loss: 3.3181\n",
            "Epoch 22/100\n",
            "75/75 [==============================] - 3s 37ms/step - loss: 0.3428 - val_loss: 3.1899\n",
            "Epoch 23/100\n",
            "75/75 [==============================] - 3s 34ms/step - loss: 0.3429 - val_loss: 3.3730\n",
            "Epoch 23: early stopping\n",
            "188\n",
            "188\n"
          ]
        }
      ],
      "source": [
        "from tensorflow.keras.layers import GRU\n",
        "\n",
        "tf.random.set_seed(123)\n",
        "#tf.random.set_seed(0)\n",
        "#tf.random.set_seed(321)\n",
        "\n",
        "#tf.random.set_seed(321)\n",
        "#tf.random.set_seed(777)\n",
        "#tf.random.set_seed(1234)\n",
        "\n",
        "\n",
        "modelGRU = Sequential()\n",
        "modelGRU.add(GRU(70, activation = 'tanh')) \n",
        "modelGRU.add(Dense(1,activation = 'linear'))\n",
        "optimizer = optimizers.Adam(learning_rate = 0.01, \n",
        "                            beta_1 = 0.9, \n",
        "                            beta_2 = 0.999, \n",
        "                            amsgrad = True)\n",
        "modelGRU.compile(optimizer = optimizer, loss = 'mean_squared_error')\n",
        "es = EarlyStopping(monitor = 'loss',\n",
        "                  patience = 5,\n",
        "                  verbose = 1)\n",
        "modelGRU.fit(X_train_values,y_train_values,\n",
        "         epochs = 100, batch_size = 10,verbose = 1,\n",
        "         callbacks = [es],\n",
        "         validation_data = (X_val_values,y_val_values))\n",
        "\n",
        "print(len(modelGRU.predict(X_val_values)))\n",
        "print(len(y_val_values))"
      ]
    },
    {
      "cell_type": "code",
      "execution_count": null,
      "metadata": {
        "colab": {
          "base_uri": "https://localhost:8080/",
          "height": 530
        },
        "id": "UoDhhcm0mxBl",
        "outputId": "1a42d77c-996e-4158-9e67-17c7a94e51b7"
      },
      "outputs": [
        {
          "data": {
            "text/plain": [
              "<matplotlib.legend.Legend at 0x7f3514640290>"
            ]
          },
          "execution_count": 44,
          "metadata": {},
          "output_type": "execute_result"
        },
        {
          "data": {
            "image/png": "[encoded data removed]",
            "text/plain": [
              "<Figure size 432x288 with 1 Axes>"
            ]
          },
          "metadata": {
            "needs_background": "light"
          },
          "output_type": "display_data"
        },
        {
          "data": {
            "image/png": "[encoded data removed]",
            "text/plain": [
              "<Figure size 432x288 with 1 Axes>"
            ]
          },
          "metadata": {
            "needs_background": "light"
          },
          "output_type": "display_data"
        }
      ],
      "source": [
        "y_train_pred = modelGRU.predict(X_train_values).reshape(-1,)\n",
        "y_val_pred = modelGRU.predict(X_val_values).reshape(-1,)\n",
        "\n",
        "fig5 = plt.figure()\n",
        "plt.plot(y_train.index,y_train,label = 'train',color = 'black',linestyle = 'solid')\n",
        "plt.plot(y_train.index, y_train_pred, \n",
        "         label= 'train pred',\n",
        "         color = 'black',\n",
        "         linestyle = 'dotted')\n",
        "plt.xticks(y_train.index[np.arange(0,len(y_train.index)+1,186)])\n",
        "plt.legend()\n",
        "\n",
        "\n",
        "fig6 = plt.figure()\n",
        "plt.plot(y_val.index, y_val, \n",
        "         label = 'val',\n",
        "         color = 'black',\n",
        "         linestyle = 'solid')\n",
        "plt.plot(y_val.index, y_val_pred, \n",
        "         label = 'val pred', \n",
        "         color = 'black',\n",
        "         linestyle = 'dotted')\n",
        "plt.xticks(y_val.index[np.arange(0,len(y_val.index)+1,46)])\n",
        "plt.legend()"
      ]
    },
    {
      "cell_type": "code",
      "execution_count": null,
      "metadata": {
        "colab": {
          "base_uri": "https://localhost:8080/"
        },
        "id": "6U5K6VAc9bnm",
        "outputId": "49e4c319-130a-4ed0-e98f-9ee5592ea883"
      },
      "outputs": [
        {
          "name": "stdout",
          "output_type": "stream",
          "text": [
            "R score, GRU 0.5477938419012888\n"
          ]
        }
      ],
      "source": [
        "print('R score, GRU',r2_score(y_val,y_val_pred))"
      ]
    },
    {
      "cell_type": "markdown",
      "metadata": {
        "id": "AXq7wPMbmxBm"
      },
      "source": [
        "# 取引シミュレーション"
      ]
    },
    {
      "cell_type": "markdown",
      "metadata": {
        "id": "6Qf5nbXNzg7l"
      },
      "source": [
        "## 閾値の候補"
      ]
    },
    {
      "cell_type": "code",
      "execution_count": null,
      "metadata": {
        "colab": {
          "base_uri": "https://localhost:8080/"
        },
        "id": "NlwYskErmxBm",
        "outputId": "c2cdffdc-dcbe-4131-bbb2-b852c59e60f0"
      },
      "outputs": [
        {
          "name": "stdout",
          "output_type": "stream",
          "text": [
            "quintile threshold (-0.6580995723335163, 0.5848852794993905)\n",
            "decile threshold (-0.936291679812178, 0.8216637678884808)\n"
          ]
        }
      ],
      "source": [
        "diff = (y_train.shift(-1) - y_train).dropna()\n",
        "diff_p = diff[diff > 0] \n",
        "diff_m = diff[diff <= 0]\n",
        "\n",
        "quintile_range = (diff_m.quantile(0.2),diff_p.quantile(0.8))\n",
        "decile_range = (diff_m.quantile(0.1),diff_p.quantile(0.9))\n",
        "\n",
        "print('quintile threshold',quintile_range)\n",
        "print('decile threshold',decile_range)"
      ]
    },
    {
      "cell_type": "markdown",
      "metadata": {
        "id": "6lolinjnzl9z"
      },
      "source": [
        "## 予測値の格納"
      ]
    },
    {
      "cell_type": "code",
      "execution_count": null,
      "metadata": {
        "id": "xox8GD8emxBn"
      },
      "outputs": [],
      "source": [
        "y_val_pred = modelGRU.predict(X_val_values).reshape(-1,)\n",
        "y_test_pred = modelGRU.predict(X_test_values).reshape(-1,)\n",
        "\n",
        "diff_val = (y_val_pred[1:] - y_val[:-1])\n",
        "diff_test = (y_test_pred[1:] - y_test[:-1])"
      ]
    },
    {
      "cell_type": "markdown",
      "metadata": {
        "id": "uGg-TH5WzqQD"
      },
      "source": [
        "## 検証データを使って5分位点のシミュレーション"
      ]
    },
    {
      "cell_type": "code",
      "execution_count": null,
      "metadata": {
        "colab": {
          "base_uri": "https://localhost:8080/"
        },
        "id": "Z79UTYxT0FEi",
        "outputId": "d39c615c-8a5a-4a84-b73e-49253aa9a264"
      },
      "outputs": [
        {
          "name": "stdout",
          "output_type": "stream",
          "text": [
            "short position is made at 2019-05-24 by the value of 3.045519121944203\n",
            "short position is liquidated at 2019-06-13 current portfolio value is 1.3761943377788057 current pair value is 1.669324784165397\n",
            "short position is made at 2019-07-23 by the value of 5.547053921211116\n",
            "short position is liquidated at 2019-07-25 current portfolio value is 4.833236598114979 current pair value is 2.090011660874943\n",
            "short position is made at 2020-01-21 by the value of 3.9222815061432854\n",
            "short position is liquidated at 2020-02-19 current portfolio value is -2.515842393826837\n",
            "-2.515842393826837\n"
          ]
        }
      ],
      "source": [
        "pos_q = 0 # 0 for no position, 1 for long positon, -1 for short position\n",
        "port_val_q = 0.0\n",
        "\n",
        "# 5分位点の閾値検証        \n",
        "for i,diff in enumerate(diff_val[:-1]): # 投資期間終了の直前までループ\n",
        "    index = diff_val.index[i]\n",
        "    if pos_q == 0:\n",
        "        if diff > quintile_range[1]: # ロング・ポジションを組む\n",
        "            pos_q = 1\n",
        "            ini_val_q = pairs_value[index] \n",
        "            print('long position is made at', index, \n",
        "                  'by the value of ',pairs_value[index])\n",
        "        elif diff < quintile_range[0]: # ショート・ポジションを組む\n",
        "            pos_q = -1\n",
        "            ini_val_q = pairs_value[index]\n",
        "            print('short position is made at', index, \n",
        "                  'by the value of', pairs_value[index])\n",
        "    #符号が反転したら利益を確定\n",
        "    elif pos_q == 1 and diff < 0: # ロング・ポジションの利益確定\n",
        "        port_val_q += (pairs_value[index] - ini_val_q)\n",
        "        pos_q = 0 # ポジションを解消する\n",
        "        print('long position is liquidated at',index,\n",
        "              'current portfolio value is', port_val_q,\n",
        "              'current pair value is', pairs_value[index])\n",
        "    elif pos_q == -1 and diff > 0:# ショートポジションの利益確定\n",
        "        port_val_q -= (pairs_value[index] - ini_val_q)\n",
        "        pos_q = 0 # ポジションを解消する\n",
        "        print('short position is liquidated at',index,\n",
        "              'current portfolio value is', port_val_q,\n",
        "              'current pair value is', pairs_value[index])\n",
        "    \n",
        "# 満期にポジションは強制終了\n",
        "index = diff_val.index[-1]\n",
        "if pos_q == 1:# ロング・ポジションの利益確定\n",
        "    port_val_q += (pairs_value[index] - ini_val_q)        \n",
        "    print('long position is liquidated at',index,\n",
        "          'current portfolio value is', port_val_q)\n",
        "if pos_q == -1:# ショート・ポジションの利益確定\n",
        "    port_val_q -= (pairs_value[index] - ini_val_q)\n",
        "    print('short position is liquidated at',index,\n",
        "          'current portfolio value is', port_val_q)\n",
        "\n",
        "print(port_val_q)"
      ]
    },
    {
      "cell_type": "markdown",
      "metadata": {
        "id": "YhYJ9tDXz7bV"
      },
      "source": [
        "## 検証データを使って10分位点のシミュレーション"
      ]
    },
    {
      "cell_type": "code",
      "execution_count": null,
      "metadata": {
        "colab": {
          "base_uri": "https://localhost:8080/"
        },
        "id": "DGPmf1j4mxBo",
        "outputId": "f14e7340-2db4-4359-dfa8-3ab0328fea22"
      },
      "outputs": [
        {
          "name": "stdout",
          "output_type": "stream",
          "text": [
            "short position is made at 2019-05-24 by the value of 3.045519121944203\n",
            "short position is liquidated at 2019-06-13 current value is 1.669324784165397\n",
            "short position is made at 2019-07-23 by the value of 5.547053921211116\n",
            "short position is liquidated at 2019-07-25 current value is 2.090011660874943\n",
            "short position is made at 2020-01-21 by the value of 3.9222815061432854\n",
            "short position is liquidated at 2020-02-19 current value is -2.515842393826837\n",
            "-2.515842393826837\n"
          ]
        }
      ],
      "source": [
        "# 10分位点の閾値検証      \n",
        "pos_d = 0\n",
        "port_val_d = 0.0\n",
        "\n",
        "#trade_count = 0 \n",
        "for i,diff in enumerate(diff_val[:-1]):\n",
        "    index = diff_val.index[i]\n",
        "    if pos_d == 0:\n",
        "        if diff > decile_range[1]: # ロング・ポジションを組む\n",
        "            pos_d = 1\n",
        "            ini_val_d = pairs_value[index]\n",
        "            print('long position is made at', index, \n",
        "                  'by the value of ',pairs_value[index])\n",
        "\n",
        "        elif diff < decile_range[0]: # ショート・ポジションを組む\n",
        "            pos_d = -1\n",
        "            ini_val_d = pairs_value[index]\n",
        "            print('short position is made at', index, \n",
        "                  'by the value of', pairs_value[index])\n",
        "    #符号が反転したら利益を確定\n",
        "    elif pos_d == 1 and diff < 0: # ロング・ポジションの利益確定\n",
        "        port_val_d += (pairs_value[index] - ini_val_d)\n",
        "        pos_d = 0 # ポジションを解消する\n",
        "        print('long position is liquidated at', index,\n",
        "              'current value is', pairs_value[index])\n",
        "    elif pos_d == -1 and diff > 0:# ショートポジションの利益確定\n",
        "        port_val_d -= (pairs_value[index] - ini_val_d)\n",
        "        pos_d = 0 # ポジションを解消する\n",
        "        print('short position is liquidated at', index,\n",
        "              'current value is', pairs_value[index])\n",
        "\n",
        "# 満期にポジションは強制終了     \n",
        "index = diff_val.index[-1]       \n",
        "if pos_d == 1:# ロング・ポジションの解消\n",
        "    port_val_d += (pairs_value[index] - ini_val_d)\n",
        "    print('long position is liquidated at', index,\n",
        "          'current value is', port_val_d)\n",
        "if pos_d == -1:# ショート・ポジションの利益確定\n",
        "    port_val_d -= (pairs_value[index] - ini_val_d)\n",
        "    print('short position is liquidated at', index,\n",
        "          'current value is', port_val_d)\n",
        "\n",
        "print(port_val_d)"
      ]
    },
    {
      "cell_type": "markdown",
      "metadata": {
        "id": "qCQaJaWf0Dp_"
      },
      "source": [
        "## 5分位点と10分位点のシミュレーション結果比較"
      ]
    },
    {
      "cell_type": "code",
      "execution_count": null,
      "metadata": {
        "colab": {
          "base_uri": "https://localhost:8080/"
        },
        "id": "eCWCyKoHmxBo",
        "outputId": "912f378f-e9bd-4ffc-e3e6-e0a7c898783e"
      },
      "outputs": [
        {
          "name": "stdout",
          "output_type": "stream",
          "text": [
            "(-2.515842393826837, -2.515842393826837)\n"
          ]
        }
      ],
      "source": [
        "print((port_val_q,port_val_d))"
      ]
    },
    {
      "cell_type": "code",
      "execution_count": null,
      "metadata": {
        "colab": {
          "base_uri": "https://localhost:8080/"
        },
        "id": "XHqHgt-cmxBo",
        "outputId": "64021e66-7b22-49eb-cbb7-90701424f769"
      },
      "outputs": [
        {
          "name": "stdout",
          "output_type": "stream",
          "text": [
            "optimal threshold is (-0.936291679812178, 0.8216637678884808)\n"
          ]
        }
      ],
      "source": [
        "if port_val_q > port_val_d:\n",
        "    threshold = quintile_range\n",
        "else:\n",
        "    threshold = decile_range\n",
        "\n",
        "print('optimal threshold is', threshold)"
      ]
    },
    {
      "cell_type": "markdown",
      "metadata": {
        "id": "Tj9cETtX0Mxt"
      },
      "source": [
        "## テストデータを用いた取引シミュレーション"
      ]
    },
    {
      "cell_type": "code",
      "execution_count": null,
      "metadata": {
        "colab": {
          "base_uri": "https://localhost:8080/"
        },
        "id": "yXPQna2VyCMh",
        "outputId": "cdbec589-8510-4fdc-9f39-9a0df5e8a12c"
      },
      "outputs": [
        {
          "name": "stdout",
          "output_type": "stream",
          "text": [
            "short position is made at 2020-02-21 by the value of 9.370475488439652\n",
            "short position is liquidated at 2020-04-24 current value is 5.181479764989881\n",
            "short position is made at 2020-04-28 by the value of 7.252526913534567\n",
            "short position is liquidated at 2020-04-30 current value is 5.480736504546961\n",
            "long position is made at 2020-05-06 by the value of  5.308710804203791\n",
            "long position is liquidated at 2020-05-11 current value is 8.353473560515496\n",
            "long position is made at 2020-05-18 by the value of  6.061184544760373\n",
            "long position is liquidated at 2020-08-03 current value is 7.8828262986039235\n",
            "short position is made at 2020-08-07 by the value of 8.455196323936903\n",
            "short position is liquidated at 2020-08-14 current value is 8.005377094484864\n",
            "short position is made at 2020-08-18 by the value of 9.3977261757449\n",
            "short position is liquidated at 2020-11-09 current value is 8.430503829405176\n",
            "short position is made at 2020-11-11 by the value of 10.316717562398928\n",
            "short position is liquidated at 2020-12-08 current value is 8.723684777151497\n",
            "short position is made at 2020-12-11 by the value of 9.88823187416498\n",
            "short position is liquidated at 2020-12-23 current value is 8.78977283798632\n",
            "short position is made at 2020-12-31 by the value of 9.933658546273016\n",
            "short position is liquidated at 2021-01-06 current value is 6.884981363544462\n",
            "long position is made at 2021-01-07 by the value of  6.234681088343571\n",
            "long position is liquidated at 2021-01-20 current value is 9.430304075095101\n",
            "short position is made at 2021-01-28 by the value of 10.680780165167846\n",
            "short position is liquidated at 2021-02-18 current value is 15.293858665256082\n",
            "Portfolio value is 16.566945709202336\n"
          ]
        }
      ],
      "source": [
        "pos = 0 # 0 for no position, 1 for long positon, -1 for short position\n",
        "port_val = 0.0\n",
        "port_hist = pd.DataFrame()\n",
        "\n",
        "for i,diff in enumerate(diff_test[:-1]):\n",
        "    index = diff_test.index[i]\n",
        "    if pos == 0:\n",
        "        if diff > threshold[1]: # ロング・ポジションを組む\n",
        "            pos = 1\n",
        "            ini_val = pairs_value[index] \n",
        "            print('long position is made at', index, \n",
        "                  'by the value of ',pairs_value[index])\n",
        "        elif diff < threshold[0]: # ショート・ポジションを組む\n",
        "            pos = -1\n",
        "            ini_val = pairs_value[index]\n",
        "            print('short position is made at', index, \n",
        "                  'by the value of', pairs_value[index])\n",
        "    #符号が反転したら利益を確定\n",
        "    if pos == 1 and np.sign(diff) < 0: # ロング・ポジションの利益確定\n",
        "        port_val += (pairs_value[index] - ini_val)\n",
        "        pos = 0 # ポジションを解消する\n",
        "        print('long position is liquidated at', index,\n",
        "              'current value is', pairs_value[index])\n",
        "    if pos == -1 and np.sign(diff) >= 0:# ショートポジションの利益確定\n",
        "        port_val -= (pairs_value[index] - ini_val)\n",
        "        pos = 0 # ポジションを解消する\n",
        "        print('short position is liquidated at', index,\n",
        "              'current value is', pairs_value[index])\n",
        "    ser = pd.DataFrame([pos],index = [index])\n",
        "    port_hist = port_hist.append(ser)\n",
        "\n",
        "        \n",
        "# 満期にポジションは強制終了\n",
        "index = diff_test.index[-1]\n",
        "if pos == 1:# ロング・ポジションの利益確定\n",
        "    port_val += (pairs_value[index] - ini_val)\n",
        "    print('long position is liquidated at', index,\n",
        "          'current value is', pairs_value[index])\n",
        "if pos == -1:# ショート・ポジションの利益確定\n",
        "    port_val -= (pairs_value[index] - ini_val)\n",
        "    print('short position is liquidated at', index,\n",
        "          'current value is', pairs_value[index])\n",
        "ser = pd.DataFrame([pos],index = [index])\n",
        "port_hist = port_hist.append(ser)\n",
        "\n",
        "print('Portfolio value is', port_val)"
      ]
    },
    {
      "cell_type": "code",
      "execution_count": null,
      "metadata": {
        "colab": {
          "base_uri": "https://localhost:8080/",
          "height": 334
        },
        "id": "1BAYoE-yy3Tp",
        "outputId": "f37f7449-93c1-4bd5-9fd9-3200ea101c6e"
      },
      "outputs": [
        {
          "name": "stderr",
          "output_type": "stream",
          "text": [
            "The PostScript backend does not support transparency; partially transparent artists will be rendered opaque.\n",
            "The PostScript backend does not support transparency; partially transparent artists will be rendered opaque.\n",
            "The PostScript backend does not support transparency; partially transparent artists will be rendered opaque.\n",
            "The PostScript backend does not support transparency; partially transparent artists will be rendered opaque.\n"
          ]
        },
        {
          "data": {
            "image/png": "[encoded data removed]",
            "text/plain": [
              "<Figure size 432x288 with 2 Axes>"
            ]
          },
          "metadata": {
            "needs_background": "light"
          },
          "output_type": "display_data"
        }
      ],
      "source": [
        "fig8 = plt.figure()\n",
        "\n",
        "ax1 = fig8.add_subplot(211)\n",
        "ax1.plot(pairs_value[diff_test.index].index,\n",
        "         pairs_value[diff_test.index].values,\n",
        "         color='black',\n",
        "         label='Pairs value')\n",
        "ax1.set_xticks(pairs_value[diff_test.index].index[::50])\n",
        "ax1.legend()\n",
        "\n",
        "ax2 = fig8.add_subplot(212)\n",
        "ax2.plot(port_hist.index,\n",
        "         port_hist.values,\n",
        "         color='black',\n",
        "         label = 'Position')\n",
        "ax2.set_yticks([-1,0,1])\n",
        "ax2.set_xticks(port_hist.index[::50])\n",
        "ax2.legend()"
      ]
    }
  ],
  "metadata": {
    "celltoolbar": "Raw Cell Format",
    "colab": {
      "background_execution": "on",
      "collapsed_sections": [],
      "include_colab_link": true,
      "name": "ch10_RNN.ipynb",
      "provenance": [],
      "toc_visible": true
    },
    "kernelspec": {
      "display_name": "Python 3",
      "language": "python",
      "name": "python3"
    },
    "language_info": {
      "codemirror_mode": {
        "name": "ipython",
        "version": 3
      },
      "file_extension": ".py",
      "mimetype": "text/x-python",
      "name": "python",
      "nbconvert_exporter": "python",
      "pygments_lexer": "ipython3",
      "version": "3.7.9"
    }
  },
  "nbformat": 4,
  "nbformat_minor": 0
}
