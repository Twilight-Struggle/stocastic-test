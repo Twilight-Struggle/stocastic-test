{
  "cells": [
    {
      "cell_type": "markdown",
      "metadata": {
        "id": "do2vmsDed-3Q"
      },
      "source": [
        "# パッケージのインポート"
      ]
    },
    {
      "cell_type": "code",
      "execution_count": 1,
      "metadata": {
        "colab": {
          "base_uri": "https://localhost:8080/"
        },
        "id": "AYTbl334yWii",
        "outputId": "9a9a02c6-38f6-4486-ddd0-75c385fe015f"
      },
      "outputs": [],
      "source": [
        "import numpy as np\n",
        "import pandas as pd\n",
        "import matplotlib.pyplot as plt\n",
        "from statsmodels.tsa.vector_ar.vecm import coint_johansen\n",
        "from statsmodels.tsa.api import VECM"
      ]
    },
    {
      "cell_type": "markdown",
      "metadata": {
        "id": "YBByL7aTeB5U"
      },
      "source": [
        "# パラメータの設定"
      ]
    },
    {
      "cell_type": "code",
      "execution_count": 6,
      "metadata": {
        "id": "qL_1wMstyWil"
      },
      "outputs": [
        {
          "name": "stdout",
          "output_type": "stream",
          "text": [
            "[[ 0.1  0.5]\n",
            " [ 0.2 -0.3]\n",
            " [ 0.3 -0.3]]\n",
            "[[ 1.  -0.5 -0.5]\n",
            " [-0.2  0.5 -0.2]]\n",
            "[[ 0.1  -0.05 -0.05]\n",
            " [ 0.2  -0.1  -0.1 ]\n",
            " [ 0.3  -0.15 -0.15]]\n",
            "[[ 0.    0.2  -0.15]\n",
            " [ 0.26 -0.25 -0.04]\n",
            " [ 0.36 -0.3  -0.09]]\n"
          ]
        }
      ],
      "source": [
        "Sigma = np.array([[1,0,0],[0,1,0],[0,0,1]])\n",
        "\n",
        "a_1 = np.array([0.1,0.2,0.3]) # alpha_1\n",
        "a_2 = np.array([0.5,-0.3,-0.3]) \n",
        "b_1 = np.array([1,-0.5,-0.5]) # beta_1\n",
        "b_2 = np.array([-0.2,0.5,-0.2])\n",
        "\n",
        "A = np.stack([a_1,a_2],axis = 1) # alpha_2\n",
        "B = np.stack([b_1,b_2]) # beta_2\n",
        "\n",
        "Pi_1 = np.dot(a_1.reshape(3,1),b_1.reshape(1,3))\n",
        "Pi_2 = np.dot(A,B)\n",
        "print(A)\n",
        "print(B)\n",
        "print(Pi_1)\n",
        "print(Pi_2)\n"
      ]
    },
    {
      "cell_type": "code",
      "execution_count": 20,
      "metadata": {
        "id": "LgdpyScpyWil"
      },
      "outputs": [],
      "source": [
        "np.random.seed(seed = 1)\n",
        "rand_nums = np.random.randn(20000,3)"
      ]
    },
    {
      "cell_type": "code",
      "execution_count": 21,
      "metadata": {
        "id": "ME9fmC16yWio"
      },
      "outputs": [],
      "source": [
        "init = np.array([1,1,1])\n",
        "S_rw = init\n",
        "S_ci1 = init\n",
        "S_ci2 = init"
      ]
    },
    {
      "cell_type": "code",
      "execution_count": 22,
      "metadata": {
        "id": "lNOt6sVpyWiq"
      },
      "outputs": [],
      "source": [
        "for rand_num in rand_nums:\n",
        "    S_rw = np.vstack((S_rw,S_rw[len(S_rw)-1] + np.dot(rand_num,Sigma)))\n",
        "    S_ci1 = np.vstack((S_ci1,np.dot(Pi_1 + np.eye(3),S_ci1[len(S_ci1)-1]) \n",
        "                       + np.dot(rand_num,Sigma)))\n",
        "    S_ci2 = np.vstack((S_ci2,np.dot(Pi_2 + np.eye(3),S_ci2[len(S_ci2)-1]) \n",
        "                       + np.dot(rand_num,Sigma)))"
      ]
    },
    {
      "cell_type": "markdown",
      "metadata": {
        "id": "TCnfq7y9e8ZK"
      },
      "source": [
        "# Johansen検定"
      ]
    },
    {
      "cell_type": "markdown",
      "metadata": {
        "id": "SgkaPcJkffvF"
      },
      "source": [
        "## $\\mathbf{S}_{\\textbf{RW}}$をテストする"
      ]
    },
    {
      "cell_type": "code",
      "execution_count": 23,
      "metadata": {
        "id": "cdQsyl5ZyWis"
      },
      "outputs": [],
      "source": [
        "JohansenTestResult_rw = coint_johansen(S_rw,k_ar_diff=0,det_order=-1)"
      ]
    },
    {
      "cell_type": "code",
      "execution_count": 24,
      "metadata": {
        "colab": {
          "base_uri": "https://localhost:8080/"
        },
        "id": "mq-OE-w0yWit",
        "outputId": "33f49ed4-2f95-4631-f169-1fcb5eaca63b"
      },
      "outputs": [
        {
          "name": "stdout",
          "output_type": "stream",
          "text": [
            "[22.58036266  8.78820583  2.43645402]\n"
          ]
        }
      ],
      "source": [
        "print(JohansenTestResult_rw.lr1) # Trace statistic"
      ]
    },
    {
      "cell_type": "code",
      "execution_count": 25,
      "metadata": {
        "colab": {
          "base_uri": "https://localhost:8080/"
        },
        "id": "UqncefwdyWiu",
        "outputId": "137856f2-c004-4f68-b48b-7ed66c96eeec"
      },
      "outputs": [
        {
          "name": "stdout",
          "output_type": "stream",
          "text": [
            "[[21.7781 24.2761 29.5147]\n",
            " [10.4741 12.3212 16.364 ]\n",
            " [ 2.9762  4.1296  6.9406]]\n"
          ]
        }
      ],
      "source": [
        "print(JohansenTestResult_rw.cvt) # Critical values (90%,95%,99%) of trace statistic"
      ]
    },
    {
      "cell_type": "code",
      "execution_count": 26,
      "metadata": {
        "colab": {
          "base_uri": "https://localhost:8080/"
        },
        "id": "ZiY2Kr_-yWit",
        "outputId": "500b32da-6128-4707-8e3f-065946d0f753"
      },
      "outputs": [
        {
          "name": "stdout",
          "output_type": "stream",
          "text": [
            "[13.79215683  6.35175181  2.43645402]\n"
          ]
        }
      ],
      "source": [
        "print(JohansenTestResult_rw.lr2) # Maximum eigenvalue statistic"
      ]
    },
    {
      "cell_type": "code",
      "execution_count": 27,
      "metadata": {
        "colab": {
          "base_uri": "https://localhost:8080/"
        },
        "id": "znW559THyWiv",
        "outputId": "22d4b609-427e-4072-fdaa-fe4bdeaad9dc"
      },
      "outputs": [
        {
          "name": "stdout",
          "output_type": "stream",
          "text": [
            "[[15.7175 17.7961 22.2519]\n",
            " [ 9.4748 11.2246 15.0923]\n",
            " [ 2.9762  4.1296  6.9406]]\n"
          ]
        }
      ],
      "source": [
        "print(JohansenTestResult_rw.cvm) # Critical values (90%,95%,99%) of maximum eigenvalue statistic"
      ]
    },
    {
      "cell_type": "markdown",
      "metadata": {
        "id": "3mMLrvY6fxLw"
      },
      "source": [
        "## $\\mathbf{S}_{\\textbf{CI},1}$をテストする"
      ]
    },
    {
      "cell_type": "code",
      "execution_count": 28,
      "metadata": {
        "id": "aG5kZ6FbyWiv"
      },
      "outputs": [],
      "source": [
        "JohansenTestResult_s1 = coint_johansen(S_ci1,k_ar_diff=0,det_order=-1)"
      ]
    },
    {
      "cell_type": "code",
      "execution_count": 29,
      "metadata": {
        "colab": {
          "base_uri": "https://localhost:8080/"
        },
        "id": "bloHkaYXyWiv",
        "outputId": "323c053f-8178-4346-a3fb-baced91a1bc5"
      },
      "outputs": [
        {
          "name": "stdout",
          "output_type": "stream",
          "text": [
            "[1.15097289e+04 1.42336157e+01 1.08408520e+00]\n",
            "[[21.7781 24.2761 29.5147]\n",
            " [10.4741 12.3212 16.364 ]\n",
            " [ 2.9762  4.1296  6.9406]]\n",
            "[1.14954952e+04 1.31495305e+01 1.08408520e+00]\n",
            "[[15.7175 17.7961 22.2519]\n",
            " [ 9.4748 11.2246 15.0923]\n",
            " [ 2.9762  4.1296  6.9406]]\n"
          ]
        }
      ],
      "source": [
        "print(JohansenTestResult_s1.lr1) # Trace statistic\n",
        "print(JohansenTestResult_s1.cvt) # Critical values (90%,95%,99%) of trace statistic\n",
        "print(JohansenTestResult_s1.lr2) # Maximum eigenvalue statistic\n",
        "print(JohansenTestResult_s1.cvm) # Critical values (90%,95%,99%) of maximum eigenvalue statistic"
      ]
    },
    {
      "cell_type": "markdown",
      "metadata": {
        "id": "qmIQwuhDgKsc"
      },
      "source": [
        "## $\\mathbf{S}_{\\textbf{CI,2}}$をテストする"
      ]
    },
    {
      "cell_type": "code",
      "execution_count": 30,
      "metadata": {
        "id": "Qdf6vU9ayWiw"
      },
      "outputs": [],
      "source": [
        "JohansenTestResult_s2 = coint_johansen(S_ci2,k_ar_diff=0,det_order=-1)"
      ]
    },
    {
      "cell_type": "code",
      "execution_count": 31,
      "metadata": {
        "colab": {
          "base_uri": "https://localhost:8080/"
        },
        "id": "frG_hmIayWiw",
        "outputId": "e501800e-81b3-4582-d397-3d023d512220"
      },
      "outputs": [
        {
          "name": "stdout",
          "output_type": "stream",
          "text": [
            "[3.24178966e+04 6.11019131e+03 2.57568342e+00]\n",
            "[[21.7781 24.2761 29.5147]\n",
            " [10.4741 12.3212 16.364 ]\n",
            " [ 2.9762  4.1296  6.9406]]\n",
            "[2.63077053e+04 6.10761563e+03 2.57568342e+00]\n",
            "[[15.7175 17.7961 22.2519]\n",
            " [ 9.4748 11.2246 15.0923]\n",
            " [ 2.9762  4.1296  6.9406]]\n"
          ]
        }
      ],
      "source": [
        "print(JohansenTestResult_s2.lr1) # Trace statistic\n",
        "print(JohansenTestResult_s2.cvt) # Critical values (90%,95%,99%) of trace statistic\n",
        "print(JohansenTestResult_s2.lr2) # Maximum eigenvalue statistic\n",
        "print(JohansenTestResult_s2.cvm) # Critical values (90%,95%,99%) of maximum eigenvalue statistic"
      ]
    },
    {
      "cell_type": "markdown",
      "metadata": {
        "id": "sU89CF4bgYj4"
      },
      "source": [
        "# モデル・パラメータの推定"
      ]
    },
    {
      "cell_type": "markdown",
      "metadata": {
        "id": "8VG6qZ5Lgg9Q"
      },
      "source": [
        "## $\\mathbf{S}_{\\textbf{CI},1}$のパラメータ推定"
      ]
    },
    {
      "cell_type": "code",
      "execution_count": null,
      "metadata": {
        "id": "MA4jHD5ByWiw"
      },
      "outputs": [],
      "source": [
        "model_s1 = VECM(S_ci1,k_ar_diff=0,coint_rank = 1, deterministic='na')\n",
        "res_s1 = model_s1.fit()\n"
      ]
    },
    {
      "cell_type": "code",
      "execution_count": null,
      "metadata": {
        "colab": {
          "base_uri": "https://localhost:8080/"
        },
        "id": "e9C38DFmyWix",
        "outputId": "bfce65dc-710c-45a0-a8ec-fe09a537c3fa"
      },
      "outputs": [
        {
          "name": "stdout",
          "output_type": "stream",
          "text": [
            "                 Loading coefficients (alpha) for equation y1                 \n",
            "==============================================================================\n",
            "                 coef    std err          z      P>|z|      [0.025      0.975]\n",
            "------------------------------------------------------------------------------\n",
            "ec1            0.0998      0.003     32.514      0.000       0.094       0.106\n",
            "                 Loading coefficients (alpha) for equation y2                 \n",
            "==============================================================================\n",
            "                 coef    std err          z      P>|z|      [0.025      0.975]\n",
            "------------------------------------------------------------------------------\n",
            "ec1            0.2077      0.003     68.038      0.000       0.202       0.214\n",
            "                 Loading coefficients (alpha) for equation y3                 \n",
            "==============================================================================\n",
            "                 coef    std err          z      P>|z|      [0.025      0.975]\n",
            "------------------------------------------------------------------------------\n",
            "ec1            0.3019      0.003     98.418      0.000       0.296       0.308\n",
            "          Cointegration relations for loading-coefficients-column 1           \n",
            "==============================================================================\n",
            "                 coef    std err          z      P>|z|      [0.025      0.975]\n",
            "------------------------------------------------------------------------------\n",
            "beta.1         1.0000          0          0      0.000       1.000       1.000\n",
            "beta.2        -0.5000      0.000  -1849.489      0.000      -0.501      -0.499\n",
            "beta.3        -0.4997      0.000  -1218.700      0.000      -0.501      -0.499\n",
            "==============================================================================\n"
          ]
        }
      ],
      "source": [
        "print(res_s1.summary())"
      ]
    },
    {
      "cell_type": "code",
      "execution_count": null,
      "metadata": {
        "colab": {
          "base_uri": "https://localhost:8080/"
        },
        "id": "PxUvlKM8yWix",
        "outputId": "1c63548b-5180-4062-cb76-6ce212780d01"
      },
      "outputs": [
        {
          "name": "stdout",
          "output_type": "stream",
          "text": [
            "[[0.09983864]\n",
            " [0.20767309]\n",
            " [0.30188794]]\n",
            "[[ 1.        ]\n",
            " [-0.50000816]\n",
            " [-0.49972569]]\n"
          ]
        }
      ],
      "source": [
        "print(res_s1.alpha)\n",
        "print(res_s1.beta)"
      ]
    },
    {
      "cell_type": "markdown",
      "metadata": {
        "id": "3pF8ZXoggz6B"
      },
      "source": [
        "## $\\mathbf{S}_{\\textbf{CI},2}$のパラメータ推定"
      ]
    },
    {
      "cell_type": "code",
      "execution_count": null,
      "metadata": {
        "colab": {
          "base_uri": "https://localhost:8080/"
        },
        "id": "xknj9Ms4yWix",
        "outputId": "e15b5403-e902-4c17-9808-7d12d942048b"
      },
      "outputs": [
        {
          "name": "stdout",
          "output_type": "stream",
          "text": [
            "[[ 0.00295261  0.19832263]\n",
            " [ 0.26430882 -0.25658122]\n",
            " [ 0.36024384 -0.29875471]]\n",
            "[[ 1.00000000e+00 -8.48158683e-17]\n",
            " [ 1.76391918e-16  1.00000000e+00]\n",
            " [-8.74973589e-01 -7.49993120e-01]]\n"
          ]
        }
      ],
      "source": [
        "model_s2 = VECM(S_ci2,k_ar_diff=0,coint_rank = 2, deterministic='na')\n",
        "res_s2 = model_s2.fit()\n",
        "\n",
        "print(res_s2.alpha)\n",
        "print(res_s2.beta)"
      ]
    },
    {
      "cell_type": "code",
      "execution_count": null,
      "metadata": {
        "colab": {
          "base_uri": "https://localhost:8080/"
        },
        "id": "gc4GF_16yWix",
        "outputId": "e1ca945b-14c3-4a44-c798-5c355ba78995"
      },
      "outputs": [
        {
          "name": "stdout",
          "output_type": "stream",
          "text": [
            "[[ 0.00295261  0.19832263 -0.15132406]\n",
            " [ 0.26430882 -0.25658122 -0.03882909]\n",
            " [ 0.36024384 -0.29875471 -0.09113987]]\n",
            "[[ 0.    0.2  -0.15]\n",
            " [ 0.26 -0.25 -0.04]\n",
            " [ 0.36 -0.3  -0.09]]\n"
          ]
        }
      ],
      "source": [
        "print(np.dot(res_s2.alpha,res_s2.beta.transpose()))\n",
        "print(Pi_2)\n"
      ]
    },
    {
      "cell_type": "code",
      "execution_count": null,
      "metadata": {
        "id": "f3j741ovmcMc"
      },
      "outputs": [],
      "source": []
    }
  ],
  "metadata": {
    "celltoolbar": "Raw Cell Format",
    "colab": {
      "collapsed_sections": [],
      "include_colab_link": true,
      "name": "ch07_StatisticalArbitrage.ipynb",
      "provenance": []
    },
    "kernelspec": {
      "display_name": "Python 3",
      "language": "python",
      "name": "python3"
    },
    "language_info": {
      "codemirror_mode": {
        "name": "ipython",
        "version": 3
      },
      "file_extension": ".py",
      "mimetype": "text/x-python",
      "name": "python",
      "nbconvert_exporter": "python",
      "pygments_lexer": "ipython3",
      "version": "3.9.16"
    }
  },
  "nbformat": 4,
  "nbformat_minor": 0
}
