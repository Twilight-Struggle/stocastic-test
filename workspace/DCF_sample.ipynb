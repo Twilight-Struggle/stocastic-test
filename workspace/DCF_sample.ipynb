{
 "cells": [
  {
   "attachments": {},
   "cell_type": "markdown",
   "metadata": {},
   "source": [
    "# DCF法コード"
   ]
  },
  {
   "cell_type": "code",
   "execution_count": 17,
   "metadata": {},
   "outputs": [],
   "source": [
    "import pandas as pd\n",
    "\n",
    "営業利益 = [2920, 3358, 3861.7]\n",
    "法人税率 = 34.5\n",
    "減価償却 = [300, 300, 300]\n",
    "投資CF = [100, 100, 100]\n",
    "金利 = 1.0\n",
    "リスクプレミアム = 7\n",
    "ベータ = 1.09\n",
    "純資産 = 8896257053\n",
    "株数 = 20875179\n",
    "wacc = 金利 + ベータ * (リスクプレミアム - 金利)\n"
   ]
  },
  {
   "cell_type": "code",
   "execution_count": 18,
   "metadata": {},
   "outputs": [
    {
     "data": {
      "text/html": [
       "<div>\n",
       "<style scoped>\n",
       "    .dataframe tbody tr th:only-of-type {\n",
       "        vertical-align: middle;\n",
       "    }\n",
       "\n",
       "    .dataframe tbody tr th {\n",
       "        vertical-align: top;\n",
       "    }\n",
       "\n",
       "    .dataframe thead th {\n",
       "        text-align: right;\n",
       "    }\n",
       "</style>\n",
       "<table border=\"1\" class=\"dataframe\">\n",
       "  <thead>\n",
       "    <tr style=\"text-align: right;\">\n",
       "      <th></th>\n",
       "      <th>営業利益</th>\n",
       "      <th>減価償却</th>\n",
       "      <th>投資CF</th>\n",
       "      <th>FCF</th>\n",
       "      <th>present_val</th>\n",
       "      <th>period</th>\n",
       "    </tr>\n",
       "  </thead>\n",
       "  <tbody>\n",
       "    <tr>\n",
       "      <th>2024</th>\n",
       "      <td>2.920000e+09</td>\n",
       "      <td>300000000</td>\n",
       "      <td>100000000</td>\n",
       "      <td>0</td>\n",
       "      <td>0</td>\n",
       "      <td>1</td>\n",
       "    </tr>\n",
       "    <tr>\n",
       "      <th>2025</th>\n",
       "      <td>3.358000e+09</td>\n",
       "      <td>300000000</td>\n",
       "      <td>100000000</td>\n",
       "      <td>0</td>\n",
       "      <td>0</td>\n",
       "      <td>2</td>\n",
       "    </tr>\n",
       "    <tr>\n",
       "      <th>2026</th>\n",
       "      <td>3.861700e+09</td>\n",
       "      <td>300000000</td>\n",
       "      <td>100000000</td>\n",
       "      <td>0</td>\n",
       "      <td>0</td>\n",
       "      <td>3</td>\n",
       "    </tr>\n",
       "  </tbody>\n",
       "</table>\n",
       "</div>"
      ],
      "text/plain": [
       "              営業利益       減価償却       投資CF  FCF  present_val  period\n",
       "2024  2.920000e+09  300000000  100000000    0            0       1\n",
       "2025  3.358000e+09  300000000  100000000    0            0       2\n",
       "2026  3.861700e+09  300000000  100000000    0            0       3"
      ]
     },
     "execution_count": 18,
     "metadata": {},
     "output_type": "execute_result"
    }
   ],
   "source": [
    "cf = pd.DataFrame(\n",
    "    data={\n",
    "        \"営業利益\": 営業利益,\n",
    "        \"減価償却\": 減価償却,\n",
    "        \"投資CF\": 投資CF,\n",
    "        \"FCF\": 0,\n",
    "        \"present_val\": 0,\n",
    "        \"period\": [i for i in range(1, 4)],\n",
    "    },\n",
    "    index=[\"2024\", \"2025\", \"2026\"],\n",
    ")\n",
    "cf[\"営業利益\"] = cf[\"営業利益\"] * 1000000\n",
    "cf[\"減価償却\"] = cf[\"減価償却\"] * 1000000\n",
    "cf[\"投資CF\"] = cf[\"投資CF\"] * 1000000\n",
    "cf\n"
   ]
  },
  {
   "cell_type": "code",
   "execution_count": 19,
   "metadata": {},
   "outputs": [
    {
     "data": {
      "text/html": [
       "<div>\n",
       "<style scoped>\n",
       "    .dataframe tbody tr th:only-of-type {\n",
       "        vertical-align: middle;\n",
       "    }\n",
       "\n",
       "    .dataframe tbody tr th {\n",
       "        vertical-align: top;\n",
       "    }\n",
       "\n",
       "    .dataframe thead th {\n",
       "        text-align: right;\n",
       "    }\n",
       "</style>\n",
       "<table border=\"1\" class=\"dataframe\">\n",
       "  <thead>\n",
       "    <tr style=\"text-align: right;\">\n",
       "      <th></th>\n",
       "      <th>営業利益</th>\n",
       "      <th>減価償却</th>\n",
       "      <th>投資CF</th>\n",
       "      <th>FCF</th>\n",
       "      <th>present_val</th>\n",
       "      <th>period</th>\n",
       "    </tr>\n",
       "  </thead>\n",
       "  <tbody>\n",
       "    <tr>\n",
       "      <th>2024</th>\n",
       "      <td>2.920000e+09</td>\n",
       "      <td>300000000</td>\n",
       "      <td>100000000</td>\n",
       "      <td>2.112600e+09</td>\n",
       "      <td>1.964478e+09</td>\n",
       "      <td>1</td>\n",
       "    </tr>\n",
       "    <tr>\n",
       "      <th>2025</th>\n",
       "      <td>3.358000e+09</td>\n",
       "      <td>300000000</td>\n",
       "      <td>100000000</td>\n",
       "      <td>2.399490e+09</td>\n",
       "      <td>2.074813e+09</td>\n",
       "      <td>2</td>\n",
       "    </tr>\n",
       "    <tr>\n",
       "      <th>2026</th>\n",
       "      <td>3.861700e+09</td>\n",
       "      <td>300000000</td>\n",
       "      <td>100000000</td>\n",
       "      <td>2.729414e+09</td>\n",
       "      <td>4.173415e+10</td>\n",
       "      <td>3</td>\n",
       "    </tr>\n",
       "  </tbody>\n",
       "</table>\n",
       "</div>"
      ],
      "text/plain": [
       "              営業利益       減価償却       投資CF           FCF   present_val  period\n",
       "2024  2.920000e+09  300000000  100000000  2.112600e+09  1.964478e+09       1\n",
       "2025  3.358000e+09  300000000  100000000  2.399490e+09  2.074813e+09       2\n",
       "2026  3.861700e+09  300000000  100000000  2.729414e+09  4.173415e+10       3"
      ]
     },
     "execution_count": 19,
     "metadata": {},
     "output_type": "execute_result"
    }
   ],
   "source": [
    "cf[\"FCF\"] = cf[\"営業利益\"] * (1 - 法人税率 / 100) + cf[\"減価償却\"] - cf[\"投資CF\"]\n",
    "cf.iloc[:-1, cf.columns.get_loc(\"present_val\")] = (\n",
    "    cf[\"FCF\"].iloc[:-1] / (1 + wacc / 100) ** cf[\"period\"].iloc[:-1]\n",
    ")\n",
    "cf.iloc[-1, cf.columns.get_loc(\"present_val\")] = cf[\"FCF\"].iloc[-1] / (wacc - 1) * 100\n",
    "cf\n"
   ]
  },
  {
   "cell_type": "code",
   "execution_count": 20,
   "metadata": {},
   "outputs": [
    {
     "data": {
      "text/plain": [
       "2618.885298115542"
      ]
     },
     "execution_count": 20,
     "metadata": {},
     "output_type": "execute_result"
    }
   ],
   "source": [
    "想定時価総額 = cf['present_val'].sum() + 純資産\n",
    "株価 = 想定時価総額 / 株数\n",
    "株価"
   ]
  }
 ],
 "metadata": {
  "kernelspec": {
   "display_name": "Python 3",
   "language": "python",
   "name": "python3"
  },
  "language_info": {
   "codemirror_mode": {
    "name": "ipython",
    "version": 3
   },
   "file_extension": ".py",
   "mimetype": "text/x-python",
   "name": "python",
   "nbconvert_exporter": "python",
   "pygments_lexer": "ipython3",
   "version": "3.9.16"
  },
  "orig_nbformat": 4
 },
 "nbformat": 4,
 "nbformat_minor": 2
}
