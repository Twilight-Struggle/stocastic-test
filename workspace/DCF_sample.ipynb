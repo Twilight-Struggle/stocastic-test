{
 "cells": [
  {
   "attachments": {},
   "cell_type": "markdown",
   "metadata": {},
   "source": [
    "# IT media営業利益の回帰分析"
   ]
  },
  {
   "attachments": {},
   "cell_type": "markdown",
   "metadata": {},
   "source": [
    "## リードジェン営業利益予想"
   ]
  },
  {
   "cell_type": "code",
   "execution_count": 3,
   "metadata": {},
   "outputs": [],
   "source": [
    "import pandas as pd\n",
    "from sklearn.linear_model import LinearRegression\n",
    "\n",
    "# CSVファイルの読み込み\n",
    "leadgen = pd.read_csv('/workspace/leadgen.csv', index_col=0)\n",
    "\n",
    "# Dataframe分割\n",
    "train_lead = leadgen.dropna()\n",
    "pred_lead = leadgen[leadgen['リード営業利益'].isnull()]\n",
    "\n",
    "# ダミー変数の作成\n",
    "train_lead_quarter_dummies = pd.get_dummies(train_lead['四半期'], prefix='quarter')\n",
    "pred_lead_quarter_dummies = pd.get_dummies(pred_lead['四半期'], prefix='quarter')\n",
    "\n",
    "# モデルの作成\n",
    "model_lead = LinearRegression()\n",
    "\n",
    "# 説明変数と目的変数の設定\n",
    "X_lead = pd.concat([train_lead[['会員数', 'インターネット広告媒体費', 'IT市況']], train_lead_quarter_dummies], axis=1)\n",
    "y_lead = train_lead['リード営業利益']"
   ]
  },
  {
   "cell_type": "code",
   "execution_count": 4,
   "metadata": {},
   "outputs": [
    {
     "data": {
      "text/html": [
       "<div>\n",
       "<style scoped>\n",
       "    .dataframe tbody tr th:only-of-type {\n",
       "        vertical-align: middle;\n",
       "    }\n",
       "\n",
       "    .dataframe tbody tr th {\n",
       "        vertical-align: top;\n",
       "    }\n",
       "\n",
       "    .dataframe thead th {\n",
       "        text-align: right;\n",
       "    }\n",
       "</style>\n",
       "<table border=\"1\" class=\"dataframe\">\n",
       "  <thead>\n",
       "    <tr style=\"text-align: right;\">\n",
       "      <th></th>\n",
       "      <th>会員数</th>\n",
       "      <th>インターネット広告媒体費</th>\n",
       "      <th>IT市況</th>\n",
       "      <th>quarter_1</th>\n",
       "      <th>quarter_2</th>\n",
       "      <th>quarter_3</th>\n",
       "      <th>quarter_4</th>\n",
       "      <th>リード営業利益</th>\n",
       "    </tr>\n",
       "  </thead>\n",
       "  <tbody>\n",
       "    <tr>\n",
       "      <th>2024-1</th>\n",
       "      <td>117000000</td>\n",
       "      <td>2605593060000</td>\n",
       "      <td>22311950400000</td>\n",
       "      <td>1</td>\n",
       "      <td>0</td>\n",
       "      <td>0</td>\n",
       "      <td>0</td>\n",
       "      <td>2.444912e+08</td>\n",
       "    </tr>\n",
       "    <tr>\n",
       "      <th>2024-2</th>\n",
       "      <td>117000000</td>\n",
       "      <td>2605593060000</td>\n",
       "      <td>22311950400000</td>\n",
       "      <td>0</td>\n",
       "      <td>1</td>\n",
       "      <td>0</td>\n",
       "      <td>0</td>\n",
       "      <td>2.684891e+08</td>\n",
       "    </tr>\n",
       "    <tr>\n",
       "      <th>2024-3</th>\n",
       "      <td>117000000</td>\n",
       "      <td>2605593060000</td>\n",
       "      <td>22311950400000</td>\n",
       "      <td>0</td>\n",
       "      <td>0</td>\n",
       "      <td>1</td>\n",
       "      <td>0</td>\n",
       "      <td>2.613441e+08</td>\n",
       "    </tr>\n",
       "    <tr>\n",
       "      <th>2024-4</th>\n",
       "      <td>117000000</td>\n",
       "      <td>2683760851800</td>\n",
       "      <td>23293676217600</td>\n",
       "      <td>0</td>\n",
       "      <td>0</td>\n",
       "      <td>0</td>\n",
       "      <td>1</td>\n",
       "      <td>2.692413e+08</td>\n",
       "    </tr>\n",
       "  </tbody>\n",
       "</table>\n",
       "</div>"
      ],
      "text/plain": [
       "              会員数   インターネット広告媒体費            IT市況  quarter_1  quarter_2  \\\n",
       "2024-1  117000000  2605593060000  22311950400000          1          0   \n",
       "2024-2  117000000  2605593060000  22311950400000          0          1   \n",
       "2024-3  117000000  2605593060000  22311950400000          0          0   \n",
       "2024-4  117000000  2683760851800  23293676217600          0          0   \n",
       "\n",
       "        quarter_3  quarter_4       リード営業利益  \n",
       "2024-1          0          0  2.444912e+08  \n",
       "2024-2          0          0  2.684891e+08  \n",
       "2024-3          1          0  2.613441e+08  \n",
       "2024-4          0          1  2.692413e+08  "
      ]
     },
     "execution_count": 4,
     "metadata": {},
     "output_type": "execute_result"
    }
   ],
   "source": [
    "# モデルの学習\n",
    "model_lead.fit(X_lead, y_lead)\n",
    "\n",
    "# 予測\n",
    "pred_lead = pd.concat([pred_lead[['会員数', 'インターネット広告媒体費', 'IT市況']], pred_lead_quarter_dummies], axis=1)\n",
    "predicted_profit_lead = model_lead.predict(pred_lead)\n",
    "\n",
    "pred_lead['リード営業利益'] = predicted_profit_lead\n",
    "pred_lead"
   ]
  },
  {
   "attachments": {},
   "cell_type": "markdown",
   "metadata": {},
   "source": [
    "## メディア営業利益予想"
   ]
  },
  {
   "cell_type": "code",
   "execution_count": 5,
   "metadata": {},
   "outputs": [],
   "source": [
    "# CSVファイルの読み込み\n",
    "media = pd.read_csv('/workspace/media.csv', index_col=0)\n",
    "\n",
    "# Dataframe分割\n",
    "train_media = media.dropna()\n",
    "pred_media = media[media['メディア営業利益'].isnull()]\n",
    "\n",
    "# ダミー変数の作成\n",
    "train_media_quarter_dummies = pd.get_dummies(train_media['四半期'], prefix='quarter')\n",
    "pred_media_quarter_dummies = pd.get_dummies(pred_media['四半期'], prefix='quarter')\n",
    "\n",
    "# モデルの作成\n",
    "model_media = LinearRegression()\n",
    "\n",
    "# 説明変数と目的変数の設定\n",
    "X_media = pd.concat([train_media[['UB', '閲覧数', 'インターネット広告媒体費', 'IT市況']], train_media_quarter_dummies], axis=1)\n",
    "y_media = train_media['メディア営業利益']"
   ]
  },
  {
   "cell_type": "code",
   "execution_count": 6,
   "metadata": {},
   "outputs": [
    {
     "data": {
      "text/html": [
       "<div>\n",
       "<style scoped>\n",
       "    .dataframe tbody tr th:only-of-type {\n",
       "        vertical-align: middle;\n",
       "    }\n",
       "\n",
       "    .dataframe tbody tr th {\n",
       "        vertical-align: top;\n",
       "    }\n",
       "\n",
       "    .dataframe thead th {\n",
       "        text-align: right;\n",
       "    }\n",
       "</style>\n",
       "<table border=\"1\" class=\"dataframe\">\n",
       "  <thead>\n",
       "    <tr style=\"text-align: right;\">\n",
       "      <th></th>\n",
       "      <th>UB</th>\n",
       "      <th>閲覧数</th>\n",
       "      <th>インターネット広告媒体費</th>\n",
       "      <th>IT市況</th>\n",
       "      <th>quarter_1</th>\n",
       "      <th>quarter_2</th>\n",
       "      <th>quarter_3</th>\n",
       "      <th>quarter_4</th>\n",
       "      <th>メディア営業利益</th>\n",
       "    </tr>\n",
       "  </thead>\n",
       "  <tbody>\n",
       "    <tr>\n",
       "      <th>2024-1</th>\n",
       "      <td>50472727</td>\n",
       "      <td>444545454</td>\n",
       "      <td>2605593060000</td>\n",
       "      <td>22311950400000</td>\n",
       "      <td>1</td>\n",
       "      <td>0</td>\n",
       "      <td>0</td>\n",
       "      <td>0</td>\n",
       "      <td>3.648213e+08</td>\n",
       "    </tr>\n",
       "    <tr>\n",
       "      <th>2024-2</th>\n",
       "      <td>50472727</td>\n",
       "      <td>444545454</td>\n",
       "      <td>2605593060000</td>\n",
       "      <td>22311950400000</td>\n",
       "      <td>0</td>\n",
       "      <td>1</td>\n",
       "      <td>0</td>\n",
       "      <td>0</td>\n",
       "      <td>3.688878e+08</td>\n",
       "    </tr>\n",
       "    <tr>\n",
       "      <th>2024-3</th>\n",
       "      <td>50472727</td>\n",
       "      <td>444545454</td>\n",
       "      <td>2605593060000</td>\n",
       "      <td>22311950400000</td>\n",
       "      <td>0</td>\n",
       "      <td>0</td>\n",
       "      <td>1</td>\n",
       "      <td>0</td>\n",
       "      <td>4.148294e+08</td>\n",
       "    </tr>\n",
       "    <tr>\n",
       "      <th>2024-4</th>\n",
       "      <td>50472727</td>\n",
       "      <td>444545454</td>\n",
       "      <td>2683760851800</td>\n",
       "      <td>23293676217600</td>\n",
       "      <td>0</td>\n",
       "      <td>0</td>\n",
       "      <td>0</td>\n",
       "      <td>1</td>\n",
       "      <td>4.338863e+08</td>\n",
       "    </tr>\n",
       "  </tbody>\n",
       "</table>\n",
       "</div>"
      ],
      "text/plain": [
       "              UB        閲覧数   インターネット広告媒体費            IT市況  quarter_1  \\\n",
       "2024-1  50472727  444545454  2605593060000  22311950400000          1   \n",
       "2024-2  50472727  444545454  2605593060000  22311950400000          0   \n",
       "2024-3  50472727  444545454  2605593060000  22311950400000          0   \n",
       "2024-4  50472727  444545454  2683760851800  23293676217600          0   \n",
       "\n",
       "        quarter_2  quarter_3  quarter_4      メディア営業利益  \n",
       "2024-1          0          0          0  3.648213e+08  \n",
       "2024-2          1          0          0  3.688878e+08  \n",
       "2024-3          0          1          0  4.148294e+08  \n",
       "2024-4          0          0          1  4.338863e+08  "
      ]
     },
     "execution_count": 6,
     "metadata": {},
     "output_type": "execute_result"
    }
   ],
   "source": [
    "# モデルの学習\n",
    "model_media.fit(X_media, y_media)\n",
    "\n",
    "# 予測\n",
    "pred_media = pd.concat([pred_media[['UB', '閲覧数', 'インターネット広告媒体費', 'IT市況']], pred_media_quarter_dummies], axis=1)\n",
    "predicted_profit_media = model_media.predict(pred_media)\n",
    "\n",
    "pred_media['メディア営業利益'] = predicted_profit_media\n",
    "pred_media"
   ]
  },
  {
   "cell_type": "code",
   "execution_count": 7,
   "metadata": {},
   "outputs": [
    {
     "data": {
      "text/plain": [
       "2625990453.3112535"
      ]
     },
     "execution_count": 7,
     "metadata": {},
     "output_type": "execute_result"
    }
   ],
   "source": [
    "rieki = pred_lead['リード営業利益'] + pred_media['メディア営業利益']\n",
    "rieki.sum()"
   ]
  },
  {
   "attachments": {},
   "cell_type": "markdown",
   "metadata": {},
   "source": [
    "# DCF法コード"
   ]
  },
  {
   "cell_type": "code",
   "execution_count": 14,
   "metadata": {},
   "outputs": [],
   "source": [
    "営業利益 = [3000.00, 3180.0]\n",
    "法人税率 = 34.5\n",
    "減価償却 = [300, 300]\n",
    "投資CF = [100, 100]\n",
    "金利 = 1.0\n",
    "リスクプレミアム = 7\n",
    "ベータ = 1.09\n",
    "純資産 = 8896257053\n",
    "株数 = 20875179\n",
    "wacc = 金利 + ベータ * (リスクプレミアム - 金利)"
   ]
  },
  {
   "cell_type": "code",
   "execution_count": 16,
   "metadata": {},
   "outputs": [
    {
     "data": {
      "text/html": [
       "<div>\n",
       "<style scoped>\n",
       "    .dataframe tbody tr th:only-of-type {\n",
       "        vertical-align: middle;\n",
       "    }\n",
       "\n",
       "    .dataframe tbody tr th {\n",
       "        vertical-align: top;\n",
       "    }\n",
       "\n",
       "    .dataframe thead th {\n",
       "        text-align: right;\n",
       "    }\n",
       "</style>\n",
       "<table border=\"1\" class=\"dataframe\">\n",
       "  <thead>\n",
       "    <tr style=\"text-align: right;\">\n",
       "      <th></th>\n",
       "      <th>営業利益</th>\n",
       "      <th>減価償却</th>\n",
       "      <th>投資CF</th>\n",
       "      <th>FCF</th>\n",
       "      <th>present_val</th>\n",
       "      <th>period</th>\n",
       "    </tr>\n",
       "  </thead>\n",
       "  <tbody>\n",
       "    <tr>\n",
       "      <th>2024</th>\n",
       "      <td>3.000000e+09</td>\n",
       "      <td>300000000</td>\n",
       "      <td>100000000</td>\n",
       "      <td>0</td>\n",
       "      <td>0</td>\n",
       "      <td>1</td>\n",
       "    </tr>\n",
       "    <tr>\n",
       "      <th>2025</th>\n",
       "      <td>3.180000e+09</td>\n",
       "      <td>300000000</td>\n",
       "      <td>100000000</td>\n",
       "      <td>0</td>\n",
       "      <td>0</td>\n",
       "      <td>2</td>\n",
       "    </tr>\n",
       "  </tbody>\n",
       "</table>\n",
       "</div>"
      ],
      "text/plain": [
       "              営業利益       減価償却       投資CF  FCF  present_val  period\n",
       "2024  3.000000e+09  300000000  100000000    0            0       1\n",
       "2025  3.180000e+09  300000000  100000000    0            0       2"
      ]
     },
     "execution_count": 16,
     "metadata": {},
     "output_type": "execute_result"
    }
   ],
   "source": [
    "cf = pd.DataFrame(\n",
    "    data={\n",
    "        \"営業利益\": 営業利益,\n",
    "        \"減価償却\": 減価償却,\n",
    "        \"投資CF\": 投資CF,\n",
    "        \"FCF\": 0,\n",
    "        \"present_val\": 0,\n",
    "        \"period\": [i for i in range(1, 3)],\n",
    "    },\n",
    "    index=[\"2024\", \"2025\"],\n",
    ")\n",
    "cf[\"営業利益\"] = cf[\"営業利益\"] * 1000000\n",
    "cf[\"減価償却\"] = cf[\"減価償却\"] * 1000000\n",
    "cf[\"投資CF\"] = cf[\"投資CF\"] * 1000000\n",
    "cf\n"
   ]
  },
  {
   "cell_type": "code",
   "execution_count": 17,
   "metadata": {},
   "outputs": [
    {
     "data": {
      "text/html": [
       "<div>\n",
       "<style scoped>\n",
       "    .dataframe tbody tr th:only-of-type {\n",
       "        vertical-align: middle;\n",
       "    }\n",
       "\n",
       "    .dataframe tbody tr th {\n",
       "        vertical-align: top;\n",
       "    }\n",
       "\n",
       "    .dataframe thead th {\n",
       "        text-align: right;\n",
       "    }\n",
       "</style>\n",
       "<table border=\"1\" class=\"dataframe\">\n",
       "  <thead>\n",
       "    <tr style=\"text-align: right;\">\n",
       "      <th></th>\n",
       "      <th>営業利益</th>\n",
       "      <th>減価償却</th>\n",
       "      <th>投資CF</th>\n",
       "      <th>FCF</th>\n",
       "      <th>present_val</th>\n",
       "      <th>period</th>\n",
       "    </tr>\n",
       "  </thead>\n",
       "  <tbody>\n",
       "    <tr>\n",
       "      <th>2024</th>\n",
       "      <td>3.000000e+09</td>\n",
       "      <td>300000000</td>\n",
       "      <td>100000000</td>\n",
       "      <td>2.165000e+09</td>\n",
       "      <td>2.013204e+09</td>\n",
       "      <td>1</td>\n",
       "    </tr>\n",
       "    <tr>\n",
       "      <th>2025</th>\n",
       "      <td>3.180000e+09</td>\n",
       "      <td>300000000</td>\n",
       "      <td>100000000</td>\n",
       "      <td>2.282900e+09</td>\n",
       "      <td>3.490673e+10</td>\n",
       "      <td>2</td>\n",
       "    </tr>\n",
       "  </tbody>\n",
       "</table>\n",
       "</div>"
      ],
      "text/plain": [
       "              営業利益       減価償却       投資CF           FCF   present_val  period\n",
       "2024  3.000000e+09  300000000  100000000  2.165000e+09  2.013204e+09       1\n",
       "2025  3.180000e+09  300000000  100000000  2.282900e+09  3.490673e+10       2"
      ]
     },
     "execution_count": 17,
     "metadata": {},
     "output_type": "execute_result"
    }
   ],
   "source": [
    "cf[\"FCF\"] = cf[\"営業利益\"] * (1 - 法人税率 / 100) + cf[\"減価償却\"] - cf[\"投資CF\"]\n",
    "cf.iloc[:-1, cf.columns.get_loc(\"present_val\")] = (\n",
    "    cf[\"FCF\"].iloc[:-1] / (1 + wacc / 100) ** cf[\"period\"].iloc[:-1]\n",
    ")\n",
    "cf.iloc[-1, cf.columns.get_loc(\"present_val\")] = cf[\"FCF\"].iloc[-1] / (wacc - 1) * 100\n",
    "cf\n"
   ]
  },
  {
   "cell_type": "code",
   "execution_count": 18,
   "metadata": {},
   "outputs": [
    {
     "data": {
      "text/plain": [
       "2194.768690165996"
      ]
     },
     "execution_count": 18,
     "metadata": {},
     "output_type": "execute_result"
    }
   ],
   "source": [
    "想定時価総額 = cf['present_val'].sum() + 純資産\n",
    "株価 = 想定時価総額 / 株数\n",
    "株価"
   ]
  }
 ],
 "metadata": {
  "kernelspec": {
   "display_name": "Python 3",
   "language": "python",
   "name": "python3"
  },
  "language_info": {
   "codemirror_mode": {
    "name": "ipython",
    "version": 3
   },
   "file_extension": ".py",
   "mimetype": "text/x-python",
   "name": "python",
   "nbconvert_exporter": "python",
   "pygments_lexer": "ipython3",
   "version": "3.9.16"
  },
  "orig_nbformat": 4
 },
 "nbformat": 4,
 "nbformat_minor": 2
}
