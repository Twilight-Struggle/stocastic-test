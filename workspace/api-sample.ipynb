{
  "cells": [
    {
      "cell_type": "markdown",
      "metadata": {
        "id": "QqsYtyfZQpsj"
      },
      "source": [
        "# J-Quants API 株式市場分析デモ"
      ]
    },
    {
      "cell_type": "markdown",
      "metadata": {
        "id": "CvJ8xX0UzWpL"
      },
      "source": [
        "[![Open In Colab](https://colab.research.google.com/assets/colab-badge.svg)](https://colab.research.google.com/github/AlpacaDB/jquants-api-sample/blob/main/jquants_api_sample.ipynb)"
      ]
    },
    {
      "cell_type": "markdown",
      "metadata": {
        "id": "t9ZDX54sRYPF"
      },
      "source": [
        "本デモでは以下のユーザーを想定しています。\n",
        "\n",
        "* Python / Pandas / Matplotlib / Seaborn についての知識を有していること\n",
        "* J-Quants API リフレッシュトークンを取得して Google Drive に保存していること\n",
        "    * ※ リフレッシュトークンの代わりに jquants-api.toml にメールアドレスとパスワードを設定しておく方法もございます\n",
        "* Google Driveにアクセス可能であること\n",
        "* (Optional) Google Cloud Storage を使用可能であること\n",
        "\n",
        "本デモで使用している jquants-api-client (jquantsapi) は以下のリポジトリで公開されております。\n",
        "\n",
        "https://github.com/J-Quants/jquants-api-client-python"
      ]
    },
    {
      "cell_type": "code",
      "execution_count": 2,
      "metadata": {
        "id": "yD3WWKpTQgQP"
      },
      "outputs": [],
      "source": [
        "import os\n",
        "from datetime import datetime\n",
        "\n",
        "import japanize_matplotlib\n",
        "import jquantsapi\n",
        "import matplotlib.pyplot as plt\n",
        "import numpy as np\n",
        "import pandas as pd\n",
        "import seaborn as sns"
      ]
    },
    {
      "cell_type": "code",
      "execution_count": 3,
      "metadata": {
        "id": "EG3_5YiubYuJ"
      },
      "outputs": [],
      "source": [
        "# pandas の表示制限を調整します\n",
        "pd.set_option(\"display.max_rows\", 1000)\n",
        "pd.set_option(\"display.max_columns\", 1000)\n",
        "pd.set_option(\"display.width\", 2000)"
      ]
    },
    {
      "cell_type": "markdown",
      "metadata": {
        "id": "RNqKSLLtciDq"
      },
      "source": [
        "## データ保存用ディレクトリ設定"
      ]
    },
    {
      "cell_type": "markdown",
      "metadata": {
        "id": "cfsYJUkZcktc"
      },
      "source": [
        "J-Quants APIから取得したデータを保存しておくためのディレクトリを設定します。\n",
        "\n",
        "J-Quants APIから毎回全データを取得するのではデータ取得のために時間がかかってしまうため、取得したデータを保存しておいて必要な最新データのみを J-Quants API から取得します。\n",
        "加えて、分析に必要な中間ファイルや結果ファイルの保存にも使用します。\n",
        "\n",
        "データ量が多くなければ Google Drive で十分ですが、データ量が多くなってきた場合は Cloud Storage を使用するとよいでしょう。"
      ]
    },
    {
      "cell_type": "markdown",
      "metadata": {
        "id": "IwqdW9gFdsnh"
      },
      "source": [
        "### データ保存用ディレクトリへのパスを設定"
      ]
    },
    {
      "cell_type": "code",
      "execution_count": 4,
      "metadata": {
        "id": "KxGsZCjqdzoL"
      },
      "outputs": [
        {
          "data": {
            "text/plain": [
              "'/workspace/marketdata'"
            ]
          },
          "execution_count": 4,
          "metadata": {},
          "output_type": "execute_result"
        }
      ],
      "source": [
        "STORAGE_DIR_PATH = \"/workspace/marketdata\"\n",
        "os.makedirs(STORAGE_DIR_PATH, exist_ok=True)\n",
        "STORAGE_DIR_PATH"
      ]
    },
    {
      "cell_type": "markdown",
      "metadata": {
        "id": "TOgeYS1zXMst"
      },
      "source": [
        "## J-Quants API のリフレッシュトークン取得\n",
        "\n",
        "※ 最新の jquants-api-client-python ではリフレッシュトークンの代わりに登録したメールアドレスおよびパスワードを使用することもできるようになりました。詳細は [jquants-api-client-python](https://github.com/J-Quants/jquants-api-client-python) を御覧ください。\n",
        "\n",
        "J-Quants APIにアクセスするためには J-Quants API の Web サイトから取得できるリフレッシュトークンが必要になります。\n",
        "取得したリフレッシュトークンを Google Drive に配置してから以下の作業をすすめます。\n",
        "\n",
        "※ Google Drive 上のファイル経由でリフレッシュトークンを取り扱っているのは、このような公開の場でデモする際にリフレッシュトークンを画面上に露出させないためです。\n",
        "\n",
        "※ リフレッシュトークンの有効期限は1週間となっているため、1週間ごとに再取得が必要になります。"
      ]
    },
    {
      "cell_type": "code",
      "execution_count": 5,
      "metadata": {
        "id": "SdMCRD_0W5zo"
      },
      "outputs": [],
      "source": [
        "REFRESH_TOKEN_FILE_PATH = \"/workspace/jquantsapi-key.txt\""
      ]
    },
    {
      "cell_type": "code",
      "execution_count": 6,
      "metadata": {
        "id": "O07N4B_VWQ8y"
      },
      "outputs": [],
      "source": [
        "def get_refresh_token(refresh_token_file_path: str = REFRESH_TOKEN_FILE_PATH):\n",
        "    with open(refresh_token_file_path, \"r\") as f:\n",
        "        refresh_token = f.read()\n",
        "    return refresh_token.rstrip().lstrip()"
      ]
    },
    {
      "cell_type": "code",
      "execution_count": 7,
      "metadata": {
        "id": "GJam0R3KQ_xz"
      },
      "outputs": [],
      "source": [
        "refresh_token = get_refresh_token()"
      ]
    },
    {
      "cell_type": "markdown",
      "metadata": {
        "id": "9al3g6ylb3H4"
      },
      "source": [
        "## J-Quants API アクセスクライアント初期化"
      ]
    },
    {
      "cell_type": "markdown",
      "metadata": {
        "id": "xUZZl6t0VNXv"
      },
      "source": [
        "J-Quants API はシンプルな Web API 実装となっています。ここではjquants-api-clientライブラリを使用します。\n",
        "\n",
        "* ラッパー群　J-Quants API の各APIエンドポイントに対応しています。\n",
        "  * get_refresh_token\n",
        "  * get_id_token\n",
        "  * get_listed_info\n",
        "  * get_listed_sections\n",
        "  * get_prices_daily_quotes\n",
        "  * get_indices_topix\n",
        "  * get_markets_trades_spec\n",
        "  * get_fins_statements\n",
        "  * get_fins_announcement\n",
        "* ユーティリティー群\n",
        "  * 業種や市場区分一覧などを返します。\n",
        "    * get_market_segments\n",
        "    * get_17_sectors\n",
        "    * get_33_sectors\n",
        "  * 日付範囲を指定して一括でデータ取得して、取得したデータを結合して返すようなユーティリティーメソッドです。\n",
        "    * get_list\n",
        "    * get_price_all\n",
        "    * get_statements_all"
      ]
    },
    {
      "cell_type": "code",
      "execution_count": 8,
      "metadata": {
        "id": "fTcEbCHoeYtp"
      },
      "outputs": [],
      "source": [
        "jqapi = jquantsapi.Client(refresh_token=refresh_token)\n",
        "# # フレッシュトークンの代わりに以下のようにメールアドレスとパスワードを使用することも可能です\n",
        "# my_mail_address:str = \"*****\"\n",
        "# my_password: str = \"*****\"\n",
        "# jqapi = jquantsapi.Client(mail_address=my_mail_address, password=my_password)"
      ]
    },
    {
      "cell_type": "markdown",
      "metadata": {
        "id": "eQgo72XZ9flI"
      },
      "source": [
        "※ 最新の jquants-api-client-python では以下の方法でデータ取得のための認証を実施することができます。詳細は [jquants-api-client-python](https://github.com/J-Quants/jquants-api-client-python) を御覧ください。\n",
        "\n",
        "1.   refresh_token パラメーター (本サンプル)\n",
        "2.   mail_address および password パラメーター\n",
        "3.   設定ファイル\n",
        "4.   環境変数\n"
      ]
    },
    {
      "cell_type": "markdown",
      "metadata": {
        "id": "V0-9tm0Ugvhr"
      },
      "source": [
        "## J-Quants APIから取得できるデータの確認"
      ]
    },
    {
      "cell_type": "markdown",
      "metadata": {
        "id": "4qeflJN5YU1r"
      },
      "source": [
        "### 銘柄情報の取得"
      ]
    },
    {
      "cell_type": "markdown",
      "metadata": {
        "id": "1VjPEhooE-Ag"
      },
      "source": [
        "銘柄情報は個別に銘柄コードを指定して取得することと、日付を指定して一覧を取得することができます。"
      ]
    },
    {
      "cell_type": "code",
      "execution_count": 9,
      "metadata": {
        "id": "9NS63zUPYVSy"
      },
      "outputs": [
        {
          "data": {
            "text/html": [
              "<div>\n",
              "<style scoped>\n",
              "    .dataframe tbody tr th:only-of-type {\n",
              "        vertical-align: middle;\n",
              "    }\n",
              "\n",
              "    .dataframe tbody tr th {\n",
              "        vertical-align: top;\n",
              "    }\n",
              "\n",
              "    .dataframe thead th {\n",
              "        text-align: right;\n",
              "    }\n",
              "</style>\n",
              "<table border=\"1\" class=\"dataframe\">\n",
              "  <thead>\n",
              "    <tr style=\"text-align: right;\">\n",
              "      <th></th>\n",
              "      <th>Date</th>\n",
              "      <th>Code</th>\n",
              "      <th>CompanyName</th>\n",
              "      <th>Sector17Code</th>\n",
              "      <th>Sector17CodeName</th>\n",
              "      <th>Sector33Code</th>\n",
              "      <th>Sector33CodeName</th>\n",
              "      <th>ScaleCategory</th>\n",
              "      <th>MarketCode</th>\n",
              "      <th>MarketCodeName</th>\n",
              "    </tr>\n",
              "  </thead>\n",
              "  <tbody>\n",
              "    <tr>\n",
              "      <th>0</th>\n",
              "      <td>2023-02-13</td>\n",
              "      <td>86970</td>\n",
              "      <td>日本取引所グループ</td>\n",
              "      <td>16</td>\n",
              "      <td>金融（除く銀行）</td>\n",
              "      <td>7200</td>\n",
              "      <td>その他金融業</td>\n",
              "      <td>TOPIX Large70</td>\n",
              "      <td>111</td>\n",
              "      <td>プライム</td>\n",
              "    </tr>\n",
              "  </tbody>\n",
              "</table>\n",
              "</div>"
            ],
            "text/plain": [
              "        Date   Code CompanyName Sector17Code Sector17CodeName Sector33Code Sector33CodeName  ScaleCategory MarketCode MarketCodeName\n",
              "0 2023-02-13  86970   日本取引所グループ           16         金融（除く銀行）         7200           その他金融業  TOPIX Large70        111           プライム"
            ]
          },
          "execution_count": 9,
          "metadata": {},
          "output_type": "execute_result"
        }
      ],
      "source": [
        "# 銘柄コードを指定して取得\n",
        "df_list = jqapi.get_listed_info(code=8697)\n",
        "df_list.head(2)"
      ]
    },
    {
      "cell_type": "code",
      "execution_count": 10,
      "metadata": {
        "id": "Gc2N5kLpz_xP"
      },
      "outputs": [
        {
          "data": {
            "text/html": [
              "<div>\n",
              "<style scoped>\n",
              "    .dataframe tbody tr th:only-of-type {\n",
              "        vertical-align: middle;\n",
              "    }\n",
              "\n",
              "    .dataframe tbody tr th {\n",
              "        vertical-align: top;\n",
              "    }\n",
              "\n",
              "    .dataframe thead th {\n",
              "        text-align: right;\n",
              "    }\n",
              "</style>\n",
              "<table border=\"1\" class=\"dataframe\">\n",
              "  <thead>\n",
              "    <tr style=\"text-align: right;\">\n",
              "      <th></th>\n",
              "      <th>Date</th>\n",
              "      <th>Code</th>\n",
              "      <th>CompanyName</th>\n",
              "      <th>Sector17Code</th>\n",
              "      <th>Sector17CodeName</th>\n",
              "      <th>Sector33Code</th>\n",
              "      <th>Sector33CodeName</th>\n",
              "      <th>ScaleCategory</th>\n",
              "      <th>MarketCode</th>\n",
              "      <th>MarketCodeName</th>\n",
              "    </tr>\n",
              "  </thead>\n",
              "  <tbody>\n",
              "    <tr>\n",
              "      <th>0</th>\n",
              "      <td>2017-01-04</td>\n",
              "      <td>13010</td>\n",
              "      <td>極洋</td>\n",
              "      <td>1</td>\n",
              "      <td>食品</td>\n",
              "      <td>0050</td>\n",
              "      <td>水産・農林業</td>\n",
              "      <td>TOPIX Small 2</td>\n",
              "      <td>101</td>\n",
              "      <td>東証一部</td>\n",
              "    </tr>\n",
              "    <tr>\n",
              "      <th>1</th>\n",
              "      <td>2017-01-04</td>\n",
              "      <td>13050</td>\n",
              "      <td>ダイワ上場投信−トピックス</td>\n",
              "      <td>99</td>\n",
              "      <td>その他</td>\n",
              "      <td>9999</td>\n",
              "      <td>その他</td>\n",
              "      <td>-</td>\n",
              "      <td>109</td>\n",
              "      <td>その他</td>\n",
              "    </tr>\n",
              "  </tbody>\n",
              "</table>\n",
              "</div>"
            ],
            "text/plain": [
              "        Date   Code    CompanyName Sector17Code Sector17CodeName Sector33Code Sector33CodeName  ScaleCategory MarketCode MarketCodeName\n",
              "0 2017-01-04  13010             極洋            1               食品         0050           水産・農林業  TOPIX Small 2        101           東証一部\n",
              "1 2017-01-04  13050  ダイワ上場投信−トピックス           99              その他         9999              その他              -        109            その他"
            ]
          },
          "execution_count": 10,
          "metadata": {},
          "output_type": "execute_result"
        }
      ],
      "source": [
        "# 日付を指定して取得 (銘柄コードを指定することも可能です)\n",
        "df_list = jqapi.get_listed_info(date_yyyymmdd=\"20170101\")\n",
        "df_list.head(2)"
      ]
    },
    {
      "cell_type": "code",
      "execution_count": 11,
      "metadata": {
        "id": "_IbeyIdgoSUw"
      },
      "outputs": [
        {
          "data": {
            "text/html": [
              "<div>\n",
              "<style scoped>\n",
              "    .dataframe tbody tr th:only-of-type {\n",
              "        vertical-align: middle;\n",
              "    }\n",
              "\n",
              "    .dataframe tbody tr th {\n",
              "        vertical-align: top;\n",
              "    }\n",
              "\n",
              "    .dataframe thead th {\n",
              "        text-align: right;\n",
              "    }\n",
              "</style>\n",
              "<table border=\"1\" class=\"dataframe\">\n",
              "  <thead>\n",
              "    <tr style=\"text-align: right;\">\n",
              "      <th></th>\n",
              "      <th>Date</th>\n",
              "      <th>Code</th>\n",
              "      <th>CompanyName</th>\n",
              "      <th>Sector17Code</th>\n",
              "      <th>Sector17CodeName</th>\n",
              "      <th>Sector33Code</th>\n",
              "      <th>Sector33CodeName</th>\n",
              "      <th>ScaleCategory</th>\n",
              "      <th>MarketCode</th>\n",
              "      <th>MarketCodeName</th>\n",
              "    </tr>\n",
              "  </thead>\n",
              "  <tbody>\n",
              "    <tr>\n",
              "      <th>0</th>\n",
              "      <td>2023-02-13</td>\n",
              "      <td>13010</td>\n",
              "      <td>極洋</td>\n",
              "      <td>1</td>\n",
              "      <td>食品</td>\n",
              "      <td>0050</td>\n",
              "      <td>水産・農林業</td>\n",
              "      <td>TOPIX Small 2</td>\n",
              "      <td>111</td>\n",
              "      <td>プライム</td>\n",
              "    </tr>\n",
              "    <tr>\n",
              "      <th>1</th>\n",
              "      <td>2023-02-13</td>\n",
              "      <td>13050</td>\n",
              "      <td>ダイワ上場投信−トピックス</td>\n",
              "      <td>99</td>\n",
              "      <td>その他</td>\n",
              "      <td>9999</td>\n",
              "      <td>その他</td>\n",
              "      <td>-</td>\n",
              "      <td>109</td>\n",
              "      <td>その他</td>\n",
              "    </tr>\n",
              "  </tbody>\n",
              "</table>\n",
              "</div>"
            ],
            "text/plain": [
              "        Date   Code    CompanyName Sector17Code Sector17CodeName Sector33Code Sector33CodeName  ScaleCategory MarketCode MarketCodeName\n",
              "0 2023-02-13  13010             極洋            1               食品         0050           水産・農林業  TOPIX Small 2        111           プライム\n",
              "1 2023-02-13  13050  ダイワ上場投信−トピックス           99              その他         9999              その他              -        109            その他"
            ]
          },
          "execution_count": 11,
          "metadata": {},
          "output_type": "execute_result"
        }
      ],
      "source": [
        "# 最新日付の全銘柄一覧を取得\n",
        "df_list = jqapi.get_listed_info()\n",
        "df_list.head(2)"
      ]
    },
    {
      "cell_type": "markdown",
      "metadata": {
        "id": "6fX9YEaig8up"
      },
      "source": [
        "### セクター情報の取得"
      ]
    },
    {
      "cell_type": "code",
      "execution_count": 12,
      "metadata": {
        "id": "X7pgscIwiA0o"
      },
      "outputs": [
        {
          "data": {
            "text/html": [
              "<div>\n",
              "<style scoped>\n",
              "    .dataframe tbody tr th:only-of-type {\n",
              "        vertical-align: middle;\n",
              "    }\n",
              "\n",
              "    .dataframe tbody tr th {\n",
              "        vertical-align: top;\n",
              "    }\n",
              "\n",
              "    .dataframe thead th {\n",
              "        text-align: right;\n",
              "    }\n",
              "</style>\n",
              "<table border=\"1\" class=\"dataframe\">\n",
              "  <thead>\n",
              "    <tr style=\"text-align: right;\">\n",
              "      <th></th>\n",
              "      <th>SectorCode</th>\n",
              "      <th>SectorName</th>\n",
              "    </tr>\n",
              "  </thead>\n",
              "  <tbody>\n",
              "    <tr>\n",
              "      <th>33</th>\n",
              "      <td>0050</td>\n",
              "      <td>水産・農林業</td>\n",
              "    </tr>\n",
              "    <tr>\n",
              "      <th>5</th>\n",
              "      <td>1050</td>\n",
              "      <td>鉱業</td>\n",
              "    </tr>\n",
              "  </tbody>\n",
              "</table>\n",
              "</div>"
            ],
            "text/plain": [
              "   SectorCode SectorName\n",
              "33       0050     水産・農林業\n",
              "5        1050         鉱業"
            ]
          },
          "execution_count": 12,
          "metadata": {},
          "output_type": "execute_result"
        }
      ],
      "source": [
        "# APIから33業種を取得します\n",
        "df_sectors = jqapi.get_listed_sections()\n",
        "df_sectors.head(2)"
      ]
    },
    {
      "cell_type": "code",
      "execution_count": 13,
      "metadata": {
        "id": "0GiLhXX60V-Q"
      },
      "outputs": [
        {
          "data": {
            "text/html": [
              "<div>\n",
              "<style scoped>\n",
              "    .dataframe tbody tr th:only-of-type {\n",
              "        vertical-align: middle;\n",
              "    }\n",
              "\n",
              "    .dataframe tbody tr th {\n",
              "        vertical-align: top;\n",
              "    }\n",
              "\n",
              "    .dataframe thead th {\n",
              "        text-align: right;\n",
              "    }\n",
              "</style>\n",
              "<table border=\"1\" class=\"dataframe\">\n",
              "  <thead>\n",
              "    <tr style=\"text-align: right;\">\n",
              "      <th></th>\n",
              "      <th>Sector33Code</th>\n",
              "      <th>Sector33CodeName</th>\n",
              "      <th>Sector33CodeNameEnglish</th>\n",
              "      <th>Sector17Code</th>\n",
              "    </tr>\n",
              "  </thead>\n",
              "  <tbody>\n",
              "    <tr>\n",
              "      <th>0</th>\n",
              "      <td>0050</td>\n",
              "      <td>水産・農林業</td>\n",
              "      <td>Fishery, Agriculture &amp; Forestry</td>\n",
              "      <td>1</td>\n",
              "    </tr>\n",
              "    <tr>\n",
              "      <th>1</th>\n",
              "      <td>1050</td>\n",
              "      <td>鉱業</td>\n",
              "      <td>Mining</td>\n",
              "      <td>2</td>\n",
              "    </tr>\n",
              "  </tbody>\n",
              "</table>\n",
              "</div>"
            ],
            "text/plain": [
              "  Sector33Code Sector33CodeName          Sector33CodeNameEnglish Sector17Code\n",
              "0         0050           水産・農林業  Fishery, Agriculture & Forestry            1\n",
              "1         1050               鉱業                           Mining            2"
            ]
          },
          "execution_count": 13,
          "metadata": {},
          "output_type": "execute_result"
        }
      ],
      "source": [
        "# jquants-api-client に埋め込まれている33業種を取得します\n",
        "df_33_sectors = jqapi.get_33_sectors()\n",
        "df_33_sectors.head(2)"
      ]
    },
    {
      "cell_type": "code",
      "execution_count": 14,
      "metadata": {
        "id": "K3BJIKOL0isa"
      },
      "outputs": [
        {
          "data": {
            "text/html": [
              "<div>\n",
              "<style scoped>\n",
              "    .dataframe tbody tr th:only-of-type {\n",
              "        vertical-align: middle;\n",
              "    }\n",
              "\n",
              "    .dataframe tbody tr th {\n",
              "        vertical-align: top;\n",
              "    }\n",
              "\n",
              "    .dataframe thead th {\n",
              "        text-align: right;\n",
              "    }\n",
              "</style>\n",
              "<table border=\"1\" class=\"dataframe\">\n",
              "  <thead>\n",
              "    <tr style=\"text-align: right;\">\n",
              "      <th></th>\n",
              "      <th>Sector17Code</th>\n",
              "      <th>Sector17CodeName</th>\n",
              "      <th>Sector17CodeNameEnglish</th>\n",
              "    </tr>\n",
              "  </thead>\n",
              "  <tbody>\n",
              "    <tr>\n",
              "      <th>0</th>\n",
              "      <td>1</td>\n",
              "      <td>食品</td>\n",
              "      <td>FOODS</td>\n",
              "    </tr>\n",
              "    <tr>\n",
              "      <th>9</th>\n",
              "      <td>10</td>\n",
              "      <td>情報通信・サービスその他</td>\n",
              "      <td>IT &amp; SERVICES, OTHERS</td>\n",
              "    </tr>\n",
              "  </tbody>\n",
              "</table>\n",
              "</div>"
            ],
            "text/plain": [
              "  Sector17Code Sector17CodeName Sector17CodeNameEnglish\n",
              "0            1               食品                   FOODS\n",
              "9           10     情報通信・サービスその他  IT & SERVICES, OTHERS "
            ]
          },
          "execution_count": 14,
          "metadata": {},
          "output_type": "execute_result"
        }
      ],
      "source": [
        "# jquants-api-client に埋め込まれている17業種を取得します\n",
        "df_17_sectors = jqapi.get_17_sectors()\n",
        "df_17_sectors.head(2)"
      ]
    },
    {
      "cell_type": "markdown",
      "metadata": {
        "id": "LaQfxypgg_BN"
      },
      "source": [
        "### 市場区分の取得"
      ]
    },
    {
      "cell_type": "code",
      "execution_count": 15,
      "metadata": {
        "id": "FiA_9SuzlzGt"
      },
      "outputs": [
        {
          "data": {
            "text/html": [
              "<div>\n",
              "<style scoped>\n",
              "    .dataframe tbody tr th:only-of-type {\n",
              "        vertical-align: middle;\n",
              "    }\n",
              "\n",
              "    .dataframe tbody tr th {\n",
              "        vertical-align: top;\n",
              "    }\n",
              "\n",
              "    .dataframe thead th {\n",
              "        text-align: right;\n",
              "    }\n",
              "</style>\n",
              "<table border=\"1\" class=\"dataframe\">\n",
              "  <thead>\n",
              "    <tr style=\"text-align: right;\">\n",
              "      <th></th>\n",
              "      <th>MarketCode</th>\n",
              "      <th>MarketCodeName</th>\n",
              "      <th>MarketCodeNameEnglish</th>\n",
              "    </tr>\n",
              "  </thead>\n",
              "  <tbody>\n",
              "    <tr>\n",
              "      <th>0</th>\n",
              "      <td>101</td>\n",
              "      <td>東証一部</td>\n",
              "      <td>1st Section</td>\n",
              "    </tr>\n",
              "    <tr>\n",
              "      <th>1</th>\n",
              "      <td>102</td>\n",
              "      <td>東証二部</td>\n",
              "      <td>2nd Section</td>\n",
              "    </tr>\n",
              "  </tbody>\n",
              "</table>\n",
              "</div>"
            ],
            "text/plain": [
              "  MarketCode MarketCodeName MarketCodeNameEnglish\n",
              "0        101           東証一部           1st Section\n",
              "1        102           東証二部           2nd Section"
            ]
          },
          "execution_count": 15,
          "metadata": {},
          "output_type": "execute_result"
        }
      ],
      "source": [
        "# jquants-api-client に埋め込まれている市場区分を取得します\n",
        "df_market = jqapi.get_market_segments()\n",
        "df_market.head(2)"
      ]
    },
    {
      "cell_type": "markdown",
      "metadata": {
        "id": "OyRMQ8ouhDw9"
      },
      "source": [
        "### 銘柄/市場区分/セクターの確認"
      ]
    },
    {
      "cell_type": "markdown",
      "metadata": {
        "id": "DgTUILzwhMiz"
      },
      "source": [
        "ここまで取得したデータを使用して簡単な確認を実施してみましょう。"
      ]
    },
    {
      "cell_type": "code",
      "execution_count": 16,
      "metadata": {
        "id": "m7xPie0lqsac"
      },
      "outputs": [
        {
          "data": {
            "text/plain": [
              "4247"
            ]
          },
          "execution_count": 16,
          "metadata": {},
          "output_type": "execute_result"
        }
      ],
      "source": [
        "# 全銘柄数\n",
        "df_list.shape[0]"
      ]
    },
    {
      "cell_type": "code",
      "execution_count": 17,
      "metadata": {
        "id": "WRItY9XunNrN"
      },
      "outputs": [
        {
          "data": {
            "text/plain": [
              "<AxesSubplot: xlabel='MarketCodeName'>"
            ]
          },
          "execution_count": 17,
          "metadata": {},
          "output_type": "execute_result"
        },
        {
          "data": {
            "image/png": "[encoded data removed]",
            "text/plain": [
              "<Figure size 640x480 with 1 Axes>"
            ]
          },
          "metadata": {},
          "output_type": "display_data"
        }
      ],
      "source": [
        "# 市場区分毎の銘柄数を確認\n",
        "df_list.groupby(\"MarketCodeName\")[\"Code\"].count().sort_values(\n",
        "    ascending=False\n",
        ").to_frame().plot(kind=\"bar\")"
      ]
    },
    {
      "cell_type": "code",
      "execution_count": null,
      "metadata": {
        "id": "GOtboWTGhS4D"
      },
      "outputs": [],
      "source": [
        "# セクター毎の銘柄数を確認\n",
        "df_list.groupby(\"Sector33CodeName\")[\"Code\"].count().sort_values(\n",
        "    ascending=False\n",
        ").to_frame().plot(kind=\"bar\")"
      ]
    },
    {
      "cell_type": "code",
      "execution_count": null,
      "metadata": {
        "id": "tVsNJfLUiES9"
      },
      "outputs": [],
      "source": [
        "# セクターおよび市場区分ごとの銘柄数確認\n",
        "# ヒートマップで確認するためにデータを整形します。\n",
        "df_tmp = (\n",
        "    df_list.groupby([\"Sector33CodeName\", \"MarketCodeName\"])[\"Code\"]\n",
        "    .count()\n",
        "    .to_frame()\n",
        "    .reset_index()\n",
        "    .pivot(index=\"Sector33CodeName\", columns=\"MarketCodeName\", values=\"Code\")\n",
        "    .fillna(0)\n",
        "    .astype(int)[[\"プライム\", \"スタンダード\", \"グロース\"]]\n",
        ")\n",
        "df_tmp.head(5)"
      ]
    },
    {
      "cell_type": "code",
      "execution_count": null,
      "metadata": {
        "id": "9KUAbS_qiphq"
      },
      "outputs": [],
      "source": [
        "f, ax = plt.subplots(figsize=(18, 12))\n",
        "sns.heatmap(\n",
        "    df_tmp,\n",
        "    annot=True,\n",
        "    fmt=\"d\",\n",
        "    cmap=sns.diverging_palette(230, 20, as_cmap=True),\n",
        "    linewidths=0.5,\n",
        "    ax=ax,\n",
        ")"
      ]
    },
    {
      "cell_type": "markdown",
      "metadata": {
        "id": "Pw0aY4GlnCD3"
      },
      "source": [
        "### 株価情報の取得"
      ]
    },
    {
      "cell_type": "markdown",
      "metadata": {
        "id": "6JutyYPcqNst"
      },
      "source": [
        "株価情報は2通りの取得方法が提供されています。それぞれの取得方法を確認してみましょう。"
      ]
    },
    {
      "cell_type": "code",
      "execution_count": null,
      "metadata": {
        "id": "7euBE-s7p-V-"
      },
      "outputs": [],
      "source": [
        "# 日付を指定して取得\n",
        "df_price = jqapi.get_prices_daily_quotes(date_yyyymmdd=\"20220517\")\n",
        "df_price.head(2)"
      ]
    },
    {
      "cell_type": "code",
      "execution_count": null,
      "metadata": {
        "id": "NQZw0GyWsOJS"
      },
      "outputs": [],
      "source": [
        "# 銘柄コードを指定して取得\n",
        "df_price = jqapi.get_prices_daily_quotes(code=8697)\n",
        "df_price.tail(2)"
      ]
    },
    {
      "cell_type": "markdown",
      "metadata": {
        "id": "RmSAqMYV3yZ7"
      },
      "source": [
        "### 指数情報の取得"
      ]
    },
    {
      "cell_type": "markdown",
      "metadata": {
        "id": "5eMwdUmi4nm-"
      },
      "source": [
        "#### 日次の TOPIX 指数情報の取得\n",
        "\n",
        "日付を指定して取得することも可能です。"
      ]
    },
    {
      "cell_type": "code",
      "execution_count": null,
      "metadata": {
        "id": "7vUUxMG931Um"
      },
      "outputs": [],
      "source": [
        "# 指定した期間のデータ\n",
        "df_topix = jqapi.get_indices_topix(from_yyyymmdd=\"20221101\", to_yyyymmdd=\"20221104\")\n",
        "df_topix"
      ]
    },
    {
      "cell_type": "code",
      "execution_count": null,
      "metadata": {
        "id": "LvRTkH1D4-Fz"
      },
      "outputs": [],
      "source": [
        "# 全期間のデータ\n",
        "df_topix = jqapi.get_indices_topix()\n",
        "df_topix.head(2)"
      ]
    },
    {
      "cell_type": "markdown",
      "metadata": {
        "id": "ltmTbWhW_KY8"
      },
      "source": [
        "### マーケット情報の取得"
      ]
    },
    {
      "cell_type": "markdown",
      "metadata": {
        "id": "YEhsX6tl_NQd"
      },
      "source": [
        "#### 週次の投資部門別売買状況\n",
        "\n",
        "日付を指定して取得する方法と、セクションを指定して取得する方法が提供されています。"
      ]
    },
    {
      "cell_type": "code",
      "execution_count": null,
      "metadata": {
        "id": "2aV-UXjc_Vwk"
      },
      "outputs": [],
      "source": [
        "# 指定したセクションの指定した期間のデータ\n",
        "df_markets_trades = jqapi.get_markets_trades_spec(section=jquantsapi.MARKET_API_SECTIONS.TSE1st, from_yyyymmdd=\"20190101\", to_yyyymmdd=\"20190114\")\n",
        "df_markets_trades.tail(2)"
      ]
    },
    {
      "cell_type": "code",
      "execution_count": null,
      "metadata": {
        "id": "V5SDAR3UAMJ5"
      },
      "outputs": [],
      "source": [
        "# 指定したセクションの全期間のデータ\n",
        "df_markets_trades = jqapi.get_markets_trades_spec(section=jquantsapi.MARKET_API_SECTIONS.TSEPrime)\n",
        "df_markets_trades.tail(2)"
      ]
    },
    {
      "cell_type": "code",
      "execution_count": null,
      "metadata": {
        "id": "ZA951r1DANw-"
      },
      "outputs": [],
      "source": [
        "# すべてのセクションの指定した期間のデータ\n",
        "df_markets_trades = jqapi.get_markets_trades_spec(from_yyyymmdd=\"20190101\", to_yyyymmdd=\"20190114\")\n",
        "df_markets_trades.tail(2)"
      ]
    },
    {
      "cell_type": "code",
      "execution_count": null,
      "metadata": {
        "id": "YYY07UWTAXPY"
      },
      "outputs": [],
      "source": [
        "# すべてのセクションの全期間のデータ\n",
        "df_markets_trades = jqapi.get_markets_trades_spec()\n",
        "df_markets_trades.tail(2)"
      ]
    },
    {
      "cell_type": "markdown",
      "metadata": {
        "id": "-16evQjuzfVk"
      },
      "source": [
        "### 財務情報の取得"
      ]
    },
    {
      "cell_type": "markdown",
      "metadata": {
        "id": "74sBTeqxqdhm"
      },
      "source": [
        "財務情報も日付を指定して取得する方法と、銘柄コードを指定して取得する方法が提供されています。"
      ]
    },
    {
      "cell_type": "code",
      "execution_count": null,
      "metadata": {
        "id": "g5PYb_skzqiS"
      },
      "outputs": [],
      "source": [
        "# 日付を指定\n",
        "df_fin = jqapi.get_fins_statements(date_yyyymmdd=\"20220629\")\n",
        "df_fin.head(2).T"
      ]
    },
    {
      "cell_type": "code",
      "execution_count": null,
      "metadata": {
        "id": "5IY18luGd4Un"
      },
      "outputs": [],
      "source": [
        "# 銘柄コードを指定\n",
        "df_fin = jqapi.get_fins_statements(code=8697)\n",
        "df_fin.tail(2).T"
      ]
    },
    {
      "cell_type": "markdown",
      "metadata": {
        "id": "a8hpeOatq17T"
      },
      "source": [
        "### 財務情報公表予定の取得"
      ]
    },
    {
      "cell_type": "code",
      "execution_count": null,
      "metadata": {
        "id": "zPZWTOIKeMEy"
      },
      "outputs": [],
      "source": [
        "df_fin_announcement = jqapi.get_fins_announcement()\n",
        "df_fin_announcement.head(2)"
      ]
    },
    {
      "cell_type": "markdown",
      "metadata": {
        "id": "ts3YtUJ0rDuK"
      },
      "source": [
        "## J-Quants API からのデータ取得と保存\n",
        "\n"
      ]
    },
    {
      "cell_type": "markdown",
      "metadata": {
        "id": "_FbCX8IMrHvi"
      },
      "source": [
        "J-Quants API から毎日データを取得して分析する環境を作るために、日次で必要なデータを取得していきます。"
      ]
    },
    {
      "cell_type": "markdown",
      "metadata": {
        "id": "RjN3FN5stCOX"
      },
      "source": [
        "### 銘柄データの取得"
      ]
    },
    {
      "cell_type": "markdown",
      "metadata": {
        "id": "o-j0cdc3tEZ7"
      },
      "source": [
        "以降の作業を容易にするために、市場区分やセクター情報を結合した銘柄リストを作成します。"
      ]
    },
    {
      "cell_type": "code",
      "execution_count": null,
      "metadata": {
        "id": "lGrJDXdftKzQ"
      },
      "outputs": [],
      "source": [
        "now = pd.Timestamp.now(tz=\"Asia/Tokyo\")\n",
        "if now.hour < 22:\n",
        "    # データ更新時間前の場合は日付を1日ずらします。\n",
        "    now -= pd.Timedelta(1, unit=\"D\")\n",
        "list_file = f\"{STORAGE_DIR_PATH}/list_{now.strftime('%Y%m%d')}.csv.gz\"\n",
        "if not os.path.isfile(list_file):\n",
        "    df_list = jqapi.get_list()\n",
        "    df_list.to_csv(list_file, compression=\"gzip\", index=False)\n",
        "    print(f\"save file: {list_file}\")\n",
        "else:\n",
        "    print(f\"file exists: {list_file}, loading\")\n",
        "    df_list = pd.read_csv(list_file, dtype=\"str\")"
      ]
    },
    {
      "cell_type": "code",
      "execution_count": null,
      "metadata": {
        "id": "ZEc_grfpwzb3"
      },
      "outputs": [],
      "source": [
        "df_list.head(2)"
      ]
    },
    {
      "cell_type": "markdown",
      "metadata": {
        "id": "X9EcSMrrsf5_"
      },
      "source": [
        "### 株価データの取得"
      ]
    },
    {
      "cell_type": "markdown",
      "metadata": {
        "id": "3UY0mj8Bsh6a"
      },
      "source": [
        "ここではロジックを簡易で済ませるために日次で必要な全データを取得しなおしています。\n",
        "環境によって実行に2分ほどかかることがあります。\n",
        "\n",
        "TODO: 未調整済み株価から調整済み株価の算出ロジックの実装"
      ]
    },
    {
      "cell_type": "code",
      "execution_count": null,
      "metadata": {
        "id": "knNhprVxVZlI"
      },
      "outputs": [],
      "source": [
        "now = pd.Timestamp.now(tz=\"Asia/Tokyo\")\n",
        "start_dt = now - pd.offsets.Week(6)\n",
        "end_dt = now\n",
        "if end_dt.hour < 19:\n",
        "    # データ更新時間前の場合は日付を1日ずらします。\n",
        "    end_dt -= pd.Timedelta(1, unit=\"D\")\n",
        "price_file = f\"{STORAGE_DIR_PATH}/price_{start_dt.strftime('%Y%m%d')}_{end_dt.strftime('%Y%m%d')}.csv.gz\"\n",
        "if not os.path.isfile(price_file):\n",
        "    df_p = jqapi.get_price_range(start_dt=start_dt, end_dt=end_dt)\n",
        "    df_p.to_csv(price_file, compression=\"gzip\", index=False)\n",
        "    print(f\"save file: {price_file}\")\n",
        "else:\n",
        "    print(f\"file exists: {price_file}, loading\")\n",
        "    df_p = pd.read_csv(price_file, dtype=\"str\")\n",
        "    df_p.loc[:, \"Date\"] = pd.to_datetime(df_p[\"Date\"], format=\"%Y-%m-%d\")\n",
        "    "
      ]
    },
    {
      "cell_type": "code",
      "execution_count": null,
      "metadata": {
        "id": "FYE8uGFHSgL2"
      },
      "outputs": [],
      "source": [
        "df_p.tail(2)"
      ]
    },
    {
      "cell_type": "markdown",
      "metadata": {
        "id": "P7AA-YqVtSGw"
      },
      "source": [
        "### 財務データの取得"
      ]
    },
    {
      "cell_type": "markdown",
      "metadata": {
        "id": "XXFuNHO1vysD"
      },
      "source": [
        "get_statements_all に cache_dir を指定すると、日次のデータをキャッシュとして保存しておくため、日次では必要なファイルのみを取得しています。"
      ]
    },
    {
      "cell_type": "code",
      "execution_count": null,
      "metadata": {
        "id": "aEk-UcFqtZYb"
      },
      "outputs": [],
      "source": [
        "now = pd.Timestamp.now(tz=\"Asia/Tokyo\")\n",
        "start_dt = now - pd.Timedelta(14, unit=\"D\")\n",
        "end_dt = now - pd.Timedelta(1, unit=\"D\")\n",
        "if end_dt.hour < 1:\n",
        "    # データ更新時間前の場合は日付を1日ずらします。\n",
        "    end_dt -= pd.Timedelta(1, unit=\"D\")\n",
        "statements_file = f\"{STORAGE_DIR_PATH}/statements_{start_dt.strftime('%Y%m%d')}_{end_dt.strftime('%Y%m%d')}.csv.gz\"\n",
        "if not os.path.isfile(statements_file):\n",
        "    cache_dir = f\"{STORAGE_DIR_PATH}/raw_statements\"\n",
        "    os.makedirs(cache_dir, exist_ok=True)\n",
        "    df_s = jqapi.get_statements_range(\n",
        "        start_dt=start_dt, end_dt=end_dt, cache_dir=cache_dir\n",
        "    )\n",
        "    df_s.to_csv(statements_file, compression=\"gzip\", index=False)\n",
        "    print(f\"save file: {statements_file}\")\n",
        "else:\n",
        "    print(f\"file exists: {statements_file}, loading\")\n",
        "    df_s = pd.read_csv(statements_file, dtype=\"str\")\n",
        "    df_s.loc[:, \"DisclosedDate\"] = pd.to_datetime(\n",
        "        df_s[\"DisclosedDate\"], format=\"%Y-%m-%d\"\n",
        "    )\n",
        "    df_s.loc[:, \"CurrentPeriodEndDate\"] = pd.to_datetime(\n",
        "        df_s[\"CurrentPeriodEndDate\"], format=\"%Y-%m-%d\"\n",
        "    )\n",
        "    df_s.loc[:, \"CurrentFiscalYearStartDate\"] = pd.to_datetime(\n",
        "        df_s[\"CurrentFiscalYearStartDate\"], format=\"%Y-%m-%d\"\n",
        "    )\n",
        "    df_s.loc[:, \"CurrentFiscalYearEndDate\"] = pd.to_datetime(\n",
        "        df_s[\"CurrentFiscalYearEndDate\"], format=\"%Y-%m-%d\"\n",
        "    )\n",
        "    df_s.sort_values(\"DisclosedUnixTime\", inplace=True)"
      ]
    },
    {
      "cell_type": "code",
      "execution_count": null,
      "metadata": {
        "id": "DY-3KGH1uA_7"
      },
      "outputs": [],
      "source": [
        "df_s.head(2)"
      ]
    },
    {
      "cell_type": "markdown",
      "metadata": {
        "id": "nLTWi7LjxCGL"
      },
      "source": [
        "## J-Quants APIから取得したデータの分析"
      ]
    },
    {
      "cell_type": "markdown",
      "metadata": {
        "id": "ShVxC6S67Q9a"
      },
      "source": [
        "ここまでで日次で最新のデータを取得できるようになったため、ここからは取得したデータを使用して分析をしてみたいと思います。一例として注目されているセクターの移り変わりを分析してみたいと思います。"
      ]
    },
    {
      "cell_type": "markdown",
      "metadata": {
        "id": "v3Ss_8v80LqJ"
      },
      "source": [
        "### プライム市場における各セクターの取引代金の変化率"
      ]
    },
    {
      "cell_type": "markdown",
      "metadata": {
        "id": "XzA2qsYG7L5w"
      },
      "source": [
        "セクターローテーションという言葉が示すように注目されているセクターは市場状況に応じて変化していきます。各セクターごとのリターンを算出して分析することが一般的ですが、ここではプライム市場において各セクターの取引代金が占める割合の変化を分析してみます。"
      ]
    },
    {
      "cell_type": "code",
      "execution_count": null,
      "metadata": {
        "id": "urLdvavDxF3x"
      },
      "outputs": [],
      "source": [
        "# 株価情報と銘柄情報を結合します\n",
        "# Date 列が重複しているため df_list から削除して結合しています\n",
        "df_work = pd.merge(df_p, df_list.drop(columns=[\"Date\"]), how=\"inner\", on=[\"Code\"])\n",
        "# 数字型に変換します\n",
        "df_work.loc[:, \"TurnoverValue\"] = df_work[\"TurnoverValue\"].astype(np.float64)\n",
        "df_work.head(2)"
      ]
    },
    {
      "cell_type": "code",
      "execution_count": null,
      "metadata": {
        "id": "VgmfaVcGxKtb"
      },
      "outputs": [],
      "source": [
        "# プライム市場の過去5週のセクター別の取引額のしめる割合の推移を確認します\n",
        "last_bday = (pd.Timestamp.now(tz=\"Asia/Tokyo\") - pd.offsets.Week(6)).strftime(\n",
        "    \"%Y-%m-%d\"\n",
        ")\n",
        "# データを絞り込みます\n",
        "df = df_work.loc[\n",
        "    (\n",
        "        (\n",
        "            # 営業日\n",
        "            df_work[\"Date\"]\n",
        "            >= last_bday\n",
        "        )\n",
        "        & (\n",
        "            # プライム市場\n",
        "            df_work[\"MarketCode\"]\n",
        "            == \"111\"\n",
        "        )\n",
        "    )\n",
        "].copy()"
      ]
    },
    {
      "cell_type": "code",
      "execution_count": null,
      "metadata": {
        "id": "SYG2Sb4QxV3o"
      },
      "outputs": [],
      "source": [
        "# 週次でセクターごとの取引代金を集計してフォーマットを整えます\n",
        "df_turnovervalue = (\n",
        "    (\n",
        "        df.groupby([\"Sector33CodeName\", pd.Grouper(key=\"Date\", freq=\"W\")])[\n",
        "            [\"TurnoverValue\"]\n",
        "        ].sum()\n",
        "    )\n",
        "    .reset_index()\n",
        "    .pivot(\"Date\", \"Sector33CodeName\", \"TurnoverValue\")\n",
        "    .dropna()\n",
        ")\n",
        "# 週次で各セクターの割合を計算します\n",
        "df_turnovervalue = df_turnovervalue.div(df_turnovervalue.sum(axis=1), axis=0)\n",
        "# 割合の前週との変化率を計算します\n",
        "df_turnovervalue = df_turnovervalue.pct_change().dropna()\n",
        "# 日付範囲を区切ります\n",
        "df_turnovervalue = df_turnovervalue.loc[df_turnovervalue.index[1:]]\n",
        "# 日付の表示方法を変更します\n",
        "df_turnovervalue.index = df_turnovervalue.index.strftime(\"%Y-%m-%d\")\n",
        "# 表示用に展開します\n",
        "df_turnovervalue = df_turnovervalue.T\n",
        "# 直近の増減でソートします\n",
        "df_turnovervalue = df_turnovervalue.sort_values(\n",
        "    df_turnovervalue.columns[-1], ascending=False\n",
        ")\n",
        "# 週次での増減を可視化します\n",
        "df_turnovervalue.style.background_gradient(cmap=\"RdYlGn\", axis=0)"
      ]
    },
    {
      "cell_type": "markdown",
      "metadata": {
        "id": "NYLcdoX89KPi"
      },
      "source": [
        "本日のデモは以上となります。\n",
        "\n",
        "J-Quants API を使用することで個人投資家の方々もご自身の観点で市場を分析することができるようになるかと思われます。今回は財務情報についてデータの取得のみで分析はしませんでしたが、J-Quants データ分析コンペティションで上位入賞した機械学習モデルは財務情報からも特徴量を抽出していますように、分析しがいのあるデータとなっております。\n",
        "\n",
        "J-Quants API が登場することによって、個人投資家が使用可能な Google Colab や Google Cloud などのオンデマンドでの計算資源と組み合わせることで、データドリブンな意思決定をよりしやすい環境が見えてきました。\n",
        "\n",
        "J-Quants API は現在ベータ版が公開されています。公式サイトにて運営事務局へのフィードバックも募集されていますので、本ノートブックが活発なディスカッションの一助となれば幸いでございます。\n",
        "\n",
        "[J-Quatns公式サイト](https://jpx-jquants.com)"
      ]
    },
    {
      "cell_type": "code",
      "execution_count": null,
      "metadata": {
        "id": "RzhIegKQAK9C"
      },
      "outputs": [],
      "source": []
    }
  ],
  "metadata": {
    "colab": {
      "provenance": []
    },
    "kernelspec": {
      "display_name": "Python 3",
      "language": "python",
      "name": "python3"
    },
    "language_info": {
      "codemirror_mode": {
        "name": "ipython",
        "version": 3
      },
      "file_extension": ".py",
      "mimetype": "text/x-python",
      "name": "python",
      "nbconvert_exporter": "python",
      "pygments_lexer": "ipython3",
      "version": "3.9.16"
    },
    "vscode": {
      "interpreter": {
        "hash": "949777d72b0d2535278d3dc13498b2535136f6dfe0678499012e853ee9abcab1"
      }
    }
  },
  "nbformat": 4,
  "nbformat_minor": 0
}
