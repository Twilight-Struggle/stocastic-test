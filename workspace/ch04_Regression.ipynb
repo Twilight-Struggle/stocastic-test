{
  "cells": [
    {
      "cell_type": "markdown",
      "metadata": {
        "colab_type": "text",
        "id": "view-in-github"
      },
      "source": [
        "<a href=\"https://colab.research.google.com/github/dsk-yshkw/DataDrivenFinance/blob/main/ch04_Regression.ipynb\" target=\"_parent\"><img src=\"https://colab.research.google.com/assets/colab-badge.svg\" alt=\"Open In Colab\"/></a>"
      ]
    },
    {
      "cell_type": "code",
      "execution_count": null,
      "metadata": {
        "id": "9R_uGyOSpYK9"
      },
      "outputs": [],
      "source": [
        "# 最初にpandasをインポートしておく\n",
        "import pandas as pd"
      ]
    },
    {
      "cell_type": "markdown",
      "metadata": {
        "id": "ofMH2ggYkpg4"
      },
      "source": [
        "## yfinanceからデータを取得する場合"
      ]
    },
    {
      "cell_type": "code",
      "execution_count": null,
      "metadata": {
        "colab": {
          "base_uri": "https://localhost:8080/"
        },
        "id": "sRFYXI1XpYK6",
        "outputId": "6e216dd7-32ba-41ae-fe2a-2398257fd56c"
      },
      "outputs": [
        {
          "name": "stdout",
          "output_type": "stream",
          "text": [
            "Collecting yfinance\n",
            "  Downloading yfinance-0.1.70-py2.py3-none-any.whl (26 kB)\n",
            "Collecting lxml>=4.5.1\n",
            "  Downloading lxml-4.8.0-cp37-cp37m-manylinux_2_17_x86_64.manylinux2014_x86_64.manylinux_2_24_x86_64.whl (6.4 MB)\n",
            "\u001b[K     |████████████████████████████████| 6.4 MB 7.8 MB/s \n",
            "\u001b[?25hRequirement already satisfied: multitasking>=0.0.7 in /usr/local/lib/python3.7/dist-packages (from yfinance) (0.0.10)\n",
            "Requirement already satisfied: pandas>=0.24.0 in /usr/local/lib/python3.7/dist-packages (from yfinance) (1.3.5)\n",
            "Requirement already satisfied: numpy>=1.15 in /usr/local/lib/python3.7/dist-packages (from yfinance) (1.21.6)\n",
            "Collecting requests>=2.26\n",
            "  Downloading requests-2.27.1-py2.py3-none-any.whl (63 kB)\n",
            "\u001b[K     |████████████████████████████████| 63 kB 1.5 MB/s \n",
            "\u001b[?25hRequirement already satisfied: python-dateutil>=2.7.3 in /usr/local/lib/python3.7/dist-packages (from pandas>=0.24.0->yfinance) (2.8.2)\n",
            "Requirement already satisfied: pytz>=2017.3 in /usr/local/lib/python3.7/dist-packages (from pandas>=0.24.0->yfinance) (2022.1)\n",
            "Requirement already satisfied: six>=1.5 in /usr/local/lib/python3.7/dist-packages (from python-dateutil>=2.7.3->pandas>=0.24.0->yfinance) (1.15.0)\n",
            "Requirement already satisfied: charset-normalizer~=2.0.0 in /usr/local/lib/python3.7/dist-packages (from requests>=2.26->yfinance) (2.0.12)\n",
            "Requirement already satisfied: idna<4,>=2.5 in /usr/local/lib/python3.7/dist-packages (from requests>=2.26->yfinance) (2.10)\n",
            "Requirement already satisfied: certifi>=2017.4.17 in /usr/local/lib/python3.7/dist-packages (from requests>=2.26->yfinance) (2021.10.8)\n",
            "Requirement already satisfied: urllib3<1.27,>=1.21.1 in /usr/local/lib/python3.7/dist-packages (from requests>=2.26->yfinance) (1.24.3)\n",
            "Installing collected packages: requests, lxml, yfinance\n",
            "  Attempting uninstall: requests\n",
            "    Found existing installation: requests 2.23.0\n",
            "    Uninstalling requests-2.23.0:\n",
            "      Successfully uninstalled requests-2.23.0\n",
            "  Attempting uninstall: lxml\n",
            "    Found existing installation: lxml 4.2.6\n",
            "    Uninstalling lxml-4.2.6:\n",
            "      Successfully uninstalled lxml-4.2.6\n",
            "\u001b[31mERROR: pip's dependency resolver does not currently take into account all the packages that are installed. This behaviour is the source of the following dependency conflicts.\n",
            "google-colab 1.0.0 requires requests~=2.23.0, but you have requests 2.27.1 which is incompatible.\n",
            "datascience 0.10.6 requires folium==0.2.1, but you have folium 0.8.3 which is incompatible.\u001b[0m\n",
            "Successfully installed lxml-4.8.0 requests-2.27.1 yfinance-0.1.70\n"
          ]
        }
      ],
      "source": [
        "!pip install yfinance"
      ]
    },
    {
      "cell_type": "code",
      "execution_count": null,
      "metadata": {
        "id": "vKbHA5tTpYK7"
      },
      "outputs": [],
      "source": [
        "from pandas_datareader import data as pdr\n",
        "\n",
        "import yfinance as yf\n",
        "yf.pdr_override() "
      ]
    },
    {
      "cell_type": "code",
      "execution_count": null,
      "metadata": {
        "colab": {
          "base_uri": "https://localhost:8080/"
        },
        "id": "db92RAIPpYK7",
        "outputId": "3d36e976-b3ea-472d-e60e-0f3de27fa128"
      },
      "outputs": [
        {
          "name": "stdout",
          "output_type": "stream",
          "text": [
            "[*********************100%***********************]  1 of 1 completed\n",
            "[*********************100%***********************]  1 of 1 completed\n",
            "[*********************100%***********************]  1 of 1 completed\n"
          ]
        }
      ],
      "source": [
        "symbol_0 = '^TNX' # Tresury yield 10 years 米国10年国債\n",
        "df_interest_rate = pdr.get_data_yahoo(symbol_0, start=\"2016-06-05\", end=\"2021-06-04\")\n",
        "\n",
        "symbol_M = '^GSPC' # SP500\n",
        "df_SP500 = pdr.get_data_yahoo(symbol_M, start=\"2016-06-05\", end=\"2021-06-04\")\n",
        "\n",
        "symbol_mcd = 'MCD'\n",
        "df_MCD = pdr.get_data_yahoo(symbol_mcd, start=\"2016-06-05\", end=\"2021-06-04\")"
      ]
    },
    {
      "cell_type": "code",
      "execution_count": null,
      "metadata": {
        "colab": {
          "base_uri": "https://localhost:8080/"
        },
        "id": "QpfnYWKYpYK8",
        "outputId": "80e16237-732e-465d-cc72-235773253572"
      },
      "outputs": [
        {
          "name": "stdout",
          "output_type": "stream",
          "text": [
            "Open         1246\n",
            "High         1246\n",
            "Low          1246\n",
            "Close        1246\n",
            "Adj Close    1246\n",
            "Volume       1246\n",
            "dtype: int64\n",
            "Open         1258\n",
            "High         1258\n",
            "Low          1258\n",
            "Close        1258\n",
            "Adj Close    1258\n",
            "Volume       1258\n",
            "dtype: int64\n",
            "Open         1258\n",
            "High         1258\n",
            "Low          1258\n",
            "Close        1258\n",
            "Adj Close    1258\n",
            "Volume       1258\n",
            "dtype: int64\n"
          ]
        }
      ],
      "source": [
        "## 各データの欠損値を確認する\n",
        "print(df_interest_rate.count())\n",
        "print(df_SP500.count())\n",
        "print(df_MCD.count())\n"
      ]
    },
    {
      "cell_type": "code",
      "execution_count": null,
      "metadata": {
        "colab": {
          "base_uri": "https://localhost:8080/",
          "height": 450
        },
        "id": "kipnkMUipYK9",
        "outputId": "bad5aab9-1f4b-498b-e4bb-1aa90546a238"
      },
      "outputs": [
        {
          "data": {
            "text/html": [
              "<div>\n",
              "<style scoped>\n",
              "    .dataframe tbody tr th:only-of-type {\n",
              "        vertical-align: middle;\n",
              "    }\n",
              "\n",
              "    .dataframe tbody tr th {\n",
              "        vertical-align: top;\n",
              "    }\n",
              "\n",
              "    .dataframe thead th {\n",
              "        text-align: right;\n",
              "    }\n",
              "</style>\n",
              "<table border=\"1\" class=\"dataframe\">\n",
              "  <thead>\n",
              "    <tr style=\"text-align: right;\">\n",
              "      <th></th>\n",
              "      <th>SP500</th>\n",
              "      <th>MCD</th>\n",
              "    </tr>\n",
              "    <tr>\n",
              "      <th>Date</th>\n",
              "      <th></th>\n",
              "      <th></th>\n",
              "    </tr>\n",
              "  </thead>\n",
              "  <tbody>\n",
              "    <tr>\n",
              "      <th>2016-06-06</th>\n",
              "      <td>2109.409912</td>\n",
              "      <td>106.962906</td>\n",
              "    </tr>\n",
              "    <tr>\n",
              "      <th>2016-06-07</th>\n",
              "      <td>2112.129883</td>\n",
              "      <td>106.875229</td>\n",
              "    </tr>\n",
              "    <tr>\n",
              "      <th>2016-06-08</th>\n",
              "      <td>2119.120117</td>\n",
              "      <td>107.059349</td>\n",
              "    </tr>\n",
              "    <tr>\n",
              "      <th>2016-06-09</th>\n",
              "      <td>2115.479980</td>\n",
              "      <td>107.655533</td>\n",
              "    </tr>\n",
              "    <tr>\n",
              "      <th>2016-06-10</th>\n",
              "      <td>2096.070068</td>\n",
              "      <td>107.278549</td>\n",
              "    </tr>\n",
              "    <tr>\n",
              "      <th>...</th>\n",
              "      <td>...</td>\n",
              "      <td>...</td>\n",
              "    </tr>\n",
              "    <tr>\n",
              "      <th>2021-05-27</th>\n",
              "      <td>4200.879883</td>\n",
              "      <td>232.296478</td>\n",
              "    </tr>\n",
              "    <tr>\n",
              "      <th>2021-05-28</th>\n",
              "      <td>4204.109863</td>\n",
              "      <td>232.614731</td>\n",
              "    </tr>\n",
              "    <tr>\n",
              "      <th>2021-06-01</th>\n",
              "      <td>4202.040039</td>\n",
              "      <td>231.968277</td>\n",
              "    </tr>\n",
              "    <tr>\n",
              "      <th>2021-06-02</th>\n",
              "      <td>4208.120117</td>\n",
              "      <td>232.505325</td>\n",
              "    </tr>\n",
              "    <tr>\n",
              "      <th>2021-06-03</th>\n",
              "      <td>4192.850098</td>\n",
              "      <td>231.182571</td>\n",
              "    </tr>\n",
              "  </tbody>\n",
              "</table>\n",
              "<p>1258 rows × 2 columns</p>\n",
              "</div>"
            ],
            "text/plain": [
              "                  SP500         MCD\n",
              "Date                               \n",
              "2016-06-06  2109.409912  106.962906\n",
              "2016-06-07  2112.129883  106.875229\n",
              "2016-06-08  2119.120117  107.059349\n",
              "2016-06-09  2115.479980  107.655533\n",
              "2016-06-10  2096.070068  107.278549\n",
              "...                 ...         ...\n",
              "2021-05-27  4200.879883  232.296478\n",
              "2021-05-28  4204.109863  232.614731\n",
              "2021-06-01  4202.040039  231.968277\n",
              "2021-06-02  4208.120117  232.505325\n",
              "2021-06-03  4192.850098  231.182571\n",
              "\n",
              "[1258 rows x 2 columns]"
            ]
          },
          "execution_count": 10,
          "metadata": {},
          "output_type": "execute_result"
        }
      ],
      "source": [
        "df_price = pd.concat([df_SP500['Adj Close'],df_MCD['Adj Close']],       \n",
        "                      axis = 1,join='inner')\n",
        "df_price.columns = ['SP500','MCD']\n",
        "df_price"
      ]
    },
    {
      "cell_type": "markdown",
      "metadata": {
        "id": "_lGf7H85pYK5"
      },
      "source": [
        "# CSVからのデータ取得"
      ]
    },
    {
      "cell_type": "code",
      "execution_count": null,
      "metadata": {
        "id": "0LRt9TEapYK9"
      },
      "outputs": [],
      "source": [
        "# GitHubからダウンロードしたzipファイルを展開し，そのままローカルで使う場合\n",
        "df_price = pd.read_csv(\"ch04_stock_price.csv\",index_col = 'Date') # ファイルパスは環境ごとに設定\n",
        "df_interest_rate= pd.read_csv(\"ch04_interest_rate.csv\",index_col = 'Date') # ファイルパスは環境ごとに 設定\n",
        "\n",
        "# Google Colabを使用し，sample_dataフォルダにcsvファイルを置いた場合\n",
        "#df_price = pd.read_csv(\"sample_data/ch04_stock_price.csv\",index_col = 'Date')\n",
        "#df_interest_rate= pd.read_csv(\"sample_data/ch04_interest_rate.csv\",index_col = 'Date')\n",
        "\n",
        "# Google ColabとGoogle Driveを併用し，MyDrive/Colab Notebooks 下に作ったサブフォルダ(Kyoritsu)にcsvファイルを置いた場合\n",
        "#df_price = pd.read_csv(\"drive/MyDrive/Colab Notebooks/Kyoritsu/ch04_stock_price.csv\",index_col = 'Date')\n",
        "#df_interest_rate= pd.read_csv(\"drive/MyDrive/Colab Notebooks/Kyoritsu/ch04_interest_rate.csv\",index_col = 'Date')\n",
        "\n",
        "#df_price\n"
      ]
    },
    {
      "cell_type": "code",
      "execution_count": null,
      "metadata": {
        "colab": {
          "base_uri": "https://localhost:8080/",
          "height": 450
        },
        "id": "yT16ahRa3koK",
        "outputId": "6ee8181d-37e6-4bae-8f81-c91df1d6ff96"
      },
      "outputs": [
        {
          "data": {
            "text/html": [
              "\n",
              "  <div id=\"df-6b860dd8-ef7d-4a86-b7f3-5fcd93a92d81\">\n",
              "    <div class=\"colab-df-container\">\n",
              "      <div>\n",
              "<style scoped>\n",
              "    .dataframe tbody tr th:only-of-type {\n",
              "        vertical-align: middle;\n",
              "    }\n",
              "\n",
              "    .dataframe tbody tr th {\n",
              "        vertical-align: top;\n",
              "    }\n",
              "\n",
              "    .dataframe thead th {\n",
              "        text-align: right;\n",
              "    }\n",
              "</style>\n",
              "<table border=\"1\" class=\"dataframe\">\n",
              "  <thead>\n",
              "    <tr style=\"text-align: right;\">\n",
              "      <th></th>\n",
              "      <th>SP500</th>\n",
              "      <th>MCD</th>\n",
              "    </tr>\n",
              "    <tr>\n",
              "      <th>Date</th>\n",
              "      <th></th>\n",
              "      <th></th>\n",
              "    </tr>\n",
              "  </thead>\n",
              "  <tbody>\n",
              "    <tr>\n",
              "      <th>2016-06-06</th>\n",
              "      <td>2109.409912</td>\n",
              "      <td>107.549301</td>\n",
              "    </tr>\n",
              "    <tr>\n",
              "      <th>2016-06-07</th>\n",
              "      <td>2112.129883</td>\n",
              "      <td>107.461159</td>\n",
              "    </tr>\n",
              "    <tr>\n",
              "      <th>2016-06-08</th>\n",
              "      <td>2119.120117</td>\n",
              "      <td>107.646301</td>\n",
              "    </tr>\n",
              "    <tr>\n",
              "      <th>2016-06-09</th>\n",
              "      <td>2115.479980</td>\n",
              "      <td>108.245735</td>\n",
              "    </tr>\n",
              "    <tr>\n",
              "      <th>2016-06-10</th>\n",
              "      <td>2096.070068</td>\n",
              "      <td>107.866676</td>\n",
              "    </tr>\n",
              "    <tr>\n",
              "      <th>...</th>\n",
              "      <td>...</td>\n",
              "      <td>...</td>\n",
              "    </tr>\n",
              "    <tr>\n",
              "      <th>2021-05-27</th>\n",
              "      <td>4200.879883</td>\n",
              "      <td>233.570007</td>\n",
              "    </tr>\n",
              "    <tr>\n",
              "      <th>2021-05-28</th>\n",
              "      <td>4204.109863</td>\n",
              "      <td>233.889999</td>\n",
              "    </tr>\n",
              "    <tr>\n",
              "      <th>2021-06-01</th>\n",
              "      <td>4202.040039</td>\n",
              "      <td>233.240005</td>\n",
              "    </tr>\n",
              "    <tr>\n",
              "      <th>2021-06-02</th>\n",
              "      <td>4208.120117</td>\n",
              "      <td>233.779999</td>\n",
              "    </tr>\n",
              "    <tr>\n",
              "      <th>2021-06-03</th>\n",
              "      <td>4192.850098</td>\n",
              "      <td>232.449997</td>\n",
              "    </tr>\n",
              "  </tbody>\n",
              "</table>\n",
              "<p>1258 rows × 2 columns</p>\n",
              "</div>\n",
              "      <button class=\"colab-df-convert\" onclick=\"convertToInteractive('df-6b860dd8-ef7d-4a86-b7f3-5fcd93a92d81')\"\n",
              "              title=\"Convert this dataframe to an interactive table.\"\n",
              "              style=\"display:none;\">\n",
              "        \n",
              "  <svg xmlns=\"http://www.w3.org/2000/svg\" height=\"24px\"viewBox=\"0 0 24 24\"\n",
              "       width=\"24px\">\n",
              "    <path d=\"M0 0h24v24H0V0z\" fill=\"none\"/>\n",
              "    <path d=\"M18.56 5.44l.94 2.06.94-2.06 2.06-.94-2.06-.94-.94-2.06-.94 2.06-2.06.94zm-11 1L8.5 8.5l.94-2.06 2.06-.94-2.06-.94L8.5 2.5l-.94 2.06-2.06.94zm10 10l.94 2.06.94-2.06 2.06-.94-2.06-.94-.94-2.06-.94 2.06-2.06.94z\"/><path d=\"M17.41 7.96l-1.37-1.37c-.4-.4-.92-.59-1.43-.59-.52 0-1.04.2-1.43.59L10.3 9.45l-7.72 7.72c-.78.78-.78 2.05 0 2.83L4 21.41c.39.39.9.59 1.41.59.51 0 1.02-.2 1.41-.59l7.78-7.78 2.81-2.81c.8-.78.8-2.07 0-2.86zM5.41 20L4 18.59l7.72-7.72 1.47 1.35L5.41 20z\"/>\n",
              "  </svg>\n",
              "      </button>\n",
              "      \n",
              "  <style>\n",
              "    .colab-df-container {\n",
              "      display:flex;\n",
              "      flex-wrap:wrap;\n",
              "      gap: 12px;\n",
              "    }\n",
              "\n",
              "    .colab-df-convert {\n",
              "      background-color: #E8F0FE;\n",
              "      border: none;\n",
              "      border-radius: 50%;\n",
              "      cursor: pointer;\n",
              "      display: none;\n",
              "      fill: #1967D2;\n",
              "      height: 32px;\n",
              "      padding: 0 0 0 0;\n",
              "      width: 32px;\n",
              "    }\n",
              "\n",
              "    .colab-df-convert:hover {\n",
              "      background-color: #E2EBFA;\n",
              "      box-shadow: 0px 1px 2px rgba(60, 64, 67, 0.3), 0px 1px 3px 1px rgba(60, 64, 67, 0.15);\n",
              "      fill: #174EA6;\n",
              "    }\n",
              "\n",
              "    [theme=dark] .colab-df-convert {\n",
              "      background-color: #3B4455;\n",
              "      fill: #D2E3FC;\n",
              "    }\n",
              "\n",
              "    [theme=dark] .colab-df-convert:hover {\n",
              "      background-color: #434B5C;\n",
              "      box-shadow: 0px 1px 3px 1px rgba(0, 0, 0, 0.15);\n",
              "      filter: drop-shadow(0px 1px 2px rgba(0, 0, 0, 0.3));\n",
              "      fill: #FFFFFF;\n",
              "    }\n",
              "  </style>\n",
              "\n",
              "      <script>\n",
              "        const buttonEl =\n",
              "          document.querySelector('#df-6b860dd8-ef7d-4a86-b7f3-5fcd93a92d81 button.colab-df-convert');\n",
              "        buttonEl.style.display =\n",
              "          google.colab.kernel.accessAllowed ? 'block' : 'none';\n",
              "\n",
              "        async function convertToInteractive(key) {\n",
              "          const element = document.querySelector('#df-6b860dd8-ef7d-4a86-b7f3-5fcd93a92d81');\n",
              "          const dataTable =\n",
              "            await google.colab.kernel.invokeFunction('convertToInteractive',\n",
              "                                                     [key], {});\n",
              "          if (!dataTable) return;\n",
              "\n",
              "          const docLinkHtml = 'Like what you see? Visit the ' +\n",
              "            '<a target=\"_blank\" href=https://colab.research.google.com/notebooks/data_table.ipynb>data table notebook</a>'\n",
              "            + ' to learn more about interactive tables.';\n",
              "          element.innerHTML = '';\n",
              "          dataTable['output_type'] = 'display_data';\n",
              "          await google.colab.output.renderOutput(dataTable, element);\n",
              "          const docLink = document.createElement('div');\n",
              "          docLink.innerHTML = docLinkHtml;\n",
              "          element.appendChild(docLink);\n",
              "        }\n",
              "      </script>\n",
              "    </div>\n",
              "  </div>\n",
              "  "
            ],
            "text/plain": [
              "                  SP500         MCD\n",
              "Date                               \n",
              "2016-06-06  2109.409912  107.549301\n",
              "2016-06-07  2112.129883  107.461159\n",
              "2016-06-08  2119.120117  107.646301\n",
              "2016-06-09  2115.479980  108.245735\n",
              "2016-06-10  2096.070068  107.866676\n",
              "...                 ...         ...\n",
              "2021-05-27  4200.879883  233.570007\n",
              "2021-05-28  4204.109863  233.889999\n",
              "2021-06-01  4202.040039  233.240005\n",
              "2021-06-02  4208.120117  233.779999\n",
              "2021-06-03  4192.850098  232.449997\n",
              "\n",
              "[1258 rows x 2 columns]"
            ]
          },
          "execution_count": 6,
          "metadata": {},
          "output_type": "execute_result"
        }
      ],
      "source": [
        "df_price"
      ]
    },
    {
      "cell_type": "markdown",
      "metadata": {
        "id": "XKHMTYbdlbUo"
      },
      "source": [
        "## データの整理"
      ]
    },
    {
      "cell_type": "code",
      "execution_count": null,
      "metadata": {
        "colab": {
          "base_uri": "https://localhost:8080/",
          "height": 450
        },
        "id": "5ZnYPJeppYK-",
        "outputId": "d65f5f17-43bf-465a-94d3-e4d0982dfe13"
      },
      "outputs": [
        {
          "data": {
            "text/html": [
              "\n",
              "  <div id=\"df-fce4451d-a9e0-4f61-8246-0764268ca345\">\n",
              "    <div class=\"colab-df-container\">\n",
              "      <div>\n",
              "<style scoped>\n",
              "    .dataframe tbody tr th:only-of-type {\n",
              "        vertical-align: middle;\n",
              "    }\n",
              "\n",
              "    .dataframe tbody tr th {\n",
              "        vertical-align: top;\n",
              "    }\n",
              "\n",
              "    .dataframe thead th {\n",
              "        text-align: right;\n",
              "    }\n",
              "</style>\n",
              "<table border=\"1\" class=\"dataframe\">\n",
              "  <thead>\n",
              "    <tr style=\"text-align: right;\">\n",
              "      <th></th>\n",
              "      <th>SP500</th>\n",
              "      <th>MCD</th>\n",
              "    </tr>\n",
              "    <tr>\n",
              "      <th>Date</th>\n",
              "      <th></th>\n",
              "      <th></th>\n",
              "    </tr>\n",
              "  </thead>\n",
              "  <tbody>\n",
              "    <tr>\n",
              "      <th>2016-06-06</th>\n",
              "      <td>NaN</td>\n",
              "      <td>NaN</td>\n",
              "    </tr>\n",
              "    <tr>\n",
              "      <th>2016-06-07</th>\n",
              "      <td>0.001289</td>\n",
              "      <td>-0.000820</td>\n",
              "    </tr>\n",
              "    <tr>\n",
              "      <th>2016-06-08</th>\n",
              "      <td>0.003310</td>\n",
              "      <td>0.001723</td>\n",
              "    </tr>\n",
              "    <tr>\n",
              "      <th>2016-06-09</th>\n",
              "      <td>-0.001718</td>\n",
              "      <td>0.005569</td>\n",
              "    </tr>\n",
              "    <tr>\n",
              "      <th>2016-06-10</th>\n",
              "      <td>-0.009175</td>\n",
              "      <td>-0.003502</td>\n",
              "    </tr>\n",
              "    <tr>\n",
              "      <th>...</th>\n",
              "      <td>...</td>\n",
              "      <td>...</td>\n",
              "    </tr>\n",
              "    <tr>\n",
              "      <th>2021-05-27</th>\n",
              "      <td>0.001165</td>\n",
              "      <td>0.010803</td>\n",
              "    </tr>\n",
              "    <tr>\n",
              "      <th>2021-05-28</th>\n",
              "      <td>0.000769</td>\n",
              "      <td>0.001370</td>\n",
              "    </tr>\n",
              "    <tr>\n",
              "      <th>2021-06-01</th>\n",
              "      <td>-0.000492</td>\n",
              "      <td>-0.002779</td>\n",
              "    </tr>\n",
              "    <tr>\n",
              "      <th>2021-06-02</th>\n",
              "      <td>0.001447</td>\n",
              "      <td>0.002315</td>\n",
              "    </tr>\n",
              "    <tr>\n",
              "      <th>2021-06-03</th>\n",
              "      <td>-0.003629</td>\n",
              "      <td>-0.005689</td>\n",
              "    </tr>\n",
              "  </tbody>\n",
              "</table>\n",
              "<p>1258 rows × 2 columns</p>\n",
              "</div>\n",
              "      <button class=\"colab-df-convert\" onclick=\"convertToInteractive('df-fce4451d-a9e0-4f61-8246-0764268ca345')\"\n",
              "              title=\"Convert this dataframe to an interactive table.\"\n",
              "              style=\"display:none;\">\n",
              "        \n",
              "  <svg xmlns=\"http://www.w3.org/2000/svg\" height=\"24px\"viewBox=\"0 0 24 24\"\n",
              "       width=\"24px\">\n",
              "    <path d=\"M0 0h24v24H0V0z\" fill=\"none\"/>\n",
              "    <path d=\"M18.56 5.44l.94 2.06.94-2.06 2.06-.94-2.06-.94-.94-2.06-.94 2.06-2.06.94zm-11 1L8.5 8.5l.94-2.06 2.06-.94-2.06-.94L8.5 2.5l-.94 2.06-2.06.94zm10 10l.94 2.06.94-2.06 2.06-.94-2.06-.94-.94-2.06-.94 2.06-2.06.94z\"/><path d=\"M17.41 7.96l-1.37-1.37c-.4-.4-.92-.59-1.43-.59-.52 0-1.04.2-1.43.59L10.3 9.45l-7.72 7.72c-.78.78-.78 2.05 0 2.83L4 21.41c.39.39.9.59 1.41.59.51 0 1.02-.2 1.41-.59l7.78-7.78 2.81-2.81c.8-.78.8-2.07 0-2.86zM5.41 20L4 18.59l7.72-7.72 1.47 1.35L5.41 20z\"/>\n",
              "  </svg>\n",
              "      </button>\n",
              "      \n",
              "  <style>\n",
              "    .colab-df-container {\n",
              "      display:flex;\n",
              "      flex-wrap:wrap;\n",
              "      gap: 12px;\n",
              "    }\n",
              "\n",
              "    .colab-df-convert {\n",
              "      background-color: #E8F0FE;\n",
              "      border: none;\n",
              "      border-radius: 50%;\n",
              "      cursor: pointer;\n",
              "      display: none;\n",
              "      fill: #1967D2;\n",
              "      height: 32px;\n",
              "      padding: 0 0 0 0;\n",
              "      width: 32px;\n",
              "    }\n",
              "\n",
              "    .colab-df-convert:hover {\n",
              "      background-color: #E2EBFA;\n",
              "      box-shadow: 0px 1px 2px rgba(60, 64, 67, 0.3), 0px 1px 3px 1px rgba(60, 64, 67, 0.15);\n",
              "      fill: #174EA6;\n",
              "    }\n",
              "\n",
              "    [theme=dark] .colab-df-convert {\n",
              "      background-color: #3B4455;\n",
              "      fill: #D2E3FC;\n",
              "    }\n",
              "\n",
              "    [theme=dark] .colab-df-convert:hover {\n",
              "      background-color: #434B5C;\n",
              "      box-shadow: 0px 1px 3px 1px rgba(0, 0, 0, 0.15);\n",
              "      filter: drop-shadow(0px 1px 2px rgba(0, 0, 0, 0.3));\n",
              "      fill: #FFFFFF;\n",
              "    }\n",
              "  </style>\n",
              "\n",
              "      <script>\n",
              "        const buttonEl =\n",
              "          document.querySelector('#df-fce4451d-a9e0-4f61-8246-0764268ca345 button.colab-df-convert');\n",
              "        buttonEl.style.display =\n",
              "          google.colab.kernel.accessAllowed ? 'block' : 'none';\n",
              "\n",
              "        async function convertToInteractive(key) {\n",
              "          const element = document.querySelector('#df-fce4451d-a9e0-4f61-8246-0764268ca345');\n",
              "          const dataTable =\n",
              "            await google.colab.kernel.invokeFunction('convertToInteractive',\n",
              "                                                     [key], {});\n",
              "          if (!dataTable) return;\n",
              "\n",
              "          const docLinkHtml = 'Like what you see? Visit the ' +\n",
              "            '<a target=\"_blank\" href=https://colab.research.google.com/notebooks/data_table.ipynb>data table notebook</a>'\n",
              "            + ' to learn more about interactive tables.';\n",
              "          element.innerHTML = '';\n",
              "          dataTable['output_type'] = 'display_data';\n",
              "          await google.colab.output.renderOutput(dataTable, element);\n",
              "          const docLink = document.createElement('div');\n",
              "          docLink.innerHTML = docLinkHtml;\n",
              "          element.appendChild(docLink);\n",
              "        }\n",
              "      </script>\n",
              "    </div>\n",
              "  </div>\n",
              "  "
            ],
            "text/plain": [
              "               SP500       MCD\n",
              "Date                          \n",
              "2016-06-06       NaN       NaN\n",
              "2016-06-07  0.001289 -0.000820\n",
              "2016-06-08  0.003310  0.001723\n",
              "2016-06-09 -0.001718  0.005569\n",
              "2016-06-10 -0.009175 -0.003502\n",
              "...              ...       ...\n",
              "2021-05-27  0.001165  0.010803\n",
              "2021-05-28  0.000769  0.001370\n",
              "2021-06-01 -0.000492 -0.002779\n",
              "2021-06-02  0.001447  0.002315\n",
              "2021-06-03 -0.003629 -0.005689\n",
              "\n",
              "[1258 rows x 2 columns]"
            ]
          },
          "execution_count": 7,
          "metadata": {},
          "output_type": "execute_result"
        }
      ],
      "source": [
        "df_rate = df_price.pct_change()\n",
        "df_rate"
      ]
    },
    {
      "cell_type": "code",
      "execution_count": null,
      "metadata": {
        "colab": {
          "base_uri": "https://localhost:8080/",
          "height": 450
        },
        "id": "W3r2SZjopYK-",
        "outputId": "03d2e0e1-1a00-4849-efa8-b6c96458ad7f"
      },
      "outputs": [
        {
          "data": {
            "text/html": [
              "\n",
              "  <div id=\"df-f71d76ac-a363-471f-81b1-77f89c355ae9\">\n",
              "    <div class=\"colab-df-container\">\n",
              "      <div>\n",
              "<style scoped>\n",
              "    .dataframe tbody tr th:only-of-type {\n",
              "        vertical-align: middle;\n",
              "    }\n",
              "\n",
              "    .dataframe tbody tr th {\n",
              "        vertical-align: top;\n",
              "    }\n",
              "\n",
              "    .dataframe thead th {\n",
              "        text-align: right;\n",
              "    }\n",
              "</style>\n",
              "<table border=\"1\" class=\"dataframe\">\n",
              "  <thead>\n",
              "    <tr style=\"text-align: right;\">\n",
              "      <th></th>\n",
              "      <th>SP500</th>\n",
              "      <th>MCD</th>\n",
              "      <th>^TNX</th>\n",
              "    </tr>\n",
              "    <tr>\n",
              "      <th>Date</th>\n",
              "      <th></th>\n",
              "      <th></th>\n",
              "      <th></th>\n",
              "    </tr>\n",
              "  </thead>\n",
              "  <tbody>\n",
              "    <tr>\n",
              "      <th>2016-06-06</th>\n",
              "      <td>NaN</td>\n",
              "      <td>NaN</td>\n",
              "      <td>1.723</td>\n",
              "    </tr>\n",
              "    <tr>\n",
              "      <th>2016-06-07</th>\n",
              "      <td>0.001289</td>\n",
              "      <td>-0.000820</td>\n",
              "      <td>1.713</td>\n",
              "    </tr>\n",
              "    <tr>\n",
              "      <th>2016-06-08</th>\n",
              "      <td>0.003310</td>\n",
              "      <td>0.001723</td>\n",
              "      <td>1.706</td>\n",
              "    </tr>\n",
              "    <tr>\n",
              "      <th>2016-06-09</th>\n",
              "      <td>-0.001718</td>\n",
              "      <td>0.005569</td>\n",
              "      <td>1.680</td>\n",
              "    </tr>\n",
              "    <tr>\n",
              "      <th>2016-06-10</th>\n",
              "      <td>-0.009175</td>\n",
              "      <td>-0.003502</td>\n",
              "      <td>1.639</td>\n",
              "    </tr>\n",
              "    <tr>\n",
              "      <th>...</th>\n",
              "      <td>...</td>\n",
              "      <td>...</td>\n",
              "      <td>...</td>\n",
              "    </tr>\n",
              "    <tr>\n",
              "      <th>2021-05-27</th>\n",
              "      <td>0.001165</td>\n",
              "      <td>0.010803</td>\n",
              "      <td>1.610</td>\n",
              "    </tr>\n",
              "    <tr>\n",
              "      <th>2021-05-28</th>\n",
              "      <td>0.000769</td>\n",
              "      <td>0.001370</td>\n",
              "      <td>1.581</td>\n",
              "    </tr>\n",
              "    <tr>\n",
              "      <th>2021-06-01</th>\n",
              "      <td>-0.000492</td>\n",
              "      <td>-0.002779</td>\n",
              "      <td>1.615</td>\n",
              "    </tr>\n",
              "    <tr>\n",
              "      <th>2021-06-02</th>\n",
              "      <td>0.001447</td>\n",
              "      <td>0.002315</td>\n",
              "      <td>1.591</td>\n",
              "    </tr>\n",
              "    <tr>\n",
              "      <th>2021-06-03</th>\n",
              "      <td>-0.003629</td>\n",
              "      <td>-0.005689</td>\n",
              "      <td>1.625</td>\n",
              "    </tr>\n",
              "  </tbody>\n",
              "</table>\n",
              "<p>1246 rows × 3 columns</p>\n",
              "</div>\n",
              "      <button class=\"colab-df-convert\" onclick=\"convertToInteractive('df-f71d76ac-a363-471f-81b1-77f89c355ae9')\"\n",
              "              title=\"Convert this dataframe to an interactive table.\"\n",
              "              style=\"display:none;\">\n",
              "        \n",
              "  <svg xmlns=\"http://www.w3.org/2000/svg\" height=\"24px\"viewBox=\"0 0 24 24\"\n",
              "       width=\"24px\">\n",
              "    <path d=\"M0 0h24v24H0V0z\" fill=\"none\"/>\n",
              "    <path d=\"M18.56 5.44l.94 2.06.94-2.06 2.06-.94-2.06-.94-.94-2.06-.94 2.06-2.06.94zm-11 1L8.5 8.5l.94-2.06 2.06-.94-2.06-.94L8.5 2.5l-.94 2.06-2.06.94zm10 10l.94 2.06.94-2.06 2.06-.94-2.06-.94-.94-2.06-.94 2.06-2.06.94z\"/><path d=\"M17.41 7.96l-1.37-1.37c-.4-.4-.92-.59-1.43-.59-.52 0-1.04.2-1.43.59L10.3 9.45l-7.72 7.72c-.78.78-.78 2.05 0 2.83L4 21.41c.39.39.9.59 1.41.59.51 0 1.02-.2 1.41-.59l7.78-7.78 2.81-2.81c.8-.78.8-2.07 0-2.86zM5.41 20L4 18.59l7.72-7.72 1.47 1.35L5.41 20z\"/>\n",
              "  </svg>\n",
              "      </button>\n",
              "      \n",
              "  <style>\n",
              "    .colab-df-container {\n",
              "      display:flex;\n",
              "      flex-wrap:wrap;\n",
              "      gap: 12px;\n",
              "    }\n",
              "\n",
              "    .colab-df-convert {\n",
              "      background-color: #E8F0FE;\n",
              "      border: none;\n",
              "      border-radius: 50%;\n",
              "      cursor: pointer;\n",
              "      display: none;\n",
              "      fill: #1967D2;\n",
              "      height: 32px;\n",
              "      padding: 0 0 0 0;\n",
              "      width: 32px;\n",
              "    }\n",
              "\n",
              "    .colab-df-convert:hover {\n",
              "      background-color: #E2EBFA;\n",
              "      box-shadow: 0px 1px 2px rgba(60, 64, 67, 0.3), 0px 1px 3px 1px rgba(60, 64, 67, 0.15);\n",
              "      fill: #174EA6;\n",
              "    }\n",
              "\n",
              "    [theme=dark] .colab-df-convert {\n",
              "      background-color: #3B4455;\n",
              "      fill: #D2E3FC;\n",
              "    }\n",
              "\n",
              "    [theme=dark] .colab-df-convert:hover {\n",
              "      background-color: #434B5C;\n",
              "      box-shadow: 0px 1px 3px 1px rgba(0, 0, 0, 0.15);\n",
              "      filter: drop-shadow(0px 1px 2px rgba(0, 0, 0, 0.3));\n",
              "      fill: #FFFFFF;\n",
              "    }\n",
              "  </style>\n",
              "\n",
              "      <script>\n",
              "        const buttonEl =\n",
              "          document.querySelector('#df-f71d76ac-a363-471f-81b1-77f89c355ae9 button.colab-df-convert');\n",
              "        buttonEl.style.display =\n",
              "          google.colab.kernel.accessAllowed ? 'block' : 'none';\n",
              "\n",
              "        async function convertToInteractive(key) {\n",
              "          const element = document.querySelector('#df-f71d76ac-a363-471f-81b1-77f89c355ae9');\n",
              "          const dataTable =\n",
              "            await google.colab.kernel.invokeFunction('convertToInteractive',\n",
              "                                                     [key], {});\n",
              "          if (!dataTable) return;\n",
              "\n",
              "          const docLinkHtml = 'Like what you see? Visit the ' +\n",
              "            '<a target=\"_blank\" href=https://colab.research.google.com/notebooks/data_table.ipynb>data table notebook</a>'\n",
              "            + ' to learn more about interactive tables.';\n",
              "          element.innerHTML = '';\n",
              "          dataTable['output_type'] = 'display_data';\n",
              "          await google.colab.output.renderOutput(dataTable, element);\n",
              "          const docLink = document.createElement('div');\n",
              "          docLink.innerHTML = docLinkHtml;\n",
              "          element.appendChild(docLink);\n",
              "        }\n",
              "      </script>\n",
              "    </div>\n",
              "  </div>\n",
              "  "
            ],
            "text/plain": [
              "               SP500       MCD   ^TNX\n",
              "Date                                 \n",
              "2016-06-06       NaN       NaN  1.723\n",
              "2016-06-07  0.001289 -0.000820  1.713\n",
              "2016-06-08  0.003310  0.001723  1.706\n",
              "2016-06-09 -0.001718  0.005569  1.680\n",
              "2016-06-10 -0.009175 -0.003502  1.639\n",
              "...              ...       ...    ...\n",
              "2021-05-27  0.001165  0.010803  1.610\n",
              "2021-05-28  0.000769  0.001370  1.581\n",
              "2021-06-01 -0.000492 -0.002779  1.615\n",
              "2021-06-02  0.001447  0.002315  1.591\n",
              "2021-06-03 -0.003629 -0.005689  1.625\n",
              "\n",
              "[1246 rows x 3 columns]"
            ]
          },
          "execution_count": 8,
          "metadata": {},
          "output_type": "execute_result"
        }
      ],
      "source": [
        "df_rate = pd.concat([df_rate,df_interest_rate['Adj Close']],axis = 1,join = 'inner')\n",
        "df_rate.columns = ['SP500','MCD','^TNX']\n",
        "df_rate\n"
      ]
    },
    {
      "cell_type": "code",
      "execution_count": null,
      "metadata": {
        "colab": {
          "base_uri": "https://localhost:8080/",
          "height": 450
        },
        "id": "jiSXlrv8pYK_",
        "outputId": "b23822b9-51d1-402a-8424-f47ffe414bbe"
      },
      "outputs": [
        {
          "data": {
            "text/html": [
              "\n",
              "  <div id=\"df-b2b61ad4-9812-43cc-a150-3e572dd39300\">\n",
              "    <div class=\"colab-df-container\">\n",
              "      <div>\n",
              "<style scoped>\n",
              "    .dataframe tbody tr th:only-of-type {\n",
              "        vertical-align: middle;\n",
              "    }\n",
              "\n",
              "    .dataframe tbody tr th {\n",
              "        vertical-align: top;\n",
              "    }\n",
              "\n",
              "    .dataframe thead th {\n",
              "        text-align: right;\n",
              "    }\n",
              "</style>\n",
              "<table border=\"1\" class=\"dataframe\">\n",
              "  <thead>\n",
              "    <tr style=\"text-align: right;\">\n",
              "      <th></th>\n",
              "      <th>SP500</th>\n",
              "      <th>MCD</th>\n",
              "    </tr>\n",
              "    <tr>\n",
              "      <th>Date</th>\n",
              "      <th></th>\n",
              "      <th></th>\n",
              "    </tr>\n",
              "  </thead>\n",
              "  <tbody>\n",
              "    <tr>\n",
              "      <th>2016-06-06</th>\n",
              "      <td>NaN</td>\n",
              "      <td>NaN</td>\n",
              "    </tr>\n",
              "    <tr>\n",
              "      <th>2016-06-07</th>\n",
              "      <td>0.001222</td>\n",
              "      <td>-0.000887</td>\n",
              "    </tr>\n",
              "    <tr>\n",
              "      <th>2016-06-08</th>\n",
              "      <td>0.003243</td>\n",
              "      <td>0.001656</td>\n",
              "    </tr>\n",
              "    <tr>\n",
              "      <th>2016-06-09</th>\n",
              "      <td>-0.001784</td>\n",
              "      <td>0.005503</td>\n",
              "    </tr>\n",
              "    <tr>\n",
              "      <th>2016-06-10</th>\n",
              "      <td>-0.009239</td>\n",
              "      <td>-0.003566</td>\n",
              "    </tr>\n",
              "    <tr>\n",
              "      <th>...</th>\n",
              "      <td>...</td>\n",
              "      <td>...</td>\n",
              "    </tr>\n",
              "    <tr>\n",
              "      <th>2021-05-27</th>\n",
              "      <td>0.001102</td>\n",
              "      <td>0.010740</td>\n",
              "    </tr>\n",
              "    <tr>\n",
              "      <th>2021-05-28</th>\n",
              "      <td>0.000707</td>\n",
              "      <td>0.001308</td>\n",
              "    </tr>\n",
              "    <tr>\n",
              "      <th>2021-06-01</th>\n",
              "      <td>-0.000556</td>\n",
              "      <td>-0.002842</td>\n",
              "    </tr>\n",
              "    <tr>\n",
              "      <th>2021-06-02</th>\n",
              "      <td>0.001385</td>\n",
              "      <td>0.002253</td>\n",
              "    </tr>\n",
              "    <tr>\n",
              "      <th>2021-06-03</th>\n",
              "      <td>-0.003692</td>\n",
              "      <td>-0.005753</td>\n",
              "    </tr>\n",
              "  </tbody>\n",
              "</table>\n",
              "<p>1246 rows × 2 columns</p>\n",
              "</div>\n",
              "      <button class=\"colab-df-convert\" onclick=\"convertToInteractive('df-b2b61ad4-9812-43cc-a150-3e572dd39300')\"\n",
              "              title=\"Convert this dataframe to an interactive table.\"\n",
              "              style=\"display:none;\">\n",
              "        \n",
              "  <svg xmlns=\"http://www.w3.org/2000/svg\" height=\"24px\"viewBox=\"0 0 24 24\"\n",
              "       width=\"24px\">\n",
              "    <path d=\"M0 0h24v24H0V0z\" fill=\"none\"/>\n",
              "    <path d=\"M18.56 5.44l.94 2.06.94-2.06 2.06-.94-2.06-.94-.94-2.06-.94 2.06-2.06.94zm-11 1L8.5 8.5l.94-2.06 2.06-.94-2.06-.94L8.5 2.5l-.94 2.06-2.06.94zm10 10l.94 2.06.94-2.06 2.06-.94-2.06-.94-.94-2.06-.94 2.06-2.06.94z\"/><path d=\"M17.41 7.96l-1.37-1.37c-.4-.4-.92-.59-1.43-.59-.52 0-1.04.2-1.43.59L10.3 9.45l-7.72 7.72c-.78.78-.78 2.05 0 2.83L4 21.41c.39.39.9.59 1.41.59.51 0 1.02-.2 1.41-.59l7.78-7.78 2.81-2.81c.8-.78.8-2.07 0-2.86zM5.41 20L4 18.59l7.72-7.72 1.47 1.35L5.41 20z\"/>\n",
              "  </svg>\n",
              "      </button>\n",
              "      \n",
              "  <style>\n",
              "    .colab-df-container {\n",
              "      display:flex;\n",
              "      flex-wrap:wrap;\n",
              "      gap: 12px;\n",
              "    }\n",
              "\n",
              "    .colab-df-convert {\n",
              "      background-color: #E8F0FE;\n",
              "      border: none;\n",
              "      border-radius: 50%;\n",
              "      cursor: pointer;\n",
              "      display: none;\n",
              "      fill: #1967D2;\n",
              "      height: 32px;\n",
              "      padding: 0 0 0 0;\n",
              "      width: 32px;\n",
              "    }\n",
              "\n",
              "    .colab-df-convert:hover {\n",
              "      background-color: #E2EBFA;\n",
              "      box-shadow: 0px 1px 2px rgba(60, 64, 67, 0.3), 0px 1px 3px 1px rgba(60, 64, 67, 0.15);\n",
              "      fill: #174EA6;\n",
              "    }\n",
              "\n",
              "    [theme=dark] .colab-df-convert {\n",
              "      background-color: #3B4455;\n",
              "      fill: #D2E3FC;\n",
              "    }\n",
              "\n",
              "    [theme=dark] .colab-df-convert:hover {\n",
              "      background-color: #434B5C;\n",
              "      box-shadow: 0px 1px 3px 1px rgba(0, 0, 0, 0.15);\n",
              "      filter: drop-shadow(0px 1px 2px rgba(0, 0, 0, 0.3));\n",
              "      fill: #FFFFFF;\n",
              "    }\n",
              "  </style>\n",
              "\n",
              "      <script>\n",
              "        const buttonEl =\n",
              "          document.querySelector('#df-b2b61ad4-9812-43cc-a150-3e572dd39300 button.colab-df-convert');\n",
              "        buttonEl.style.display =\n",
              "          google.colab.kernel.accessAllowed ? 'block' : 'none';\n",
              "\n",
              "        async function convertToInteractive(key) {\n",
              "          const element = document.querySelector('#df-b2b61ad4-9812-43cc-a150-3e572dd39300');\n",
              "          const dataTable =\n",
              "            await google.colab.kernel.invokeFunction('convertToInteractive',\n",
              "                                                     [key], {});\n",
              "          if (!dataTable) return;\n",
              "\n",
              "          const docLinkHtml = 'Like what you see? Visit the ' +\n",
              "            '<a target=\"_blank\" href=https://colab.research.google.com/notebooks/data_table.ipynb>data table notebook</a>'\n",
              "            + ' to learn more about interactive tables.';\n",
              "          element.innerHTML = '';\n",
              "          dataTable['output_type'] = 'display_data';\n",
              "          await google.colab.output.renderOutput(dataTable, element);\n",
              "          const docLink = document.createElement('div');\n",
              "          docLink.innerHTML = docLinkHtml;\n",
              "          element.appendChild(docLink);\n",
              "        }\n",
              "      </script>\n",
              "    </div>\n",
              "  </div>\n",
              "  "
            ],
            "text/plain": [
              "               SP500       MCD\n",
              "Date                          \n",
              "2016-06-06       NaN       NaN\n",
              "2016-06-07  0.001222 -0.000887\n",
              "2016-06-08  0.003243  0.001656\n",
              "2016-06-09 -0.001784  0.005503\n",
              "2016-06-10 -0.009239 -0.003566\n",
              "...              ...       ...\n",
              "2021-05-27  0.001102  0.010740\n",
              "2021-05-28  0.000707  0.001308\n",
              "2021-06-01 -0.000556 -0.002842\n",
              "2021-06-02  0.001385  0.002253\n",
              "2021-06-03 -0.003692 -0.005753\n",
              "\n",
              "[1246 rows x 2 columns]"
            ]
          },
          "execution_count": 9,
          "metadata": {},
          "output_type": "execute_result"
        }
      ],
      "source": [
        "df_rp = pd.DataFrame() # rp = risk premia\n",
        "df_rp['SP500'] = df_rate['SP500'] - df_rate['^TNX']*0.01/255\n",
        "df_rp['MCD'] = df_rate['MCD'] - df_rate['^TNX']*0.01/255\n",
        "df_rp"
      ]
    },
    {
      "cell_type": "code",
      "execution_count": null,
      "metadata": {
        "colab": {
          "base_uri": "https://localhost:8080/",
          "height": 450
        },
        "id": "IqrIR0_wpYK_",
        "outputId": "671e0270-ebb9-431b-a6de-c7dbf49bfc08"
      },
      "outputs": [
        {
          "data": {
            "text/html": [
              "\n",
              "  <div id=\"df-24b90d82-9c5a-48c2-9915-14dacf401dbd\">\n",
              "    <div class=\"colab-df-container\">\n",
              "      <div>\n",
              "<style scoped>\n",
              "    .dataframe tbody tr th:only-of-type {\n",
              "        vertical-align: middle;\n",
              "    }\n",
              "\n",
              "    .dataframe tbody tr th {\n",
              "        vertical-align: top;\n",
              "    }\n",
              "\n",
              "    .dataframe thead th {\n",
              "        text-align: right;\n",
              "    }\n",
              "</style>\n",
              "<table border=\"1\" class=\"dataframe\">\n",
              "  <thead>\n",
              "    <tr style=\"text-align: right;\">\n",
              "      <th></th>\n",
              "      <th>SP500</th>\n",
              "      <th>MCD</th>\n",
              "    </tr>\n",
              "    <tr>\n",
              "      <th>Date</th>\n",
              "      <th></th>\n",
              "      <th></th>\n",
              "    </tr>\n",
              "  </thead>\n",
              "  <tbody>\n",
              "    <tr>\n",
              "      <th>2016-06-07</th>\n",
              "      <td>0.001222</td>\n",
              "      <td>-0.000887</td>\n",
              "    </tr>\n",
              "    <tr>\n",
              "      <th>2016-06-08</th>\n",
              "      <td>0.003243</td>\n",
              "      <td>0.001656</td>\n",
              "    </tr>\n",
              "    <tr>\n",
              "      <th>2016-06-09</th>\n",
              "      <td>-0.001784</td>\n",
              "      <td>0.005503</td>\n",
              "    </tr>\n",
              "    <tr>\n",
              "      <th>2016-06-10</th>\n",
              "      <td>-0.009239</td>\n",
              "      <td>-0.003566</td>\n",
              "    </tr>\n",
              "    <tr>\n",
              "      <th>2016-06-13</th>\n",
              "      <td>-0.008179</td>\n",
              "      <td>0.005085</td>\n",
              "    </tr>\n",
              "    <tr>\n",
              "      <th>...</th>\n",
              "      <td>...</td>\n",
              "      <td>...</td>\n",
              "    </tr>\n",
              "    <tr>\n",
              "      <th>2021-05-27</th>\n",
              "      <td>0.001102</td>\n",
              "      <td>0.010740</td>\n",
              "    </tr>\n",
              "    <tr>\n",
              "      <th>2021-05-28</th>\n",
              "      <td>0.000707</td>\n",
              "      <td>0.001308</td>\n",
              "    </tr>\n",
              "    <tr>\n",
              "      <th>2021-06-01</th>\n",
              "      <td>-0.000556</td>\n",
              "      <td>-0.002842</td>\n",
              "    </tr>\n",
              "    <tr>\n",
              "      <th>2021-06-02</th>\n",
              "      <td>0.001385</td>\n",
              "      <td>0.002253</td>\n",
              "    </tr>\n",
              "    <tr>\n",
              "      <th>2021-06-03</th>\n",
              "      <td>-0.003692</td>\n",
              "      <td>-0.005753</td>\n",
              "    </tr>\n",
              "  </tbody>\n",
              "</table>\n",
              "<p>1245 rows × 2 columns</p>\n",
              "</div>\n",
              "      <button class=\"colab-df-convert\" onclick=\"convertToInteractive('df-24b90d82-9c5a-48c2-9915-14dacf401dbd')\"\n",
              "              title=\"Convert this dataframe to an interactive table.\"\n",
              "              style=\"display:none;\">\n",
              "        \n",
              "  <svg xmlns=\"http://www.w3.org/2000/svg\" height=\"24px\"viewBox=\"0 0 24 24\"\n",
              "       width=\"24px\">\n",
              "    <path d=\"M0 0h24v24H0V0z\" fill=\"none\"/>\n",
              "    <path d=\"M18.56 5.44l.94 2.06.94-2.06 2.06-.94-2.06-.94-.94-2.06-.94 2.06-2.06.94zm-11 1L8.5 8.5l.94-2.06 2.06-.94-2.06-.94L8.5 2.5l-.94 2.06-2.06.94zm10 10l.94 2.06.94-2.06 2.06-.94-2.06-.94-.94-2.06-.94 2.06-2.06.94z\"/><path d=\"M17.41 7.96l-1.37-1.37c-.4-.4-.92-.59-1.43-.59-.52 0-1.04.2-1.43.59L10.3 9.45l-7.72 7.72c-.78.78-.78 2.05 0 2.83L4 21.41c.39.39.9.59 1.41.59.51 0 1.02-.2 1.41-.59l7.78-7.78 2.81-2.81c.8-.78.8-2.07 0-2.86zM5.41 20L4 18.59l7.72-7.72 1.47 1.35L5.41 20z\"/>\n",
              "  </svg>\n",
              "      </button>\n",
              "      \n",
              "  <style>\n",
              "    .colab-df-container {\n",
              "      display:flex;\n",
              "      flex-wrap:wrap;\n",
              "      gap: 12px;\n",
              "    }\n",
              "\n",
              "    .colab-df-convert {\n",
              "      background-color: #E8F0FE;\n",
              "      border: none;\n",
              "      border-radius: 50%;\n",
              "      cursor: pointer;\n",
              "      display: none;\n",
              "      fill: #1967D2;\n",
              "      height: 32px;\n",
              "      padding: 0 0 0 0;\n",
              "      width: 32px;\n",
              "    }\n",
              "\n",
              "    .colab-df-convert:hover {\n",
              "      background-color: #E2EBFA;\n",
              "      box-shadow: 0px 1px 2px rgba(60, 64, 67, 0.3), 0px 1px 3px 1px rgba(60, 64, 67, 0.15);\n",
              "      fill: #174EA6;\n",
              "    }\n",
              "\n",
              "    [theme=dark] .colab-df-convert {\n",
              "      background-color: #3B4455;\n",
              "      fill: #D2E3FC;\n",
              "    }\n",
              "\n",
              "    [theme=dark] .colab-df-convert:hover {\n",
              "      background-color: #434B5C;\n",
              "      box-shadow: 0px 1px 3px 1px rgba(0, 0, 0, 0.15);\n",
              "      filter: drop-shadow(0px 1px 2px rgba(0, 0, 0, 0.3));\n",
              "      fill: #FFFFFF;\n",
              "    }\n",
              "  </style>\n",
              "\n",
              "      <script>\n",
              "        const buttonEl =\n",
              "          document.querySelector('#df-24b90d82-9c5a-48c2-9915-14dacf401dbd button.colab-df-convert');\n",
              "        buttonEl.style.display =\n",
              "          google.colab.kernel.accessAllowed ? 'block' : 'none';\n",
              "\n",
              "        async function convertToInteractive(key) {\n",
              "          const element = document.querySelector('#df-24b90d82-9c5a-48c2-9915-14dacf401dbd');\n",
              "          const dataTable =\n",
              "            await google.colab.kernel.invokeFunction('convertToInteractive',\n",
              "                                                     [key], {});\n",
              "          if (!dataTable) return;\n",
              "\n",
              "          const docLinkHtml = 'Like what you see? Visit the ' +\n",
              "            '<a target=\"_blank\" href=https://colab.research.google.com/notebooks/data_table.ipynb>data table notebook</a>'\n",
              "            + ' to learn more about interactive tables.';\n",
              "          element.innerHTML = '';\n",
              "          dataTable['output_type'] = 'display_data';\n",
              "          await google.colab.output.renderOutput(dataTable, element);\n",
              "          const docLink = document.createElement('div');\n",
              "          docLink.innerHTML = docLinkHtml;\n",
              "          element.appendChild(docLink);\n",
              "        }\n",
              "      </script>\n",
              "    </div>\n",
              "  </div>\n",
              "  "
            ],
            "text/plain": [
              "               SP500       MCD\n",
              "Date                          \n",
              "2016-06-07  0.001222 -0.000887\n",
              "2016-06-08  0.003243  0.001656\n",
              "2016-06-09 -0.001784  0.005503\n",
              "2016-06-10 -0.009239 -0.003566\n",
              "2016-06-13 -0.008179  0.005085\n",
              "...              ...       ...\n",
              "2021-05-27  0.001102  0.010740\n",
              "2021-05-28  0.000707  0.001308\n",
              "2021-06-01 -0.000556 -0.002842\n",
              "2021-06-02  0.001385  0.002253\n",
              "2021-06-03 -0.003692 -0.005753\n",
              "\n",
              "[1245 rows x 2 columns]"
            ]
          },
          "execution_count": 10,
          "metadata": {},
          "output_type": "execute_result"
        }
      ],
      "source": [
        "df_rp = df_rp.dropna()\n",
        "df_rp"
      ]
    },
    {
      "cell_type": "code",
      "execution_count": null,
      "metadata": {
        "colab": {
          "base_uri": "https://localhost:8080/",
          "height": 296
        },
        "id": "4-jXvW65pYK_",
        "outputId": "df8ac925-a37a-4d93-b8a1-f818387b3d80"
      },
      "outputs": [
        {
          "data": {
            "text/plain": [
              "Text(0, 0.5, 'MCD')"
            ]
          },
          "execution_count": 11,
          "metadata": {},
          "output_type": "execute_result"
        },
        {
          "data": {
            "image/png": "[encoded data removed]",
            "text/plain": [
              "<Figure size 432x288 with 1 Axes>"
            ]
          },
          "metadata": {
            "needs_background": "light"
          },
          "output_type": "display_data"
        }
      ],
      "source": [
        "import matplotlib.pyplot as plt\n",
        "\n",
        "\n",
        "plt.scatter(df_rp['SP500'],df_rp['MCD'],color='black')\n",
        "plt.xlabel('SP500')\n",
        "plt.ylabel('MCD')"
      ]
    },
    {
      "cell_type": "code",
      "execution_count": null,
      "metadata": {
        "id": "nnDtFYDWpYLA"
      },
      "outputs": [],
      "source": [
        "from sklearn.model_selection import train_test_split\n",
        "\n",
        "val_size = 0.2\n",
        "\n",
        "df_train,df_val = train_test_split(df_rp,test_size = val_size,shuffle = False)"
      ]
    },
    {
      "cell_type": "code",
      "execution_count": null,
      "metadata": {
        "id": "ySed7kHepYLA"
      },
      "outputs": [],
      "source": [
        "X_train = df_train.sort_values('SP500')['SP500']\n",
        "X_val = df_val.sort_values('SP500')['SP500']\n",
        "\n",
        "y_train = df_train.sort_values('SP500')['MCD']\n",
        "y_val = df_val.sort_values('SP500')['MCD']"
      ]
    },
    {
      "cell_type": "markdown",
      "metadata": {
        "id": "obKsFWdHpYLB"
      },
      "source": [
        "### パラメータ推定"
      ]
    },
    {
      "cell_type": "code",
      "execution_count": null,
      "metadata": {
        "id": "pJSIaMyTpYLB"
      },
      "outputs": [],
      "source": [
        "from sklearn import linear_model"
      ]
    },
    {
      "cell_type": "code",
      "execution_count": null,
      "metadata": {
        "id": "dlE5xXw4pYLB"
      },
      "outputs": [],
      "source": [
        "reg = linear_model.LinearRegression()"
      ]
    },
    {
      "cell_type": "code",
      "execution_count": null,
      "metadata": {
        "id": "9Y2zZHjvpYLB"
      },
      "outputs": [],
      "source": [
        "reg.fit(X_train.values.reshape(-1,1),y_train.values)\n",
        "pred_train_1 = reg.predict(X_train.values.reshape(-1,1))"
      ]
    },
    {
      "cell_type": "code",
      "execution_count": null,
      "metadata": {
        "colab": {
          "base_uri": "https://localhost:8080/"
        },
        "id": "sPMVV4jYpYLC",
        "outputId": "9ff3d3cd-aa6b-4b7d-8b23-af5db991f3d8"
      },
      "outputs": [
        {
          "name": "stdout",
          "output_type": "stream",
          "text": [
            "0.00026777831694420584\n",
            "[0.82544637]\n"
          ]
        }
      ],
      "source": [
        "print(reg.intercept_)\n",
        "print(reg.coef_)\n"
      ]
    },
    {
      "cell_type": "code",
      "execution_count": null,
      "metadata": {
        "id": "JoASbGdPpYLC"
      },
      "outputs": [],
      "source": [
        "reg_0 = linear_model.LinearRegression(fit_intercept = False)\n",
        "reg_0.fit(X_train.values.reshape(-1,1),y_train)\n",
        "pred_train_0 = reg_0.predict(X_train.values.reshape(-1,1))"
      ]
    },
    {
      "cell_type": "code",
      "execution_count": null,
      "metadata": {
        "colab": {
          "base_uri": "https://localhost:8080/"
        },
        "id": "YnYga59npYLC",
        "outputId": "ad6cc0d9-8c21-4fbc-d293-e71879401526"
      },
      "outputs": [
        {
          "name": "stdout",
          "output_type": "stream",
          "text": [
            "0.0\n",
            "[0.8261595]\n"
          ]
        }
      ],
      "source": [
        "print(reg_0.intercept_)\n",
        "print(reg_0.coef_)"
      ]
    },
    {
      "cell_type": "code",
      "execution_count": null,
      "metadata": {
        "colab": {
          "base_uri": "https://localhost:8080/",
          "height": 296
        },
        "id": "ihcVmUs7pYLD",
        "outputId": "dde8a0e6-c44b-459d-bc5f-85a2340cd94f"
      },
      "outputs": [
        {
          "data": {
            "text/plain": [
              "Text(0, 0.5, 'MCD')"
            ]
          },
          "execution_count": 20,
          "metadata": {},
          "output_type": "execute_result"
        },
        {
          "data": {
            "image/png": "[encoded data removed]",
            "text/plain": [
              "<Figure size 432x288 with 1 Axes>"
            ]
          },
          "metadata": {
            "needs_background": "light"
          },
          "output_type": "display_data"
        }
      ],
      "source": [
        "plt.plot(X_train,pred_train_1,color='black')\n",
        "plt.plot(X_train,pred_train_0,color='black',linestyle='dashed')\n",
        "plt.scatter(X_train,y_train,color='black')\n",
        "plt.xlabel('SP500')\n",
        "plt.ylabel(\"MCD\")"
      ]
    },
    {
      "cell_type": "code",
      "execution_count": null,
      "metadata": {
        "colab": {
          "base_uri": "https://localhost:8080/"
        },
        "id": "ZCfcGiO3pYLD",
        "outputId": "9ed27166-3b95-437b-9e5e-9c9503676f70"
      },
      "outputs": [
        {
          "name": "stdout",
          "output_type": "stream",
          "text": [
            "0.0001307262339236507\n",
            "0.00013065460681415818\n"
          ]
        }
      ],
      "source": [
        "from sklearn.metrics import mean_squared_error\n",
        "\n",
        "MSE0 = mean_squared_error(pred_train_0,y_train)\n",
        "MSE1 = mean_squared_error(pred_train_1,y_train)\n",
        "\n",
        "print(MSE0)\n",
        "print(MSE1)\n"
      ]
    },
    {
      "cell_type": "code",
      "execution_count": null,
      "metadata": {
        "id": "iIeh3UK7pYLD"
      },
      "outputs": [],
      "source": [
        "from sklearn.preprocessing import PolynomialFeatures"
      ]
    },
    {
      "cell_type": "code",
      "execution_count": null,
      "metadata": {
        "id": "xOnjizkfpYLD"
      },
      "outputs": [],
      "source": [
        "poly = PolynomialFeatures(degree = 5)"
      ]
    },
    {
      "cell_type": "code",
      "execution_count": null,
      "metadata": {
        "colab": {
          "base_uri": "https://localhost:8080/"
        },
        "id": "ttv5B5qepYLE",
        "outputId": "5d72f6a7-53b7-4866-dd31-2b046d44e96f"
      },
      "outputs": [
        {
          "data": {
            "text/plain": [
              "array([[  1.,   0.,   0.,   0.,   0.,   0.],\n",
              "       [  1.,   1.,   1.,   1.,   1.,   1.],\n",
              "       [  1.,   2.,   4.,   8.,  16.,  32.],\n",
              "       [  1.,   3.,   9.,  27.,  81., 243.]])"
            ]
          },
          "execution_count": 24,
          "metadata": {},
          "output_type": "execute_result"
        }
      ],
      "source": [
        "import numpy as np\n",
        "\n",
        "X_example = np.array([0,1,2,3])\n",
        "X_example = X_example.reshape(-1,1)\n",
        "poly.fit_transform(X_example)"
      ]
    },
    {
      "cell_type": "code",
      "execution_count": null,
      "metadata": {
        "id": "T0URCw3XpYLE"
      },
      "outputs": [],
      "source": [
        "X_train_poly = poly.fit_transform(X_train.values.reshape(-1,1))\n",
        "poly_reg = linear_model.LinearRegression().fit(X_train_poly,y_train.values)"
      ]
    },
    {
      "cell_type": "code",
      "execution_count": null,
      "metadata": {
        "colab": {
          "base_uri": "https://localhost:8080/"
        },
        "id": "HoSG0KmgpYLE",
        "outputId": "6d0d50b9-9e35-43a2-853c-5fbfab75457b"
      },
      "outputs": [
        {
          "name": "stdout",
          "output_type": "stream",
          "text": [
            "0.0005591747261244887\n",
            "[ 0.00000000e+00  5.96703298e-01 -2.09378185e+00  4.80747082e+01\n",
            "  3.39018082e+02  1.71746614e+03]\n"
          ]
        }
      ],
      "source": [
        "print(poly_reg.intercept_)\n",
        "print(poly_reg.coef_)"
      ]
    },
    {
      "cell_type": "code",
      "execution_count": null,
      "metadata": {
        "colab": {
          "base_uri": "https://localhost:8080/",
          "height": 296
        },
        "id": "bKrpZLfypYLE",
        "outputId": "cf294ae2-b37f-4ac0-8b52-e0e42cfd4ac3"
      },
      "outputs": [
        {
          "data": {
            "text/plain": [
              "Text(0, 0.5, 'MCD')"
            ]
          },
          "execution_count": 27,
          "metadata": {},
          "output_type": "execute_result"
        },
        {
          "data": {
            "image/png": "[encoded data removed]",
            "text/plain": [
              "<Figure size 432x288 with 1 Axes>"
            ]
          },
          "metadata": {
            "needs_background": "light"
          },
          "output_type": "display_data"
        }
      ],
      "source": [
        "pred_train_5 = poly_reg.predict(X_train_poly)\n",
        "plt.scatter(X_train.values,y_train.values,color='black')\n",
        "plt.plot(X_train.values,pred_train_5,color='black')\n",
        "plt.xlabel('SP500')\n",
        "plt.ylabel(\"MCD\")"
      ]
    },
    {
      "cell_type": "code",
      "execution_count": null,
      "metadata": {
        "colab": {
          "base_uri": "https://localhost:8080/"
        },
        "id": "C7mFlpf9pYLF",
        "outputId": "33b3b5b0-6d01-408c-ef40-a16683985cc3"
      },
      "outputs": [
        {
          "name": "stdout",
          "output_type": "stream",
          "text": [
            "0.00012051143117314137\n"
          ]
        }
      ],
      "source": [
        "MSE5 = mean_squared_error(pred_train_5,y_train)\n",
        "print(MSE5)"
      ]
    },
    {
      "cell_type": "code",
      "execution_count": null,
      "metadata": {
        "colab": {
          "base_uri": "https://localhost:8080/"
        },
        "id": "vHigVGyYpYLF",
        "outputId": "7f7e5e5a-1083-4269-821d-a9adb483ee4e"
      },
      "outputs": [
        {
          "name": "stdout",
          "output_type": "stream",
          "text": [
            "degree =  1  MSE =  0.00013065460681415818\n",
            "degree =  2  MSE =  0.0001302424714407842\n",
            "degree =  3  MSE =  0.0001210581489243355\n",
            "degree =  4  MSE =  0.00012057376646830111\n",
            "degree =  5  MSE =  0.00012051143117314137\n",
            "degree =  10  MSE =  0.00011846611257529976\n",
            "degree =  15  MSE =  0.00010771558782348831\n",
            "degree =  20  MSE =  0.00010771558780544144\n",
            "degree =  25  MSE =  0.00010771774965682435\n"
          ]
        }
      ],
      "source": [
        "degrees = [1,2,3,4,5,10,15,20,25]\n",
        "MSE_train = np.empty(0)\n",
        "for degree in degrees:\n",
        "    poly = PolynomialFeatures(degree = degree)\n",
        "    X_train_poly = poly.fit_transform(X_train.values.reshape(-1,1))\n",
        "    poly_reg = linear_model.LinearRegression().fit(X_train_poly,y_train)\n",
        "    pred_train = poly_reg.predict(X_train_poly)\n",
        "    MSE = mean_squared_error(pred_train,y_train)\n",
        "    MSE_train = np.append(MSE_train,MSE)\n",
        "    print('degree = ',degree,' MSE = ',MSE)"
      ]
    },
    {
      "cell_type": "markdown",
      "metadata": {
        "id": "9Oz4JkXwpYLF"
      },
      "source": [
        "### 検証"
      ]
    },
    {
      "cell_type": "markdown",
      "metadata": {
        "id": "DmcSkvilpYLF"
      },
      "source": [
        "#### ホールドアウト検証 "
      ]
    },
    {
      "cell_type": "code",
      "execution_count": null,
      "metadata": {
        "colab": {
          "base_uri": "https://localhost:8080/"
        },
        "id": "UEJ4_LempYLG",
        "outputId": "01cd8451-9ecf-4889-8ce4-b45894063fae"
      },
      "outputs": [
        {
          "name": "stdout",
          "output_type": "stream",
          "text": [
            "degree =  1  MSE =  9.052477144726646e-05\n",
            "degree =  2  MSE =  9.0451310889978e-05\n",
            "degree =  3  MSE =  8.383270165654277e-05\n",
            "degree =  4  MSE =  8.383417867618403e-05\n",
            "degree =  5  MSE =  8.38491573400118e-05\n",
            "degree =  10  MSE =  8.649482737020424e-05\n",
            "degree =  15  MSE =  0.00011416877699587755\n",
            "degree =  20  MSE =  0.00011416878217285048\n",
            "degree =  25  MSE =  0.00011419070215728996\n"
          ]
        }
      ],
      "source": [
        "MSE_val = np.empty(0)\n",
        "for degree in degrees:\n",
        "    poly = PolynomialFeatures(degree = degree)\n",
        "    X_train_poly = poly.fit_transform(X_train.values.reshape(-1,1))\n",
        "    X_val_poly = poly.fit_transform(X_val.values.reshape(-1,1))\n",
        "    poly_reg = linear_model.LinearRegression().fit(X_train_poly,y_train.values)\n",
        "    pred_val = poly_reg.predict(X_val_poly)\n",
        "    MSE = mean_squared_error(pred_val,y_val.values)\n",
        "    MSE_val = np.append(MSE_val,MSE)\n",
        "\n",
        "    print('degree = ',degree,' MSE = ',MSE)    "
      ]
    },
    {
      "cell_type": "code",
      "execution_count": null,
      "metadata": {
        "colab": {
          "base_uri": "https://localhost:8080/",
          "height": 296
        },
        "id": "rC0BLktXpYLG",
        "outputId": "2ed96e9b-9db9-435b-8f0e-08176eed2fa3"
      },
      "outputs": [
        {
          "data": {
            "text/plain": [
              "<matplotlib.legend.Legend at 0x7fdee9fc6fd0>"
            ]
          },
          "execution_count": 31,
          "metadata": {},
          "output_type": "execute_result"
        },
        {
          "data": {
            "image/png": "[encoded data removed]",
            "text/plain": [
              "<Figure size 432x288 with 1 Axes>"
            ]
          },
          "metadata": {
            "needs_background": "light"
          },
          "output_type": "display_data"
        }
      ],
      "source": [
        "plt.plot(degrees,MSE_val,color='black',linestyle = 'dashed',label='validation')\n",
        "plt.plot(degrees,MSE_train,color='black',linestyle = 'solid',label = 'train')\n",
        "plt.xlabel('degree')\n",
        "plt.ylabel(\"RMSE\")\n",
        "plt.legend(loc = 'best')"
      ]
    },
    {
      "cell_type": "markdown",
      "metadata": {
        "id": "o2YNbMa9pYLG"
      },
      "source": [
        "#### 交差検証とウォーク・フォワード "
      ]
    },
    {
      "cell_type": "code",
      "execution_count": null,
      "metadata": {
        "colab": {
          "base_uri": "https://localhost:8080/"
        },
        "id": "K-ZM_ro_pYLH",
        "outputId": "0de82ad1-06fb-4354-f796-70ae21df0500"
      },
      "outputs": [
        {
          "name": "stdout",
          "output_type": "stream",
          "text": [
            "degree  1 MSE train 8.60197736710908e-05 MSE val 0.00015229167788522314\n",
            "degree  2 MSE train 8.592147964884063e-05 MSE val 0.00015162795193958187\n",
            "degree  3 MSE train 8.411899103495005e-05 MSE val 0.000134823905717988\n",
            "degree  4 MSE train 8.383765487081447e-05 MSE val 0.0003172046092680442\n",
            "degree  5 MSE train 8.369631096499638e-05 MSE val 0.0034452519702313027\n",
            "degree  10 MSE train 8.249559734671821e-05 MSE val 2293746.494509938\n",
            "degree  15 MSE train 8.089839586113066e-05 MSE val 2296068.608838444\n",
            "degree  20 MSE train 8.089839592486812e-05 MSE val 2296068.608838986\n",
            "degree  25 MSE train 8.090896233047916e-05 MSE val 2287265.0033197533\n"
          ]
        }
      ],
      "source": [
        "from sklearn.model_selection import TimeSeriesSplit\n",
        "\n",
        "tscv = TimeSeriesSplit(n_splits = 5)\n",
        "\n",
        "for degree in degrees:\n",
        "    MSE_train = np.empty(0)\n",
        "    MSE_val = np.empty(0)\n",
        "    for train, val in tscv.split(df_rp):\n",
        "        X_train_cross = df_rp.iloc[train]['SP500']\n",
        "        y_train_cross = df_rp.iloc[train]['MCD']\n",
        "        X_val_cross = df_rp.iloc[val]['SP500']\n",
        "        y_val_cross = df_rp.iloc[val]['MCD']\n",
        "    \n",
        "        poly = PolynomialFeatures(degree = degree)\n",
        "        X_train_poly = poly.fit_transform(X_train_cross.values.reshape(-1,1))\n",
        "        X_val_poly = poly.fit_transform(X_val_cross.values.reshape(-1,1))\n",
        "        poly_reg = linear_model.LinearRegression().fit(X_train_poly,y_train_cross)\n",
        "        pred_train = poly_reg.predict(X_train_poly)\n",
        "        pred_val = poly_reg.predict(X_val_poly)\n",
        "        MSE_train = np.append(MSE_train,mean_squared_error(pred_train,y_train_cross))\n",
        "        MSE_val = np.append(MSE_val,mean_squared_error(pred_val,y_val_cross))\n",
        "        \n",
        "    print('degree ',degree, 'MSE train', MSE_train.mean(), 'MSE val', MSE_val.mean())\n",
        "        "
      ]
    },
    {
      "cell_type": "markdown",
      "metadata": {
        "id": "8hE-yFXKpYLI"
      },
      "source": [
        "### 正則化 "
      ]
    },
    {
      "cell_type": "code",
      "execution_count": null,
      "metadata": {
        "id": "Cc5aNSGJpYLI"
      },
      "outputs": [],
      "source": [
        "degree = 25\n",
        "poly = PolynomialFeatures(degree = degree)\n",
        "X_poly_train = poly.fit_transform(X_train.values.reshape(-1,1))\n",
        "X_poly_val = poly.fit_transform(X_val.values.reshape(-1,1))\n",
        "poly_reg = linear_model.LinearRegression().fit(X_poly_train,y_train)\n",
        "pred = poly_reg.predict(X_poly_val)\n",
        "\n",
        "poly_reg_Ridge = linear_model.Ridge(alpha = 0.0001).fit(X_poly_train,y_train)\n",
        "pred_Ridge = poly_reg_Ridge.predict(X_poly_val)\n"
      ]
    },
    {
      "cell_type": "code",
      "execution_count": null,
      "metadata": {
        "colab": {
          "base_uri": "https://localhost:8080/"
        },
        "id": "lbOkmNpbpYLI",
        "outputId": "25c62458-faaa-4c0a-d205-b7f02dc09e77"
      },
      "outputs": [
        {
          "name": "stdout",
          "output_type": "stream",
          "text": [
            "MSE for regression 0.00011419070215728996\n",
            "MSE for Ridge regression 9.012535937576375e-05\n"
          ]
        }
      ],
      "source": [
        "print('MSE for regression', mean_squared_error(pred,y_val))\n",
        "print('MSE for Ridge regression', mean_squared_error(pred_Ridge,y_val))\n"
      ]
    },
    {
      "cell_type": "code",
      "execution_count": null,
      "metadata": {
        "colab": {
          "base_uri": "https://localhost:8080/"
        },
        "id": "zHSdYItIpYLJ",
        "outputId": "26d54046-0738-4878-c2f7-08e87670e726"
      },
      "outputs": [
        {
          "data": {
            "text/plain": [
              "array([ 1.17312853e+09,  3.86359147e-01, -2.08538393e+01,  1.32673240e+03,\n",
              "        6.45983041e+04, -1.40090754e+06, -4.96622808e+07,  5.80563095e+08,\n",
              "        1.39541309e+10, -9.40509926e+10, -1.63950920e+12,  5.06070563e+12,\n",
              "        6.87807441e+13, -2.84957730e+12,  2.14167850e+12, -1.12103489e+11,\n",
              "        4.32658051e+10, -2.73132372e+09,  7.31585739e+08, -5.38599017e+07,\n",
              "        1.13474670e+07, -9.45723577e+05,  1.68494874e+05, -1.54831178e+04,\n",
              "        2.44825949e+03, -2.42475643e+02])"
            ]
          },
          "execution_count": 35,
          "metadata": {},
          "output_type": "execute_result"
        }
      ],
      "source": [
        "poly_reg.coef_"
      ]
    },
    {
      "cell_type": "code",
      "execution_count": null,
      "metadata": {
        "colab": {
          "base_uri": "https://localhost:8080/"
        },
        "id": "p37d94rVpYLJ",
        "outputId": "93fe9cdc-4f98-4adc-be8b-8e2f63343de3"
      },
      "outputs": [
        {
          "data": {
            "text/plain": [
              "array([ 0.00000000e+00,  8.13488916e-01, -6.88238862e-01,  1.58688029e+00,\n",
              "       -4.53990904e-02,  1.90880046e-02, -9.60425283e-04,  2.35838872e-04,\n",
              "       -1.65872969e-05,  3.04713568e-06, -2.62764455e-07,  4.07789889e-08,\n",
              "       -3.98724887e-09,  5.59481643e-10, -5.91272239e-11,  7.80539701e-12,\n",
              "       -8.65564443e-13,  1.10085940e-13, -1.25767237e-14,  1.56346618e-15,\n",
              "       -1.81935198e-16,  2.23023624e-17, -2.62491404e-18,  3.19011867e-19,\n",
              "       -3.78109243e-20,  4.57095336e-21])"
            ]
          },
          "execution_count": 36,
          "metadata": {},
          "output_type": "execute_result"
        }
      ],
      "source": [
        "poly_reg_Ridge.coef_"
      ]
    },
    {
      "cell_type": "markdown",
      "metadata": {
        "id": "Hk23D6VFpYLJ"
      },
      "source": [
        "### グリッドサーチ "
      ]
    },
    {
      "cell_type": "code",
      "execution_count": null,
      "metadata": {
        "colab": {
          "base_uri": "https://localhost:8080/"
        },
        "id": "5Y70zV4BpYLJ",
        "outputId": "1f5307c7-df7c-4add-cf9e-503bb35b8c33"
      },
      "outputs": [
        {
          "name": "stdout",
          "output_type": "stream",
          "text": [
            "degree  1 alpha  0.01 MSE train 8.732224922023858e-05 MSE val 0.00016147234219877088\n",
            "optimal degree is  1  optimal alpha is  0.01 MSE val 0.00016147234219877088\n",
            "degree  1 alpha  0.1 MSE train 9.577414221819118e-05 MSE val 0.00020154719367731998\n",
            "optimal degree is  1  optimal alpha is  0.01 MSE val 0.00016147234219877088\n",
            "degree  1 alpha  1 MSE train 0.00011183422102605395 MSE val 0.0002355130938124457\n",
            "optimal degree is  1  optimal alpha is  0.01 MSE val 0.00016147234219877088\n",
            "degree  1 alpha  10 MSE train 0.00011717724611562996 MSE val 0.00024242600776802183\n",
            "optimal degree is  1  optimal alpha is  0.01 MSE val 0.00016147234219877088\n",
            "degree  1 alpha  100 MSE train 0.0001178323506346109 MSE val 0.0002432060469200019\n",
            "optimal degree is  1  optimal alpha is  0.01 MSE val 0.00016147234219877088\n",
            "degree  2 alpha  0.01 MSE train 8.731341071784016e-05 MSE val 0.00016145976881300883\n",
            "optimal degree is  2  optimal alpha is  0.01 MSE val 0.00016145976881300883\n",
            "degree  2 alpha  0.1 MSE train 9.57718956569741e-05 MSE val 0.00020154428106656646\n",
            "optimal degree is  2  optimal alpha is  0.01 MSE val 0.00016145976881300883\n",
            "degree  2 alpha  1 MSE train 0.00011183350127304823 MSE val 0.0002355125448538048\n",
            "optimal degree is  2  optimal alpha is  0.01 MSE val 0.00016145976881300883\n",
            "degree  2 alpha  10 MSE train 0.0001171771523831305 MSE val 0.00024242594332957068\n",
            "optimal degree is  2  optimal alpha is  0.01 MSE val 0.00016145976881300883\n",
            "degree  2 alpha  100 MSE train 0.0001178323409794764 MSE val 0.00024320604035328917\n",
            "optimal degree is  2  optimal alpha is  0.01 MSE val 0.00016145976881300883\n",
            "degree  3 alpha  0.01 MSE train 8.731205592172237e-05 MSE val 0.0001614588512302604\n",
            "optimal degree is  3  optimal alpha is  0.01 MSE val 0.0001614588512302604\n",
            "degree  3 alpha  0.1 MSE train 9.57715426936184e-05 MSE val 0.00020154417200325117\n",
            "optimal degree is  3  optimal alpha is  0.01 MSE val 0.0001614588512302604\n",
            "degree  3 alpha  1 MSE train 0.00011183337049850729 MSE val 0.0002355125273433111\n",
            "optimal degree is  3  optimal alpha is  0.01 MSE val 0.0001614588512302604\n",
            "degree  3 alpha  10 MSE train 0.00011717713493435874 MSE val 0.00024242594084492898\n",
            "optimal degree is  3  optimal alpha is  0.01 MSE val 0.0001614588512302604\n",
            "degree  3 alpha  100 MSE train 0.00011783233917762475 MSE val 0.0002432060400939878\n",
            "optimal degree is  3  optimal alpha is  0.01 MSE val 0.0001614588512302604\n",
            "degree  5 alpha  0.01 MSE train 8.73120528467474e-05 MSE val 0.00016145884994415438\n",
            "optimal degree is  5  optimal alpha is  0.01 MSE val 0.00016145884994415438\n",
            "degree  5 alpha  0.1 MSE train 9.577154204693686e-05 MSE val 0.0002015441719581625\n",
            "optimal degree is  5  optimal alpha is  0.01 MSE val 0.00016145884994415438\n",
            "degree  5 alpha  1 MSE train 0.0001118333703128517 MSE val 0.0002355125273395025\n",
            "optimal degree is  5  optimal alpha is  0.01 MSE val 0.00016145884994415438\n",
            "degree  5 alpha  10 MSE train 0.00011717713491054785 MSE val 0.00024242594084384752\n",
            "optimal degree is  5  optimal alpha is  0.01 MSE val 0.00016145884994415438\n",
            "degree  5 alpha  100 MSE train 0.00011783233917517593 MSE val 0.00024320604009386878\n",
            "optimal degree is  5  optimal alpha is  0.01 MSE val 0.00016145884994415438\n",
            "degree  10 alpha  0.01 MSE train 8.731205284588631e-05 MSE val 0.0001614588499438585\n",
            "optimal degree is  10  optimal alpha is  0.01 MSE val 0.0001614588499438585\n",
            "degree  10 alpha  0.1 MSE train 9.577154204676435e-05 MSE val 0.00020154417195816289\n",
            "optimal degree is  10  optimal alpha is  0.01 MSE val 0.0001614588499438585\n",
            "degree  10 alpha  1 MSE train 0.00011183337031280363 MSE val 0.00023551252733950388\n",
            "optimal degree is  10  optimal alpha is  0.01 MSE val 0.0001614588499438585\n",
            "degree  10 alpha  10 MSE train 0.00011717713491054172 MSE val 0.00024242594084384746\n",
            "optimal degree is  10  optimal alpha is  0.01 MSE val 0.0001614588499438585\n",
            "degree  10 alpha  100 MSE train 0.00011783233917517528 MSE val 0.00024320604009386878\n",
            "optimal degree is  10  optimal alpha is  0.01 MSE val 0.0001614588499438585\n",
            "degree  30 alpha  0.01 MSE train 8.731205284588631e-05 MSE val 0.0001614588499438585\n",
            "optimal degree is  10  optimal alpha is  0.01 MSE val 0.0001614588499438585\n",
            "degree  30 alpha  0.1 MSE train 9.577154204676435e-05 MSE val 0.00020154417195816289\n",
            "optimal degree is  10  optimal alpha is  0.01 MSE val 0.0001614588499438585\n",
            "degree  30 alpha  1 MSE train 0.00011183337031280363 MSE val 0.00023551252733950388\n",
            "optimal degree is  10  optimal alpha is  0.01 MSE val 0.0001614588499438585\n",
            "degree  30 alpha  10 MSE train 0.00011717713491054172 MSE val 0.00024242594084384746\n",
            "optimal degree is  10  optimal alpha is  0.01 MSE val 0.0001614588499438585\n",
            "degree  30 alpha  100 MSE train 0.00011783233917517528 MSE val 0.00024320604009386878\n",
            "optimal degree is  10  optimal alpha is  0.01 MSE val 0.0001614588499438585\n",
            "degree  50 alpha  0.01 MSE train 8.731205284588631e-05 MSE val 0.0001614588499438585\n",
            "optimal degree is  10  optimal alpha is  0.01 MSE val 0.0001614588499438585\n",
            "degree  50 alpha  0.1 MSE train 9.577154204676435e-05 MSE val 0.00020154417195816289\n",
            "optimal degree is  10  optimal alpha is  0.01 MSE val 0.0001614588499438585\n",
            "degree  50 alpha  1 MSE train 0.00011183337031280363 MSE val 0.00023551252733950388\n",
            "optimal degree is  10  optimal alpha is  0.01 MSE val 0.0001614588499438585\n",
            "degree  50 alpha  10 MSE train 0.00011717713491054172 MSE val 0.00024242594084384746\n",
            "optimal degree is  10  optimal alpha is  0.01 MSE val 0.0001614588499438585\n",
            "degree  50 alpha  100 MSE train 0.00011783233917517528 MSE val 0.00024320604009386878\n",
            "optimal degree is  10  optimal alpha is  0.01 MSE val 0.0001614588499438585\n",
            "degree  100 alpha  0.01 MSE train 8.731205284588631e-05 MSE val 0.0001614588499438585\n",
            "optimal degree is  10  optimal alpha is  0.01 MSE val 0.0001614588499438585\n",
            "degree  100 alpha  0.1 MSE train 9.577154204676435e-05 MSE val 0.00020154417195816289\n",
            "optimal degree is  10  optimal alpha is  0.01 MSE val 0.0001614588499438585\n",
            "degree  100 alpha  1 MSE train 0.00011183337031280363 MSE val 0.00023551252733950388\n",
            "optimal degree is  10  optimal alpha is  0.01 MSE val 0.0001614588499438585\n",
            "degree  100 alpha  10 MSE train 0.00011717713491054172 MSE val 0.00024242594084384746\n",
            "optimal degree is  10  optimal alpha is  0.01 MSE val 0.0001614588499438585\n",
            "degree  100 alpha  100 MSE train 0.00011783233917517528 MSE val 0.00024320604009386878\n",
            "optimal degree is  10  optimal alpha is  0.01 MSE val 0.0001614588499438585\n",
            "degree  200 alpha  0.01 MSE train 8.731205284588631e-05 MSE val 0.0001614588499438585\n",
            "optimal degree is  10  optimal alpha is  0.01 MSE val 0.0001614588499438585\n",
            "degree  200 alpha  0.1 MSE train 9.577154204676435e-05 MSE val 0.00020154417195816289\n",
            "optimal degree is  10  optimal alpha is  0.01 MSE val 0.0001614588499438585\n",
            "degree  200 alpha  1 MSE train 0.00011183337031280363 MSE val 0.00023551252733950388\n",
            "optimal degree is  10  optimal alpha is  0.01 MSE val 0.0001614588499438585\n",
            "degree  200 alpha  10 MSE train 0.00011717713491054172 MSE val 0.00024242594084384746\n",
            "optimal degree is  10  optimal alpha is  0.01 MSE val 0.0001614588499438585\n",
            "degree  200 alpha  100 MSE train 0.00011783233917517528 MSE val 0.00024320604009386878\n",
            "optimal degree is  10  optimal alpha is  0.01 MSE val 0.0001614588499438585\n"
          ]
        }
      ],
      "source": [
        "degrees = [1,2,3,5,10,30,50,100,200]\n",
        "alphas = [0.01,0.1,1,10,100]\n",
        "\n",
        "tscv = TimeSeriesSplit(n_splits = 5)\n",
        "min_MSE_val = np.Inf\n",
        "opt_deg = degrees[0]\n",
        "opt_alpha = alphas[0]\n",
        "\n",
        "for degree in degrees:\n",
        "    for alpha in alphas:\n",
        "        MSE_train = np.empty(0)\n",
        "        MSE_val = np.empty(0)\n",
        "        for train, val in tscv.split(df_rp):\n",
        "            X_train_cross = df_rp.iloc[train]['SP500']\n",
        "            y_train_cross = df_rp.iloc[train]['MCD']\n",
        "            X_val_cross = df_rp.iloc[val]['SP500']\n",
        "            y_val_cross = df_rp.iloc[val]['MCD']\n",
        "    \n",
        "            poly = PolynomialFeatures(degree = degree)\n",
        "            X_train_poly = poly.fit_transform(X_train_cross.values.reshape(-1,1))\n",
        "            X_val_poly = poly.fit_transform(X_val_cross.values.reshape(-1,1))\n",
        "            poly_reg_Ridge = linear_model.Ridge(alpha = alpha).fit(X_train_poly,y_train_cross)\n",
        "            pred_train_Ridge = poly_reg_Ridge.predict(X_train_poly)\n",
        "            pred_val_Ridge = poly_reg_Ridge.predict(X_val_poly)\n",
        "            \n",
        "            MSE_train = np.append(MSE_train,mean_squared_error(pred_train_Ridge,y_train_cross))\n",
        "            MSE_val = np.append(MSE_val,mean_squared_error(pred_val_Ridge,y_val_cross))\n",
        "        \n",
        "        if min_MSE_val > MSE_val.mean():\n",
        "            min_MSE_val = MSE_val.mean()\n",
        "            opt_deg = degree\n",
        "            opt_alpha = alpha\n",
        "            \n",
        "        print('degree ',degree, 'alpha ',alpha,'MSE train', MSE_train.mean(), 'MSE val', MSE_val.mean())\n",
        "        print('optimal degree is ',opt_deg,' optimal alpha is ', opt_alpha, 'MSE val',min_MSE_val)"
      ]
    },
    {
      "cell_type": "code",
      "execution_count": null,
      "metadata": {
        "id": "La4FIHbxlOIC"
      },
      "outputs": [],
      "source": []
    }
  ],
  "metadata": {
    "celltoolbar": "Raw Cell Format",
    "colab": {
      "collapsed_sections": [],
      "include_colab_link": true,
      "name": "ch04_Regression.ipynb",
      "provenance": []
    },
    "kernelspec": {
      "display_name": "Python 3",
      "language": "python",
      "name": "python3"
    },
    "language_info": {
      "codemirror_mode": {
        "name": "ipython",
        "version": 3
      },
      "file_extension": ".py",
      "mimetype": "text/x-python",
      "name": "python",
      "nbconvert_exporter": "python",
      "pygments_lexer": "ipython3",
      "version": "3.8.10"
    },
    "vscode": {
      "interpreter": {
        "hash": "31f2aee4e71d21fbe5cf8b01ff0e069b9275f58929596ceb00d14d90e3e16cd6"
      }
    }
  },
  "nbformat": 4,
  "nbformat_minor": 0
}
